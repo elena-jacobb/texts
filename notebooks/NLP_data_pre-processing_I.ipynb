{
 "cells": [
  {
   "cell_type": "markdown",
   "metadata": {},
   "source": [
    "# NLP data pre-processing I : converting .docx files into .txt files"
   ]
  },
  {
   "cell_type": "markdown",
   "metadata": {},
   "source": [
    "### 1. Rename Word documents to UUID names"
   ]
  },
  {
   "cell_type": "code",
   "execution_count": 11,
   "metadata": {},
   "outputs": [],
   "source": [
    "# If needed, check installed Python versions (different conda environments have different versions of Python) \n",
    "# and executable Python (where your system looks for pip-installed packages).\n",
    "# import sys\n",
    "# print(sys.path)\n",
    "# print(sys.executable)"
   ]
  },
  {
   "cell_type": "code",
   "execution_count": 12,
   "metadata": {},
   "outputs": [],
   "source": [
    "# Install docx2txt package where your executable Python is. \n",
    "# Ex:\n",
    "#!~/anaconda3/bin/python -m pip install docx2txt"
   ]
  },
  {
   "cell_type": "code",
   "execution_count": 13,
   "metadata": {},
   "outputs": [
    {
     "name": "stdout",
     "output_type": "stream",
     "text": [
      "docx2txt==0.8\n"
     ]
    }
   ],
   "source": [
    "# Check for installed dependecies\n",
    "\n",
    "import pkg_resources\n",
    "import types\n",
    "def get_imports():\n",
    "    for name, val in globals().items():\n",
    "        if isinstance(val, types.ModuleType):\n",
    "            # Split ensures you get root package, \n",
    "            # not just imported function\n",
    "            name = val.__name__.split(\".\")[0]\n",
    "\n",
    "        elif isinstance(val, type):\n",
    "            name = val.__module__.split(\".\")[0]\n",
    "\n",
    "        # Some packages are weird and have different\n",
    "        # imported names vs. system/pip names. Unfortunately,\n",
    "        # there is no systematic way to get pip names from\n",
    "        # a package's imported name. You'll have to had\n",
    "        # exceptions to this list manually!\n",
    "        poorly_named_packages = {\n",
    "            \"PIL\": \"Pillow\",\n",
    "            \"sklearn\": \"scikit-learn\"\n",
    "        }\n",
    "        if name in poorly_named_packages.keys():\n",
    "            name = poorly_named_packages[name]\n",
    "\n",
    "        yield name\n",
    "imports = list(set(get_imports()))\n",
    "\n",
    "# The only way I found to get the version of the root package\n",
    "# from only the name of the package is to cross-check the names \n",
    "# of installed packages vs. imported packages\n",
    "requirements = []\n",
    "for m in pkg_resources.working_set:\n",
    "    if m.project_name in imports and m.project_name!=\"pip\":\n",
    "        requirements.append((m.project_name, m.version))\n",
    "\n",
    "for r in requirements:\n",
    "    print(\"{}=={}\".format(*r))"
   ]
  },
  {
   "cell_type": "code",
   "execution_count": 14,
   "metadata": {},
   "outputs": [],
   "source": [
    "import os\n",
    "import uuid\n",
    "import shutil\n",
    "import docx2txt"
   ]
  },
  {
   "cell_type": "code",
   "execution_count": 15,
   "metadata": {},
   "outputs": [],
   "source": [
    "# To start, your directory has a single \"source_files\" directory with document folders containing Word files. \n",
    "\n",
    "# NOTE: any zipped Word files should be unzipped in the same directory(subdirectory), before proceeding."
   ]
  },
  {
   "cell_type": "code",
   "execution_count": 16,
   "metadata": {},
   "outputs": [],
   "source": [
    "def create_directory_if_not_exists(targetDir):\n",
    "    if not os.path.exists(targetDir):\n",
    "        os.mkdir(targetDir)\n",
    "        print(\"Directory '\" + targetDir +  \"' created \")\n",
    "    else:    \n",
    "        print(\"Directory '\" + targetDir +  \"' already exists\")\n",
    "    return os.path.join(os.getcwd(), targetDir)\n",
    "\n",
    "\n",
    "def copytree(src, dst, symlinks=False, ignore=None):\n",
    "    for item in os.listdir(src):\n",
    "        s = os.path.join(src, item)\n",
    "        d = os.path.join(dst, item)\n",
    "        if os.path.isdir(s):\n",
    "            shutil.copytree(s, d, symlinks, ignore)\n",
    "        else:\n",
    "            shutil.copy2(s, d)\n",
    "                    \n",
    "                    \n",
    "def count_files(folder):\n",
    "    count = 0\n",
    "    for file in os.listdir(os.path.join(os.getcwd(), folder)):\n",
    "        count += 1\n",
    "    return count\n",
    "    \n",
    "\n",
    "def check_if_dir_exists(targetDir):\n",
    "    if not os.path.exists(targetDir):\n",
    "        print(\"Directory '\" + targetDir +  \"' does not exist.\")\n",
    "    else:    \n",
    "        print(\"Directory '\" + targetDir +  \"' exists.\")"
   ]
  },
  {
   "cell_type": "code",
   "execution_count": 17,
   "metadata": {},
   "outputs": [
    {
     "name": "stdout",
     "output_type": "stream",
     "text": [
      "Directory 'temp1' created \n"
     ]
    }
   ],
   "source": [
    "# 1. Duplicate the \"source_files\" directory\n",
    "\n",
    "path_parent = os.path.dirname(os.getcwd())\n",
    "\n",
    "source_dir = os.path.join(path_parent, \"source_files\")\n",
    "target_dir = create_directory_if_not_exists(\"temp1\")\n",
    "\n",
    "copytree(source_dir, target_dir)"
   ]
  },
  {
   "cell_type": "code",
   "execution_count": 18,
   "metadata": {},
   "outputs": [
    {
     "name": "stdout",
     "output_type": "stream",
     "text": [
      "Directory 'temp2' created \n"
     ]
    }
   ],
   "source": [
    "# 2. Give docx files UUID names and place them in temp2 directory. \n",
    "\n",
    "source_dir = os.path.join(os.getcwd(), \"temp1\")\n",
    "target_dir = create_directory_if_not_exists(\"temp2\")\n",
    "\n",
    "for foldername in os.listdir(source_dir):\n",
    "    \n",
    "    # Skip hidden \".DS_Store\" files in MacOS\n",
    "    if foldername[0] != \".\":  \n",
    "        subdirectory = os.path.join(os.getcwd(), \"temp1\", foldername)\n",
    "        \n",
    "        for filename in os.listdir(subdirectory):\n",
    "            if filename[0] != \".\":\n",
    "                file, extension = os.path.splitext(filename)\n",
    "                # replace file name with uuid-name \n",
    "                unique_filename = str(uuid.uuid4()) + extension\n",
    "                # rename original file with uuid-name and move into 'temp2' directory\n",
    "                os.rename(os.path.join(subdirectory,  filename), os.path.join(target_dir, unique_filename))"
   ]
  },
  {
   "cell_type": "code",
   "execution_count": 19,
   "metadata": {},
   "outputs": [
    {
     "name": "stdout",
     "output_type": "stream",
     "text": [
      "65\n"
     ]
    }
   ],
   "source": [
    "print(count_files(target_dir))"
   ]
  },
  {
   "cell_type": "markdown",
   "metadata": {},
   "source": [
    "### 2. Create simple text files from Word documents"
   ]
  },
  {
   "cell_type": "code",
   "execution_count": 20,
   "metadata": {},
   "outputs": [
    {
     "name": "stdout",
     "output_type": "stream",
     "text": [
      "Directory '/Users/monty/working_dir/Edilex-with-single-Python-file/text_files' created \n",
      "b932c119-cda9-45ac-bc54-2f1aac216897.txt\n",
      "c384640d-a2eb-4b4a-accc-5b0d2341a940.txt\n",
      "6efb6fcf-5c72-4caa-b8e3-a68f26602792.txt\n",
      "d93f5f96-e9b9-4895-924e-292853845fe4.txt\n",
      "76c75e1b-2fa0-4062-9385-a21d45e8a683.txt\n",
      "5a5d7d8a-f952-4fdc-8696-6db1ee7a145e.txt\n",
      "9c651a6c-9781-4309-9d14-6cc3e98a0c8f.txt\n",
      "8aa2c016-3ebe-4a13-b6bd-dff3311ec0c9.txt\n",
      "b43b337d-93db-4a3e-9465-a4674550c5c2.txt\n",
      "5cd307eb-1091-426b-8da3-25db1c257a54.txt\n",
      "5b5f1055-cd1d-4ce8-aa06-6b8852583758.txt\n",
      "6f4d6715-f275-40c2-abfb-69cd5ce061d8.txt\n",
      "c3e9fbfe-93da-47b3-a763-caed3461a03d.txt\n",
      "83d246b1-9c55-48fb-8e96-89285b550478.txt\n",
      "6ac06767-8a1f-4635-b919-d04609d05d24.txt\n",
      "e1de91d7-f3ba-4e0a-98b1-8fb6f62a41ed.txt\n",
      "fcd77064-36e8-442f-acbe-d1ac227b582b.txt\n",
      "ea75905c-cbd0-409e-9ba0-08e571ca0400.txt\n",
      "0041937d-ca0a-49a6-a4eb-6baf71b63c6f.txt\n",
      "80bb16c2-75dd-411d-9e06-c306f864f023.txt\n",
      "8dedca36-0f08-4d0b-9538-0a6f8153bc60.txt\n",
      "bcf5382e-3894-4a67-9af3-a7b9b78ae651.txt\n",
      "c04b19a0-140b-45ed-8992-e4396315d1de.txt\n",
      "2aeeaffb-78d2-4b8b-8b00-212762e3ac9f.txt\n",
      "a0c84507-e039-40c4-b2fa-9b9972935093.txt\n",
      "3b4dca7e-1928-4dab-ab02-a503d5cedb57.txt\n",
      "27cbda58-01de-49f0-a865-db24aaa9360e.txt\n",
      "7f2adacd-20c4-4761-83e0-2010a34de331.txt\n",
      "48e0bc64-37ec-4457-b5c8-9e692ab83808.txt\n",
      "069e8eac-9db7-4566-a223-b784310bff84.txt\n",
      "ce2fd167-bac4-4a43-bbd1-aa4fb1b43cd7.txt\n",
      "f859bcdb-4983-4aca-8d66-f787500948fd.txt\n",
      "a49c0d60-2463-4569-bf63-883ca1e2a992.txt\n",
      "052205f5-d2b8-44e4-8896-6db38bfd509a.txt\n",
      "3e932efc-f34e-4c9b-a9cd-b39490d610cf.txt\n",
      "c63efd38-197e-4910-b5c2-ff2eda05dc5a.txt\n",
      "150922b5-cd36-4357-b22f-3bffd0a70b77.txt\n",
      "36088336-3cfd-4f78-ac65-fa5d678188fd.txt\n",
      "22b7dd4f-8ddd-4a51-93fa-012989cba332.txt\n",
      "58fd02d4-20c1-49dd-b74f-a800310afa39.txt\n",
      "b6f18198-2901-4d3d-97cc-18097e2af7d8.txt\n",
      "af8e45f5-a895-470d-be23-9f12aea171b6.txt\n",
      "7e589661-95b9-4ce7-9ae8-44f9bdebd3c7.txt\n",
      "6ff27429-a80a-48b5-be0e-378b9d4053eb.txt\n",
      "2b7b0fc9-f429-4aab-995b-96771c1bdc53.txt\n",
      "647dff15-b565-4fb6-a5f8-ef8b348d6532.txt\n",
      "aec3a0ec-315e-41d8-b7fa-a3ec06a42390.txt\n",
      "ce7ce25e-41c0-4bec-bd53-cd204184aa56.txt\n",
      "d6d2d51c-cbc9-4eba-b318-9de53379055f.txt\n",
      "7d864a6b-f33d-458e-946d-b0592c5c9aa3.txt\n",
      "60360ad7-02b9-4c35-a440-0520882b4d5f.txt\n",
      "59d7eff8-273c-4fd2-a9de-e165f01ddac2.txt\n",
      "1fcdce60-a089-472c-a9b1-d0cec0792534.txt\n",
      "5fcfe0b4-786c-4d96-8225-2d2edc5da958.txt\n",
      "07b99908-be55-41af-a3f4-141d4b69b4f3.txt\n",
      "9a719daf-bdce-4444-9dc7-2922c4082f38.txt\n",
      "3bebbf49-4e1c-4ccf-b867-1841957268f5.txt\n",
      "79bdcce1-761c-4a8f-818a-c77dddd30d62.txt\n",
      "e8852b2b-3369-4d9d-933c-2c548d973c58.txt\n",
      "ed1314b0-3b7e-4d53-9236-339c4a1551f2.txt\n",
      "930f8716-1443-4283-aebd-0bf74ef521a7.txt\n",
      "6d07deec-f81f-429a-996b-55f18c209668.txt\n",
      "d4c2a405-8fb4-4269-800a-dcbef61f672f.txt\n",
      "9ba01c48-24ad-47b3-a1be-51c099491510.txt\n",
      "6b4a9aa4-e408-4872-aed1-a5545e094d3f.txt\n"
     ]
    }
   ],
   "source": [
    "source_dir = os.path.join(os.getcwd(), \"temp2\")\n",
    "\n",
    "path_parent = os.path.dirname(os.getcwd())\n",
    "target_dir = create_directory_if_not_exists(os.path.join(path_parent, \"text_files\"))\n",
    "\n",
    "for process_file in  os.listdir(source_dir):\n",
    "    \n",
    "    if process_file[0] != \".\":\n",
    "        file, _ = os.path.splitext(process_file)\n",
    "\n",
    "        # Create a new text file name by concatenating the .txt extension to file UUID\n",
    "        dest_file = file + '.txt'\n",
    "        print(dest_file)\n",
    "        \n",
    "        #extract text from the file\n",
    "        content = docx2txt.process(os.path.join(source_dir, process_file))\n",
    "\n",
    "        write_text_file = open(os.path.join(target_dir, dest_file), \"w+\")\n",
    "\n",
    "        #write the content and close the newly created file\n",
    "        write_text_file.write(content)\n",
    "        write_text_file.close()"
   ]
  },
  {
   "cell_type": "code",
   "execution_count": 21,
   "metadata": {},
   "outputs": [
    {
     "name": "stdout",
     "output_type": "stream",
     "text": [
      "65\n"
     ]
    }
   ],
   "source": [
    "print(count_files(target_dir))"
   ]
  },
  {
   "cell_type": "code",
   "execution_count": 22,
   "metadata": {},
   "outputs": [],
   "source": [
    "# 3. Delete temp1 and temp2 directories.\n",
    "dir1 = os.path.join(os.getcwd(), \"temp1\")\n",
    "dir2 = os.path.join(os.getcwd(), \"temp2\")\n",
    "shutil.rmtree(dir1)\n",
    "shutil.rmtree(dir2)"
   ]
  },
  {
   "cell_type": "code",
   "execution_count": 23,
   "metadata": {},
   "outputs": [
    {
     "name": "stdout",
     "output_type": "stream",
     "text": [
      "Directory 'temp1' does not exist.\n",
      "Directory 'temp2' does not exist.\n"
     ]
    }
   ],
   "source": [
    "check_if_dir_exists(\"temp1\")\n",
    "check_if_dir_exists(\"temp2\")"
   ]
  },
  {
   "cell_type": "code",
   "execution_count": null,
   "metadata": {},
   "outputs": [],
   "source": []
  }
 ],
 "metadata": {
  "kernelspec": {
   "display_name": "Python 3",
   "language": "python",
   "name": "python3"
  },
  "language_info": {
   "codemirror_mode": {
    "name": "ipython",
    "version": 3
   },
   "file_extension": ".py",
   "mimetype": "text/x-python",
   "name": "python",
   "nbconvert_exporter": "python",
   "pygments_lexer": "ipython3",
   "version": "3.7.6"
  }
 },
 "nbformat": 4,
 "nbformat_minor": 4
}
