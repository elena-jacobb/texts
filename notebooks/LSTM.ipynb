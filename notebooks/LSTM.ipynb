{
 "cells": [
  {
   "cell_type": "markdown",
   "metadata": {
    "colab_type": "text",
    "id": "hfyG4TnO8FwZ"
   },
   "source": [
    "# 1. Text cleaning"
   ]
  },
  {
   "cell_type": "markdown",
   "metadata": {},
   "source": [
    "### Import libraries and create utilitary functions"
   ]
  },
  {
   "cell_type": "code",
   "execution_count": 4,
   "metadata": {},
   "outputs": [],
   "source": [
    "#import sys"
   ]
  },
  {
   "cell_type": "code",
   "execution_count": 9,
   "metadata": {},
   "outputs": [],
   "source": [
    "#sys.executable"
   ]
  },
  {
   "cell_type": "code",
   "execution_count": 10,
   "metadata": {},
   "outputs": [],
   "source": [
    "#!~/anaconda3/bin/python -m pip install spacy"
   ]
  },
  {
   "cell_type": "code",
   "execution_count": 13,
   "metadata": {},
   "outputs": [],
   "source": [
    "#!python -m spacy download fr_core_news_sm"
   ]
  },
  {
   "cell_type": "code",
   "execution_count": 18,
   "metadata": {},
   "outputs": [],
   "source": [
    "#!~/anaconda3/bin/python -m pip install tensorflow"
   ]
  },
  {
   "cell_type": "code",
   "execution_count": 1,
   "metadata": {
    "colab": {},
    "colab_type": "code",
    "id": "v-3APuhzNveW"
   },
   "outputs": [],
   "source": [
    "import pandas as pd\n",
    "import re\n",
    "import string\n",
    "import os\n",
    "import random\n",
    "import spacy"
   ]
  },
  {
   "cell_type": "code",
   "execution_count": 2,
   "metadata": {},
   "outputs": [],
   "source": [
    "import tensorflow as tf"
   ]
  },
  {
   "cell_type": "code",
   "execution_count": 3,
   "metadata": {},
   "outputs": [],
   "source": [
    "# Set up path for the text files\n",
    "\n",
    "path_parent = os.path.dirname(os.getcwd())\n",
    "source_dir = os.path.join(path_parent, \"text_files\")"
   ]
  },
  {
   "cell_type": "code",
   "execution_count": 4,
   "metadata": {
    "colab": {},
    "colab_type": "code",
    "id": "miV5UACfOPyd"
   },
   "outputs": [],
   "source": [
    "def remove_space(text):\n",
    "    text = text.strip()\n",
    "    text = text.split()\n",
    "    return \" \".join(text)\n",
    "\n",
    "def show_random_text(sourceDir):\n",
    "    rand_text = random.choice(os.listdir(sourceDir))\n",
    "    \n",
    "    while rand_text[0] == \".\":\n",
    "        rand_text = random.choice(os.listdir(sourceDir))\n",
    "\n",
    "    with open(os.path.join(source_dir, rand_text), \"r\") as f:\n",
    "            data = f.read()\n",
    "    print(data)\n",
    "    \n",
    "def read_single_text(sourceDir):\n",
    "    rand_text = random.choice(os.listdir(sourceDir))\n",
    "    \n",
    "    while rand_text[0] == \".\":\n",
    "        rand_text = random.choice(os.listdir(sourceDir))\n",
    "\n",
    "    with open(os.path.join(source_dir, rand_text), \"r\") as f:\n",
    "            data = f.read()\n",
    "    return data"
   ]
  },
  {
   "cell_type": "code",
   "execution_count": 5,
   "metadata": {
    "colab": {},
    "colab_type": "code",
    "id": "NPeXlzjkS5Eo"
   },
   "outputs": [],
   "source": [
    "data = read_single_text(source_dir)"
   ]
  },
  {
   "cell_type": "code",
   "execution_count": 6,
   "metadata": {},
   "outputs": [
    {
     "data": {
      "text/plain": [
       "\"APPEL D’OFFRES NO DOCUMENT D’APPEL D’OFFRES (Sans contrat intégré) Page 2 de 3 Contrat Biens (Fournitures) Version détaillée 2019-12-20 «Denom_Soc_D_O» APPEL D’OFFRES NO «AO_No» «AO_Titre» Documentation d’appel d’offres APPEL D’OFFRES NO DOCUMENTATION D’APPELS D’OFFRES BIENS (FOURNITURES) CONTRAT Version détaillée (2019-12-20) . TABLE DES MATIÈRES PAGE PRÉAMBULE 9 0.00 INTERPRÉTATION 10 0.01 Terminologie 10 0.01.01 Appel d'Offres [Essentielle] 10 0.01.02 Avis d'Adjudication [Essentielle] 10 0.01.03 Bien [Importante] 10 0.01.04 Bien en Consignation [Facultative] 10 0.01.05 Bon de Commande [Essentielle] 10 0.01.06 Bordereau de Prix [Essentielle] 10 0.01.07 Changement de Contrôle [Essentielle] 10 0.01.08 Charge [Essentielle] 11 0.01.09 Contrat [Essentielle] 11 0.01.10 Devis [Essentielle] 11 0.01.11 Documents d'Appel d'Offres [Essentielle] 11 0.01.12 Établissement Participant [Essentielle] 11 0.01.13 Formulaire de Soumission [Essentielle] 11 0.01.14 Institution Financière [Essentielle] 12 0.01.15 ORGANISME PUBLIC [Essentielle] 12 0.01.16 PARTIE [Essentielle] 12 0.01.17 Personne [Essentielle] 12 0.01.18 Personne Liée [Essentielle] 12 0.01.19 Renseignement Confidentiel [Essentielle] 12 0.01.20 Renseignement Personnel [Essentielle] 12 0.01.21 Représentants Légaux [Essentielle] 13 0.01.22 Soumission [Essentielle] 13 0.02 Primauté [Importante] 13 0.03 Droit applicable [Essentielle] 13 0.04 Généralités 13 0.04.01 Dates et délais [Importante] 13 a) De rigueur 13 b) Calcul 13 0.04.02 Références financières [Importante] 14 0.04.03 Consentement [Importante] 14 1.00 OBJET. 14 2.00 CONTREPARTIE 14 2.01 Prix [Importante] 14 2.02 Ajustement [Importante] 14 2.03 Modification d’un prix [Essentielle] 14 2.03.01 Cas permis 14 2.03.02 Avis aux autres FOURNISSEURS 14 2.03.01 Cas permis 15 2.03.02 Avis aux autres FOURNISSEURS 15 2.04 Renouvellement [Facultative] 15 2.05 Transition [Facultative] 16 3.00 MODALITÉS DE PAIEMENT 16 3.01 Facturation [Importante] 16 3.02 Paiement [Importante] 17 3.03 Biens en Consignation [Facultative] 17 3.04 Lieu [Importante] 17 3.05 Vérification [Importante] 17 3.06 Compensation fiscale [Facultative] 17 3.06.01 Réquisition du ministre du Revenu 17 3.06.02 Effet de la remise 18 3.06.03 Renonciation 18 3.07 Intérêt [Facultative] 18 4.00 SÛRETÉS 18 4.01 Garantie d'exécution [Essentielle] 18 4.01.01 Constitution 18 4.01.02 Maintien 18 4.01.01 Constitution 19 4.01.02 Maintien 19 4.01.01 Constitution 19 4.01.02 Maintien 19 4.01.01 Constitution 19 4.01.02 Maintien 20 4.01.01 Constitution 20 4.01.02 Maintien 20 4.01.01 Constitution 20 4.01.02 Maintien 20 4.02 Appropriation [Essentielle] 20 4.03 Préavis à la caution [Essentielle] 21 4.03.01 Demande d'exécution 21 4.03.02 Indemnisation 21 4.04 Biens en Consignation [Facultative] 21 5.00 ATTESTATIONS RÉCIPROQUES 21 6.00 ATTESTATIONS DE L'ORGANISME PUBLIC 21 7.00 ATTESTATIONS DU FOURNISSEUR/PRESTATAIRE DE SERVICES/ENTREPRENEUR 22 7.01 Statut [Importante] 22 7.02 Capacité [Importante] 22 7.03 Divulgation [Importante] 22 8.00 OBLIGATION(S) RÉCIPROQUE(S) 22 8.01 Gestion du regroupement 22 8.01.01 Obligation des Établissements Participants [Importante] 22 8.01.02 Interdiction [Importante] 23 8.01.03 Ajout d'un établissement [Facultative] 23 a) Avis 23 b) Délai 23 a) Avis 23 b) Délai 23 8.02 Collaboration [Importante] 23 8.03 Information confidentielle [Importante] 24 8.04 Remplacement d'un représentant [Importante] 24 8.05 Exécution complète [Importante] 24 9.00 OBLIGATIONS DE L'ORGANISME PUBLIC 24 9.01 Chargé de projet [Importante] 24 9.02 Bon de Commande [Importante] 24 9.03 Non-responsabilité [Importante] 25 9.04 Biens en Consignation [Facultative] 25 9.04.01 Liste initiale 25 9.04.02 Bon de Commande 25 9.04.03 Conservation 25 9.04.04 Contrôle de l'inventaire 26 9.04.05 Utilisation 26 9.04.06 Fin du Contrat 26 9.05 Acceptation [Essentielle] 26 9.06 Inspection [Importante] 26 10.00 OBLIGATIONS DU FOURNISSEUR/PRESTATAIRE DE SERVICES/ENTREPRENEUR 26 10.01 Défaut [Importante] 26 10.02 Assurance responsabilité civile générale [Importante] 27 10.02.01 Preuve 27 10.02.02 Montant 27 10.02.03 Émetteur 27 10.02.04 Étendue de la responsabilité 27 10.03 Sous-contrat 27 10.03.01 Autorisation [Essentielle] 27 10.03.02 Exigences [Essentielle] 28 a) Liste 28 10.04 Autorisation de contracter [Importante] 28 10.05 Commandes [Importante] 28 10.05.01 Quantité 28 10.05.02 Conformité 28 10.06 Qualité [Importante] 29 10.06.01 Vices 29 10.06.02 Refus de Bien 29 a) Reprise 29 b) Remplacement 29 10.07 Remplacement d’un Bien [Essentielle] 29 10.08 Biens en Consignation [Facultative] 29 10.08.01 Liste Initiale 29 10.08.02 Livraison et remplacement 29 10.08.03 Entreposage 30 10.08.04 Utilisation 30 10.08.05 Vérification 30 10.08.06 Retrait 30 10.08.07 Homologation 30 10.08.08 Contrôle de l'inventaire 30 10.08.09 Reddition de compte 31 10.08.10 Fin du contrat 31 10.09 Production 31 10.09.01 Commande excédentaire [Facultative] 31 10.09.02 Contrôles et essais [Facultative] 31 10.09.03 Interruption [Importante] 31 10.09.04 Biens supprimés [Importante] 32 10.09.05 Incapacité [Importante] 32 10.09.06 Retrait [Importante] 32 10.10 Langue d'usage [Importante] 32 10.11 Transfert de propriété [Importante] 32 10.12 Perte [Importante] 32 10.13 Santé et sécurité [Importante] 32 10.13.01 Consignes 32 10.13.02 Mise à jour 33 10.13.03 Matières dangereuses 33 10.14 Livraison [Importante] 33 10.14.01 Délais et fréquence 33 10.14.02 Lieu 33 10.14.03 Emballage 33 10.14.04 Responsabilité 33 10.15 Inspection [Facultative] 33 10.16 Installation [Facultative] 34 10.17 Garantie [Facultative] 34 10.17.01 Étendue 34 10.17.02 Durée 34 10.17.03 Délai de réparation 34 10.18 Garantie du droit de propriété [Importante] 34 10.19 Conflits d'intérêts [Importante] 34 10.19.01 Engagement d'éviter 34 10.19.02 Avis 35 10.19.03 Portée 35 10.20 Engagement de confidentialité [Facultative] 35 10.21 Maintien du système d'assurance de la qualité [Facultative] 36 10.22 Indemnisation [Importante] 36 10.22.01 « Perte » 36 10.22.02 Portée 37 10.22.03 Procédure 37 10.22.04 Limite 37 11.00 DISPOSITIONS PARTICULIÈRES 37 11.01 Cession sujette à autorisation [Importante] 38 11.02 Cession préautorisée [Importante] 38 11.03 Évaluation du rendement [Facultative] 38 12.00 DISPOSITIONS GÉNÉRALES 38 12.01 Avis [Essentielle] 38 12.02 Résolution de différends 39 12.02.01 Négociations de bonne foi [Essentielle] 39 12.02.02 Médiation [Importante] 39 a) Règles 39 b) Règlement 39 12.02.03 Arbitrage [Facultative] 39 a) Juridiction 39 b) Décision 40 c) Frais 40 a) Juridiction 40 b) Décision 40 c) Frais 40 12.03 Élection [Essentielle] 41 12.04 Modification [Essentielle] 41 12.05 Non-renonciation [Importante] 41 13.00 FIN DU CONTRAT 41 13.01 De gré à gré [Essentielle] 41 13.02 Sans préavis [Essentielle] 41 13.03 Avec préavis [Essentielle] 42 13.04 Changement de Contrôle [Importante] 42 13.05 Effets de la résiliation [Importante] 42 14.00 ENTRÉE EN VIGUEUR 43 15.00 DURÉE. 43 15.01 Probatoire [Facultative] 43 15.02 Expiration [Importante] 43 15.03 Renouvellement [Facultative] 44 15.04 Survie [Importante] 44 15.05 Non-reconduction [Importante] 44 16.00 PORTÉE 44 LISTE DES ANNEXES PAGE ANNEXE A - LISTE DES ÉTABLISSEMENTS PARTICIPANTS [Importante] 46 ANNEXE 0.01.10 - DEVIS [Importante] 47 ANNEXE 4.01 - CAUTIONNEMENT D'EXÉCUTION [Essentielle] 48 ANNEXE 10.03.02 - LISTE DES SOUS-CONTRACTANTS [Essentielle] 50 ANNEXE 10.20 A - ENGAGEMENT DE CONFIDENTIALITÉ [Facultative] 51 ANNEXE 10.20 B - FICHE D'INFORMATION SUR LA DESTRUCTION DES DOCUMENTS CONTENANT DES RENSEIGNEMENTS PERSONNELS [Facultative] 52 ANNEXE 10.20 C - ATTESTATIONS DE DESTRUCTION DES RENSEIGNEMENTS PERSONNELS ET CONFIDENTIELS [Facultative] 54 CONTRAT D’APPROVISIONNEMENT intervenu en la ville de Lieu de naissance de l'Appel d'Offres (Ville), province de Québec, Canada. (Individuel) ENTRE: Dénomination sociale, personne morale de droit public dûment constituée selon Loi régissant l'établissement, ayant sa principale place d’affaires au Adresse (# et rue), en la ville de Lieu principal de l'établisssement (Ville ou Municipalité), province de Québec, Code postal; CI-APRÈS DÉNOMMÉE L’« ORGANISME PUBLIC »; ET: LE FOURNISSEUR dûment identifié dans l’Avis d’Adjudication émis conformément aux modalités de l’Appel d’Offres portant le no Numéro de l'appel d'offres s’y rapportant; CI-APRÈS DÉNOMMÉ LE « FOURNISSEUR »; CI-APRÈS COLLECTIVEMENT DÉNOMMÉS LES « PARTIES ». OU (Mandataire) ENTRE: Dénomination sociale, personne morale de droit public dûment constituée selon Loi régissant l'établissement, ayant sa principale place d’affaires au Adresse (# et rue), en la ville de Lieu principal de l'établisssement (Ville ou Municipalité), province de Québec, Code postal, agissant aux présentes en qualité de mandataire des établissements identifiés à l’annexe A des présentes, dûment autorisée à agir à cette fin, tel qu’elle le déclare; CI-APRÈS DÉNOMMÉE L’«ORGANISME PUBLIC »; ET: LE FOURNISSEUR dûment identifié dans l’Avis d’adjudication émis conformément aux modalités de l’appel d’offres portant le numéro Numéro de l'appel d'offres s’y rapportant; CI-APRÈS DÉNOMMÉ LE « FOURNISSEUR »; CI-APRÈS COLLECTIVEMENT DÉNOMMÉS LES « PARTIES ». OU (Mandataire - Groupement d'approvisionnement en commun) ENTRE: Dénomination sociale, personne morale sans but lucratif dûment constituée selon Loi régissant l'établissement, ayant sa principale place d’affaires au Adresse (# et rue), en la ville de Lieu principal de l'établisssement (Ville ou Municipalité), province de Québec, Code postal, agissant aux présentes en qualité de mandataire des établissements identifiés à l’annexe A des présentes, dûment autorisée à agir à cette fin, tel qu’elle le déclare; CI-APRÈS DÉNOMMÉE L’«ORGANISME PUBLIC »; ET: LE FOURNISSEUR dûment identifié dans l’Avis d’Adjudication émis conformément aux modalités de l’appel d’offres portant le numéro Numéro de l'appel d'offres s’y rapportant; CI-APRÈS DÉNOMMÉ LE « FOURNISSEUR »; CI-APRÈS COLLECTIVEMENT DÉNOMMÉS LES « PARTIES ». PRÉAMBULE LES PARTIES DÉCLARENT CE QUI SUIT : L’ORGANISME PUBLIC a lancé l’Appel d’Offres portant le numéro Numéro de l'appel d'offres, se rapportant à l'acquisition Biens visés; Le FOURNISSEUR a répondu à cet Appel d’Offres et a présenté à cette fin une Soumission conforme aux exigences fixées à cet égard dans l’Appel d’Offres; La Soumission présentée par le FOURNISSEUR a été retenue conformément à la règle d’adjudication déterminée; Les PARTIES doivent maintenant procéder à l’exécution du Contrat visé par cet Appel d’Offres, étant entendu que toute information supplétive figurant dans l’Appel d’Offres ainsi que la Soumission déposée par le FOURNISSEUR font partie intégrante du Contrat, le cas échéant; de même, le Contrat lie chacun des Établissements Participants avec le FOURNISSEUR. À CES FINS, LES PARTIES CONVIENNENT CE QUI SUIT: OU LES PARTIES DÉCLARENT CE QUI SUIT : L’ORGANISME PUBLIC a lancé l’Appel d’Offres portant le numéro Numéro de l'appel d'offres, se rapportant à l'acquisition Biens visés; Le FOURNISSEUR a répondu à cet Appel d’Offres et a présenté à cette fin une Soumission conforme aux exigences fixées à cet égard dans l’Appel d’Offres; La Soumission présentée par le FOURNISSEUR a été retenue conformément à la règle d’adjudication déterminée; Les PARTIES doivent maintenant procéder à l’exécution du Contrat visé par cet Appel d’Offres, étant entendu que toute information supplétive figurant dans l’Appel d’Offres ainsi que la Soumission déposée par le FOURNISSEUR font partie intégrante du Contrat, le cas échéant. À CES FINS, LES PARTIES CONVIENNENT CE QUI SUIT: INTERPRÉTATION Terminologie À moins d’indication contraire dans le texte, les mots et expressions commençant par une majuscule qui apparaissent dans le Contrat, ou dans toute annexe ou documentation subordonnée à celui-ci, s’interprètent comme suit : Appel d'Offres [Essentielle] désigne l’appel d’offres no Numéro de l'appel d'offres, se rapportant à l'acquisition Biens visés; Avis d'Adjudication [Essentielle] désigne tout écrit par lequel l’ORGANISME PUBLIC avise un SOUMISSIONNAIRE que sa Soumission a été, partiellement ou totalement, acceptée ou sélectionnée; Bien [Importante] désigne le ou les biens visés par l’Appel d’Offres tels que décrits dans le Devis; Bien en Consignation [Facultative] désigne tout Bien figurant sur la liste de Biens en consignation dressée par l’ORGANISME PUBLIC conformément au Contrat ayant été livré à l’établissement de l'ORGANISME PUBLIC suite à l’émission d’un Bon de Commande de ce dernier à cette fin; Bon de Commande [Essentielle] désigne tout écrit émanant de l’ORGANISME PUBLIC, assujetti au Contrat, par lequel ce dernier place une commande de Biens auprès du FOURNISSEUR; Bordereau de Prix [Essentielle] désigne le document faisant partie du Formulaire de Soumission prescrit par l’ORGANISME PUBLIC et utilisé par le FOURNISSEUR pour proposer son Prix; OU désigne, relativement au Contrat, le document joint à l'Avis d'Adjudication, présentant le prix accepté par l'ORGANISME PUBLIC pour les Biens retenus; Changement de Contrôle [Essentielle] signifie, relativement à une PARTIE au Contrat ayant le statut d’une personne morale, n’importe lequel des événements suivants : l’acquisition directe ou indirecte par une Personne ou entité de titres d’une telle personne morale représentant plus de CINQUANTE POUR CENT (50%) des droits de vote de cette dernière; une entente portant sur la vente ou la disposition de tous ou de substantiellement tous les actifs de la personne morale; une réorganisation de la personne morale menant au transfert des droits conférés par le Contrat d’une PARTIE à une Personne liée; une fusion impliquant la personne morale; ou l’approbation par les actionnaires de la personne morale d’un plan pour la liquidation complète de cette dernière; Charge [Essentielle] désigne une cause légitime de préférence, un démembrement du droit de propriété, une modalité de la propriété, une restriction à l'exercice du droit de disposer et une sûreté conventionnelle ou légale; Contrat [Essentielle] désigne le présent document et comprend toutes les annexes s’y rattachant; Devis [Essentielle] désigne la documentation émanant de l’ORGANISME PUBLIC décrivant les Biens à être fournis, reproduite à l’annexe 0.01.10 des présentes; Documents d'Appel d'Offres [Essentielle] désigne l’ensemble de la documentation produite par l’ORGANISME PUBLIC aux fins de l’Appel d’Offres; Établissement Participant [Essentielle] désigne tout établissement, ayant initialement accepté de participer à l'Appel d'Offres ou ayant le droit d'adhérer ultérieurement au Contrat, dont le nom figure à l’annexe A des présentes; Formulaire de Soumission [Essentielle] désigne, relativement au Contrat, le formulaire de soumission dûment complété, signé et déposé par le FOURNISSEUR pour soumettre sa Soumission relativement à l’Appel d’Offres, subséquemment accepté par l’ORGANISME PUBLIC conformément à la procédure prévue aux Documents d’Appel d’Offres, incluant toutes ses annexes dont notamment le Bordereau de Prix; Institution Financière [Essentielle] désigne un assureur détenant un permis émis conformément à la Loi sur les assurances (RLRQ, chapitre A-32) l'autorisant à pratiquer l'assurance cautionnement, une société de fiducie titulaire d'un permis délivré en vertu de la Loi sur les sociétés de fiducie et les sociétés d'épargne (RLRQ, chapitre S-29.01), une coopérative de services financiers visée par la Loi sur les coopératives de services financiers (RLRQ, chapitre C-67.3), ou une banque au sens de la Loi sur les banques (L.C. 1991, c. 46); ORGANISME PUBLIC [Essentielle] (Individuel) désigne l’établissement ayant lancé l’Appel d’Offres; OU (Mandataire) désigne, selon le cas, un Établissement Participant agissant individuellement ou de concert avec un ou plusieurs autres Établissements Participants, le regroupement des Établissements Participants constitué pour l’Appel d’Offres agissant collectivement, ou leur mandataire; PARTIE [Essentielle] désigne toute partie réputée signataire du Contrat et comprend leurs Représentants Légaux; Personne [Essentielle] désigne, selon le cas, un particulier, une société de personnes, une société par actions, une compagnie, une coopérative, une association, un syndicat, une fiducie ou toute autre organisation possédant ou non une personnalité juridique propre, ainsi que toute autorité publique de juridiction étrangère, fédérale, provinciale, territoriale ou municipale, qui n’est pas PARTIE au Contrat et comprend leurs représentants légaux; Personne Liée [Essentielle] désigne, pour chaque PARTIE, toute Personne identifiée dans l’article 251(2) de la Loi de l’impôt sur le revenu (L.R.C. (1985), ch.1 (5e supp.)) ou toute Personne qui a un lien de dépendance avec cette PARTIE; Renseignement Confidentiel [Essentielle] désigne tout renseignement dont l’accès est assorti d’une ou de plusieurs restrictions prévues par la Loi sur l'accès aux documents des organismes publics et sur la protection des renseignements personnels (RLRQ, chapitre A-2.1); Renseignement Personnel [Essentielle] désigne tout renseignement qui concerne une personne physique et qui permet de l’identifier; Représentants Légaux [Essentielle] désigne, pour chaque PARTIE ou, le cas échéant, son cessionnaire dûment autorisé, lorsqu’il s’agit d’une personne physique, ses liquidateurs de succession ou administrateurs de ses biens, héritiers, légataires, ayants cause ou mandataires et, lorsqu’il s’agit d’une personne morale, ses administrateurs, officiers, dirigeants, actionnaires, employés ou représentants; Soumission [Essentielle] désigne le Formulaire de Soumission, ses annexes et tout autre document requis par l’ORGANISME PUBLIC, déposé par le FOURNISSEUR en réponse à l’Appel d’Offres; Primauté [Importante] Le Contrat constitue la totalité et l'intégralité de l'entente intervenue entre les PARTIES. Il prime sur les conditions ou politiques de vente du FOURNISSEUR, à moins que les conditions ou politiques de vente du FOURNISSEUR soient plus avantageuses pour l’ORGANISME PUBLIC. Droit applicable [Essentielle] Le Contrat s’interprète et s’exécute conformément aux lois applicables de la province de Québec. Généralités Dates et délais [Importante] De rigueur Toutes les échéances indiquées dans le Contrat sont de rigueur à moins d'indication contraire dans le texte. Une prolongation ou une modification au Contrat, à moins d’une indication claire à cet effet, ne peut constituer une renonciation à ce qui précède. Calcul Lors du calcul d'un délai, les règles suivantes s'appliquent : lorsque le délai est exprimé en jours, le jour qui marque le point de départ n'est pas compté, mais celui qui marque l’échéance ou la date limite du délai l’est; les jours non ouvrables sont comptés; cependant, lorsque la date d’échéance ou la date limite est un jour non ouvrable (samedi, dimanche ou un jour férié au sens de la Loi d’interprétation (RLRQ, c. I-16)), celle-ci est reportée au premier jour ouvrable suivant; et le terme «mois», lorsqu'il est utilisé dans le Contrat, désigne les mois du calendrier. Si le Contrat fait référence à une date spécifique qui n’est pas un jour ouvrable, l’échéance est reportée au premier jour ouvrable suivant la date spécifique. Références financières [Importante] Toutes les sommes d'argent prévues dans le Contrat sont en devises canadiennes. Consentement [Importante] Lorsque le Contrat prévoit le consentement d’une PARTIE, celui-ci doit, à moins d’indication contraire, faire l’objet d’un écrit. OBJET. Sujet à la sélection de sa Soumission et au respect du Contrat, l’ORGANISME PUBLIC convient par les présentes d’acquérir les Biens auprès du FOURNISSEUR qui convient de vendre ceux-ci à l’ORGANISME PUBLIC, moyennant la contrepartie indiquée à la partie 2.00, et de se conformer aux modalités du Contrat s’y rapportant. CONTREPARTIE Prix [Importante] En guise de contrepartie à l’approvisionnement des Biens, l’ORGANISME PUBLIC convient de payer au FOURNISSEUR le(s) montant(s) indiqué(s) au Bordereau de Prix. Ajustement [Importante] Nonobstant ce qui précède, il est entendu entre les PARTIES que le prix convenu peut être ajusté, d'un commun accord entre les PARTIES, en cas de modification des Biens. Modification d’un prix [Essentielle] (Contrat à commandes avec la règle de 10%) Cas permis Un FOURNISSEUR peut choix des modalités, sur avis écrit à l’ORGANISME PUBLIC, réduire le prix de tout Bien dont il approvisionne l’ORGANISME PUBLIC. Le FOURNISSEUR peut aussi, conformément à la clause 10.07 remplacer un Bien par un nouveau bien dans la mesure où ce bien est conforme aux spécifications techniques requises et que son prix n’excède pas celui du Bien remplacé. Avis aux autres FOURNISSEURS Sur réception d’un tel avis, si l’ORGANISME PUBLIC constate qu’il en résulte un changement dans le rang des FOURNISSEURS, il doit, dans les QUINZE (15) jours de la réception de l’avis de changement de prix, aviser ceux-ci du nouveau prix offert, du nouvel ordre que ce changement engendre ou de son effet vis-à-vis des FOURNISSEURS dont le prix n’est plus dans la plage de DIX (10) POUR CENT du prix le plus bas. OU (Contrat à commandes sans la règle de 10%) Cas permis Un FOURNISSEUR peut choix des modalités, sur avis écrit à l’ORGANISME PUBLIC, réduire le prix de tout Bien dont il approvisionne l’ORGANISME PUBLIC. Le FOURNISSEUR peut aussi, conformément à la clause 10.07 remplacer un Bien par un nouveau bien dans la mesure où ce bien est conforme aux spécifications techniques requises et que son prix n’excède pas celui du Bien remplacé. Avis aux autres FOURNISSEURS Sur réception d’un tel avis, si l’ORGANISME PUBLIC constate qu’il en résulte un changement dans le rang des FOURNISSEURS, il doit, dans les QUINZE (15) jours de la réception de l’avis de changement de prix, aviser ceux-ci du nouveau prix offert et du nouvel ordre que ce changement engendre. Renouvellement [Facultative] (Avec augmentation - Pourcentage - [Clause liée - Renouvellement - Poste contractuel 2.00 de la Régie]) Si l’ORGANISME PUBLIC lève l’Option de renouvellement selon les modalités prévues à la section 15.03 des présentes, les prix appliqués sont les prix indiqués au Bordereau des Prix lesquels sont augmentés de CT - Pourcentage de l'augmentation - Lettres POUR CENT (CT - Pourcentage de l'augmentation - Chiffre %) pour la période visée par le renouvellement. OU (Avec augmentation - Selon IPC - [Clause liée - Renouvellement - Poste contractuel 2.00 de la Régie]) Si l’ORGANISME PUBLIC lève l’Option de renouvellement selon les modalités prévues à la section 15.03 des présentes, les prix appliqués sont les prix indiqués au Bordereau des Prix, lesquels peuvent être augmentés, pour la période visée par le renouvellement, en fonction de l'augmentation du coût de la vie, tel qu'établie par l'indice des prix à la consommation (IPC) de Statistique Canada pour la province de Québec, calculée sur une base annuelle. OU (Sans augmentation - [Clause liée - Renouvellement - Poste contractuel 2.00 de la Régie]) Si l’ORGANISME PUBLIC lève l’Option de renouvellement selon les modalités prévues à la section 15.03 des présentes, les prix appliqués sont les prix indiqués au Bordereau des Prix, sans modification aucune. OU (Suivant l'acceptation du FOURNISSEUR - [Clause liée - Renouvellement - Poste contractuel 2.00 de la Régie]) Si une Option de renouvellement est exercée selon les modalités prévues à la section 15.03 des présentes, les prix appliqués sont les prix indiqués au Bordereau des Prix, lesquels ne peuvent être modifiés que selon les modalités suivantes : Dans la limite des délais prévus à la section 15.03 des présentes, le FOURNISSEUR doit confirmer par écrit à l'ORGANISME PUBLIC s'il maintient ou augmente ses prix pour un Bien ou pour un groupe de Biens ou d'items pour la prochaine période de renouvellement; le cas échéant, aucune augmentation de prix ne peut être supérieure à la moyenne des DOUZE (12) plus récents taux de variation sur DOUZE (12) mois de l'indice des prix à la consommation (IPC), excluant les huit composantes les plus volatiles, publié par la Banque du Canada au moment de l'envoi de l'avis de renouvellement. Cet indice peut être consulté à l'adresse suivante : https://www.banqueducanada.ca/taux/indices-des-prix/ipc/. Transition [Facultative] À l’expiration du Contrat, incluant toute période de renouvellement le cas échéant, si un nouveau fournisseur n’est pas en mesure de répondre immédiatement aux besoins de l’ORGANISME PUBLIC, le FOURNISSEUR convient, afin de permettre une transition ordonnée et d’éviter toute rupture dans l’approvisionnement, de continuer à fournir les Biens au prix en vigueur à la date d’expiration du Contrat, pour une période n’excédant pas CT - Période de maintien des prix en vigueur mois. MODALITÉS DE PAIEMENT Facturation [Importante] Le paiement de toute somme exigible en vertu du Contrat s’effectue sur présentation de facture(s) accompagnée(s) des pièces justificatives requises par l’ORGANISME PUBLIC. Toutes les factures du FOURNISSEUR doivent afficher, de façon claire: dans leur entête: son nom; son adresse; ses numéros d'identification relatifs à la taxe de vente du Québec (TVQ), taxe sur les produits et services (TPS) ou la taxe de vente harmonisée (TVH); le numéro du Bon de Commande de l’ORGANISME PUBLIC; dans leur description: les Biens facturés; les quantités et leurs prix (à l'unité et total) les montants des taxes applicables: - taxe de vente du Québec (TVQ); - taxes sur les produits et services (TPS); ou, le cas échéant, - taxe de vente harmonisée (TVH); le terme de paiement, si applicable. L’ORGANISME PUBLIC se réserve le droit de refuser une facture qui ne se conforme pas à ces exigences. Paiement [Importante] Le prix du/des Bien(s) est payable en totalité, après la livraison convenue, sur réception d'une facture conforme aux exigences du Contrat. Le délai de paiement, sans être de rigueur, est fixé à CT - Termes de paiement jours après la réception d'une facture. Biens en Consignation [Facultative] ([Clause liée - Bien en Consignation - Poste contractuel 0.01]) Nonobstant l’émission d’un Bon de Commande servant à documenter l’inventaire initial des Biens en Consignation à livrer, le FOURNISSEUR ne peut facturer un Bien en Consignation tant et aussi longtemps qu’il n’a pas été utilisé par l’ORGANISME PUBLIC. Lieu [Importante] Tout montant dû, aux termes des présentes, est payé au bureau du FOURNISSEUR, à l'adresse indiquée dans le Formulaire de Soumission, ou à tout autre endroit que le FOURNISSEUR peut indiquer par écrit à l’ORGANISME PUBLIC. Vérification [Importante] Un paiement fait par l’ORGANISME PUBLIC ne constitue pas une renonciation à son droit de vérifier ultérieurement le bien-fondé de la facture acquittée par un tel paiement. L’ORGANISME PUBLIC se réserve le droit de procéder à toute vérification ultérieure des factures déjà acquittées afin d’assurer la conformité des paiements réclamés et payés par rapport au Contrat. Compensation fiscale [Facultative] Réquisition du ministre du Revenu Conformément aux articles 31.1.1 de la Loi sur l’administration fiscale, RLRQ, chapitre A-6.002, et 53 de la Loi facilitant le paiement des pensions alimentaires, RLRQ, chapitre P-2.2, lorsque le FOURNISSEUR est redevable d’un montant exigible en vertu d’une loi fiscale ou alimentaire, l’ORGANISME PUBLIC, étant ou agissant pour le compte d’un organisme public tel que défini à l’article 31.1.4 de la Loi sur l’administration fiscale, peut, s’il en est requis par le ministre du Revenu, remettre à celui-ci, en tout ou en partie, toute somme payable en vertu du Contrat afin que celui-ci puisse affecter en tout ou en partie cette somme au paiement de cette dette. Effet de la remise Toute somme ainsi remise au ministre du Revenu, conformément à ce qui précède, équivaut à un paiement par compensation au FOURNISSEUR, celui-ci consentant par les présentes à une telle remise et compensation jusqu’à concurrence du plein montant qu’il doit en vertu d’une loi fiscale ou alimentaire. Renonciation Le cas échéant, le FOURNISSEUR renonce à toute réclamation, à quelque titre que ce soit, envers l’ORGANISME PUBLIC se rapportant à une telle remise et compensation. Intérêt [Facultative] L’ORGANISME PUBLIC règle les factures conformément aux dispositions prévues au Règlement sur les paiements d’intérêts aux fournisseurs du gouvernement (RLRQ, chapitre C-65.1, r 8). SÛRETÉS (Négative) L’ORGANISME PUBLIC confirme qu’aucune garantie d’exécution n’est requise par les présentes. Garantie d'exécution [Essentielle] (Affirmative - Forfaitaire - Avec cautionnement ou effets de commerce) Constitution Le FOURNISSEUR doit, dans les Délai de transmission de la garantie d'exécution jours à compter de la date de l’envoi de l’Avis d’Adjudication, fournir à l’ORGANISME PUBLIC une garantie d’exécution , d’un montant forfaitaire de Montant forfaitaire de la garantie d'exécution, émise sous l’une ou l’autre des formes suivantes: un chèque certifié, un mandat-poste ou une traite bancaire, fait à l’ordre de l’ORGANISME PUBLIC; un cautionnement émis par émis par une Institution Financière à la faveur de l’ORGANISME PUBLIC, qui doit être conforme aux dispositions du modèle de cautionnement d’exécution reproduit à l’annexe 4.01 des présentes; Maintien La garantie d’exécution doit être valable pour toute la durée du Contrat et doit être retournée au FOURNISSEUR lorsque toutes les obligations de ce dernier en vertu du Contrat sont complétées. OU (Affirmative - Forfaitaire - Avec cautionnement seulement) Constitution Le FOURNISSEUR doit, dans les Délai de transmission de la garantie d'exécution jours à compter de la date de l’envoi de l’Avis d’Adjudication, fournir à l’ORGANISME PUBLIC une garantie d’exécution , d’un montant forfaitaire de Montant forfaitaire de la garantie d'exécution, sous la forme d'un cautionnement émis par une Institution Financière à la faveur de l’ORGANISME PUBLIC, qui doit être conforme aux dispositions du modèle de cautionnement d’exécution reproduit à l’annexe 4.01 des présentes. Maintien La garantie d’exécution doit être valable pour toute la durée du Contrat et doit être retournée au FOURNISSEUR lorsque toutes les obligations de ce dernier en vertu du Contrat sont complétées. OU (Affirmative - Forfaitaire - Sans cautionnement - Avec effet de commerce) Constitution Le FOURNISSEUR doit dans les Délai de transmission de la garantie d'exécution jours à compter de la date de l’envoi de l’Avis d’Adjudication, fournir à l’ORGANISME PUBLIC une garantie d’exécution d’un montant forfaitaire de Montant forfaitaire de la garantie si déposée sous forme de cautionnement, sous la forme d'un chèque certifié, d'un mandat-poste ou d'une traite bancaire émis à l’ordre de l’ORGANISME PUBLIC. Maintien La garantie d’exécution doit être valable pour toute la durée du Contrat et doit être retournée au FOURNISSEUR lorsque toutes les obligations de ce dernier en vertu du Contrat sont complétées. OU (Affirmative - Pourcentage - Avec cautionnement ou effets de commerce) Constitution Le FOURNISSEUR doit, dans les Délai de transmission de la garantie d'exécution jours à compter de la date de l’envoi de l’Avis d’Adjudication, fournir à l’ORGANISME PUBLIC une garantie d’exécution, d’un montant équivalant à Pourcentage du montant du Contrat pour la garantie d'exécution du Contrat, émise sous l’une ou l’autre des formes suivantes: un chèque certifié, un mandat-poste ou une traite bancaire, fait à l’ordre de l’ORGANISME PUBLIC; un cautionnement émis par une Institution Financière à la faveur de l’ORGANISME PUBLIC, qui doit être conforme aux dispositions du modèle de cautionnement d’exécution reproduit à l’annexe 4.01 des présentes; Maintien La garantie d’exécution doit être valable pour toute la durée du Contrat et doit être retournée au FOURNISSEUR lorsque toutes les obligations de ce dernier en vertu du Contrat sont complétées. OU (Affirmative - Pourcentage - Avec cautionnement seulement) Constitution Le FOURNISSEUR doit, dans les Délai de transmission de la garantie d'exécution jours à compter de la date de l’envoi de l’Avis d’Adjudication, fournir à l’ORGANISME PUBLIC une garantie d’exécution, d’un montant équivalant à Pourcentage du montant du Contrat pour la garantie d'exécution du Contrat, sous la forme d'un cautionnement émis par une Institution Financière à la faveur de l’ORGANISME PUBLIC, qui doit être conforme aux dispositions du modèle de cautionnement d’exécution reproduit à l’annexe 4.01 des présentes. Maintien La garantie d’exécution doit être valable pour toute la durée du Contrat et doit être retournée au FOURNISSEUR lorsque toutes les obligations de ce dernier en vertu du Contrat sont complétées. OU (Affirmative - Pourcentage - Sans cautionnement - Avec effet de commerce) Constitution Le FOURNISSEUR doit, dans les Délai de transmission de la garantie d'exécution jours à compter de la date de l’envoi de l’Avis d’Adjudication, fournir à l’ORGANISME PUBLIC une garantie d’exécution, soit un chèque certifié, un mandat-poste ou une traite bancaire, d’un montant équivalant à Pourcentage du montant du Contrat pour la garantie d'exécution du montant du Contrat. Maintien La garantie d’exécution doit être valable pour toute la durée du Contrat et doit être retournée au FOURNISSEUR lorsque toutes les obligations de ce dernier en vertu du Contrat sont complétées. Appropriation [Essentielle] (Affirmative) Advenant la résiliation du Contrat en raison d’un défaut du FOURNISSEUR, l’ORGANISME PUBLIC devient propriétaire de la somme déposée par chèque certifié, mandat-poste, traite bancaire ou obligation à titre de garantie d’exécution du Contrat et cela, sans préjudice aux autres dommages et intérêts qu’il peut réclamer au FOURNISSEUR du fait de la résiliation. Préavis à la caution [Essentielle] (Affirmative) Demande d'exécution Si le FOURNISSEUR a remis une garantie d’exécution sous forme de cautionnement, l’ORGANISME PUBLIC doit, avant que le Contrat ne soit résilié, signifier un avis à la caution d’exécuter les obligations et remplir les conditions prévues au Contrat dans un délai de CT - Demande d'exécution jours. Indemnisation À défaut d’exécuter les obligations prévues au Contrat, ce dernier est résilié de plein droit et la caution doit verser à l’ORGANISME PUBLIC la différence entre le prix qui aurait été payé au FOURNISSEUR et celui qui doit être payé à tout nouveau fournisseur qui est appelé à exécuter le Contrat ainsi que tout coût raisonnable occasionné à l’ORGANISME PUBLIC par l’inexécution des obligations et conditions prévues au Contrat. Biens en Consignation [Facultative] ([Clause liée - Bien en Consignation - Poste contractuel 0.01]) Les Biens en Consignation demeurent la propriété du FOURNISSEUR jusqu’au jour de leur utilisation par l’ORGANISME PUBLIC. ATTESTATIONS RÉCIPROQUES L’ORGANISME PUBLIC confirme qu’à l’exception des attestations unilatérales qui peuvent apparaître dans les parties 6.00 et 7.00 des présentes, aucune autre attestation de quelque nature que ce soit n’est requise ou faite par les PARTIES dans le cadre du Contrat. ATTESTATIONS DE L'ORGANISME PUBLIC (Affirmative) L’ORGANISME PUBLIC possède tous les droits, les pouvoirs et l'autorité pour exécuter le Contrat; il n’existe aucune restriction légale ou contractuelle lui interdisant d’exécuter les obligations qui en découlent. OU (Négative) Les PARTIES confirment que le Contrat ne contient aucune attestation explicite de l’ORGANISME PUBLIC de quelque sorte que ce soit. ATTESTATIONS DU FOURNISSEUR/PRESTATAIRE DE SERVICES/ENTREPRENEUR (Affirmative) Les attestations qui suivent sont pour le bénéfice de l’ORGANISME PUBLIC et elles font partie intégrante du Contrat. OU (Négative) L’ORGANISME PUBLIC confirme qu’aucune attestation du FOURNISSEUR de quelque sorte que ce soit n’est requise par les présentes. Statut [Importante] Le FOURNISSEUR confirme qu’il a respecté toutes ses obligations de publicité légale dans les juridictions où il possède des actifs ou exploite une entreprise afin de maintenir son état de conformité et de régularité et, s'il est une personne morale de droit privé, confirme qu'il est dûment constitué. Capacité [Importante] Le FOURNISSEUR possède tous les droits, les pouvoirs et l'autorité pour être PARTIE au Contrat et pour exécuter toutes ses obligations en vertu des présentes, et il n’existe aucune restriction d’ordre légal ou contractuel lui interdisant d’exécuter le Contrat. Divulgation [Importante] Le FOURNISSEUR n'a pas omis de divulguer tout fait ou renseignement important concernant sa situation juridique ou financière, qui aurait eu pour effet de modifier sa capacité d'honorer les engagements contractés ou de désintéresser l’ORGANISME PUBLIC. OBLIGATION(S) RÉCIPROQUE(S) Gestion du regroupement Obligation des Établissements Participants [Importante] (Mandataire - Avec modalités) Tout Établissement Participant doit s’approvisionner auprès du FOURNISSEUR retenu pour l’exécution du Contrat, et ce, conformément aux conditions prévues dans les Documents d’Appel d’Offres. OU (Mandataire - Sans modalités) Tout Établissement Participant doit s’approvisionner auprès du FOURNISSEUR retenu pour l’exécution du Contrat, et ce, conformément aux conditions prévues dans les Documents d’Appel d’Offres. Interdiction [Importante] (Mandataire) Un Établissement Participant ne peut, simultanément, adhérer à plus d’un regroupement pour satisfaire le même besoin. Il ne peut également procéder hors regroupement pour l’acquisition de biens qui font l’objet du Contrat. Ajout d'un établissement [Facultative] (Mandataire - Avec modalités) Avis L’ORGANISME PUBLIC peut, sur avis écrit aux FOURNISSEURS pendant la durée du Contrat, ajouter d’autres organismes publics ou personnes morales de droit public à la liste prévue à l’annexe « Établissements Participants ». Le cas échéant, la modification du Contrat qui en résulte en constitue un accessoire, n’en change pas la nature et respecte, le cas échéant, toutes autres conditions prévues dans les Documents d’Appel d’Offres, notamment celles relatives à la région de livraison ou au lieu d’exécution du Contrat. Délai Si l'ORGANISME PUBLIC ajoute un nouvel Établissement Participant, les FOURNISSEURS doivent, à moins d'indication contraire dans l'avis, être en mesure de desservir le nouvel Établissement Participant dans un délai de CT - Délai de service à un nouvel Établissement Participant, à compter de l'envoi par l'ORGANISME PUBLIC de l'avis susmentionné. OU (Mandataire - Sans modalités) Avis L’ORGANISME PUBLIC peut, sur avis écrit au FOURNISSEUR pendant la durée du Contrat, ajouter d’autres organismes publics ou personnes morales de droit public à la liste prévue à l’annexe « Établissements Participants ». Le cas échéant, la modification du Contrat qui en résulte en constitue un accessoire, n’en change pas la nature et respecte, le cas échéant, toutes autres conditions prévues dans les Documents d’Appel d’Offres, notamment celles relatives à la région de livraison ou au lieu d’exécution du Contrat. Délai Si l'ORGANISME PUBLIC ajoute un nouvel Établissement Participant, le FOURNISSEUR doit, à moins d'indication contraire dans l'avis, être en mesure de desservir le nouvel Établissement Participant dans un délai de CT - Délai de service à un nouvel Établissement Participant, à compter de l'envoi par l'ORGANISME PUBLIC de l'avis susmentionné. Collaboration [Importante] Les PARTIES conviennent de collaborer en tout temps entre elles, notamment en fournissant tout renseignement verbal ou écrit, en transmettant tout document pouvant être requis et en éliminant, le cas échéant, tout obstacle sous leur contrôle empêchant l’exécution efficace du Contrat. Information confidentielle [Importante] Les PARTIES, reconnaissant que les Renseignements Personnels et Renseignements Confidentiels recueillis dans le cadre du Contrat sont accessibles aux seules personnes qui, dans l’exercice de leurs fonctions, doivent en prendre connaissance pour les fins liées à la réalisation du Contrat ou pour s’assurer du respect des obligations qui incombent aux PARTIES, s’engagent, les unes envers les autres, à prendre les mesures nécessaires pour assurer la confidentialité de ceux-ci et à permettre à toute personne concernée par un Renseignement Personnel détenu par une PARTIE d’y avoir accès et de le faire rectifier, le cas échéant. Remplacement d'un représentant [Importante] Si le remplacement du représentant d’une PARTIE est rendu nécessaire, la PARTIE concernée doit en aviser l’autre PARTIE dans les meilleurs délais. Dans les cas où il y a plusieurs représentants, chacun peut agir séparément et l’autorisation de l’un d’eux constitue une autorisation valide. Exécution complète [Importante] Les PARTIES doivent, à l’intérieur d’un délai raisonnable, sur réception d’une demande écrite à cet effet de la part de l'une ou l'autre des PARTIES, faire toute chose, signer tout document et fournir toute attestation nécessaire pour assurer l’exécution complète du Contrat. OBLIGATIONS DE L'ORGANISME PUBLIC Chargé de projet [Importante] L’ORGANISME PUBLIC s’engage à identifier, auprès du FOURNISSEUR, la personne physique à laquelle il délègue le suivi du Contrat et l'approbation, au besoin, de toute modification à celui-ci. Il doit aviser le FOURNISSEUR, le cas échéant, de tout changement quant à la personne physique ainsi nommée. Bon de Commande [Importante] L’ORGANISME PUBLIC s’engage à effectuer ses commandes de Biens par l’émission de Bons de Commande et doit les faire parvenir au FOURNISSEUR. OU (Contrat à commandes avec la règle de 10%) L’ORGANISME PUBLIC s’engage à effectuer ses commandes de Biens par l’émission de Bons de Commande et doit les faire parvenir au FOURNISSEUR. Les commandes peuvent être attribuées à l’un ou l’autre des FOURNISSEURS retenus dont le prix soumis à l’égard du Bien à acquérir n’excède pas de plus de 10 % le prix le plus bas. OU (Contrat à commandes sans la règle de 10%) L’ORGANISME PUBLIC s’engage à effectuer ses commandes de Biens par l’émission de Bons de Commande et doit les faire parvenir au FOURNISSEUR. Les commandes sont attribuées au FOURNISSEUR se trouvant au premier rang et si celui-ci ne peut pas y donner suite, les autres FOURNISSEURS sont sollicités en fonction de leur rang respectif pour ce même Bien. Non-responsabilité [Importante] L’ORGANISME PUBLIC n’est pas responsable de tout dommage causé aux personnes ou aux Biens lors du transport ou de la livraison de ceux-ci. L’ORGANISME PUBLIC n’est également pas responsable des dommages causés aux biens du FOURNISSEUR lorsqu’ils se trouvent sur sa propriété. Cette stipulation de non-responsabilité ne s’applique pas aux biens que le FOURNISSEUR confie à l’ORGANISME PUBLIC lorsque ce dernier accepte d’en assumer la garde. Biens en Consignation [Facultative] ([Clause liée - Bien en Consignation - Poste contractuel 0.01]) Liste initiale Dès l’entrée en vigueur du Contrat, l’ORGANISME PUBLIC doit établir, d’un commun accord avec le FOURNISSEUR, une liste ainsi que la quantité et la valeur des Biens à être livrés en consignation (ci-après dénommée «Liste Initiale»). La Liste Initiale correspond aux besoins estimés de l’ORGANISME PUBLIC, basée sur une évaluation raisonnable de l’utilisation de ces Biens (niveau d’inventaire évalué à QUATORZE (14) jours maximum), qui doivent être maintenus en inventaire dans l’entrepôt de l’ORGANISME PUBLIC pendant la durée du Contrat. L’ORGANISME PUBLIC doit aviser le FOURNISSEUR de toute modification (ajout ou retrait) subséquente de la Liste Initiale en fonction de l’évolution de ses besoins. Bon de Commande L’ORGANISME PUBLIC doit émettre un Bon de Commande correspondant à la Liste Initiale des Biens en Consignation. Ce Bon de Commande indique la valeur des Biens en Consignation ainsi commandés, basée sur la valeur de remplacement préalablement négociée de ceux-ci. Le cas échéant, toute modification (ajout ou retrait) sur la liste initiale des Biens en Consignation doit émaner du service des approvisionnements de l’ORGANISME PUBLIC et a pour effet d’amender le Bon de Commande initial des Biens en Consignation rétablissant ainsi la valeur totale consignée. Conservation L’ORGANISME PUBLIC doit assurer la conservation des Biens en Consignation. Il assume le risque de perte de tout Bien en Consignation tant et aussi longtemps que celui-ci est en sa possession. L’ORGANISME PUBLIC doit en outre veiller à l’intégrité de l’emballage initial jusqu’à l’utilisation du Bien. Contrôle de l'inventaire L’ORGANISME PUBLIC accepte qu’un représentant du FOURNISSEUR ait accès, sur rendez-vous, dans ses locaux afin de vérifier l’état et la quantité des Biens en Consignation. L’ORGANISME PUBLIC s’engage à collaborer avec le FOURNISSEUR afin d’effectuer une saine gestion de l’inventaire de Biens en Consignation Utilisation L’ORGANISME PUBLIC doit, lorsqu'il est possible de le faire, utiliser la méthode du premier entré premier sorti pour écouler l’inventaire de Biens consignés. Fin du Contrat L’ORGANISME PUBLIC doit permettre au FOURNISSEUR de reprendre, à ses frais, tout Bien en Consignation qu’il a en sa possession à la fin du Contrat. Acceptation [Essentielle] Malgré toute autorisation ou approbation donnée aux fins de rémunération aux différentes étapes d’exécution du Contrat, l’ORGANISME PUBLIC se réserve le droit, lors de la réception définitive des Biens, de refuser, en tout ou en partie, les Biens qui ne sont pas livrés conformément aux exigences du Devis. Inspection [Importante] (Livraison de Biens incluant un service d'installation) L’ORGANISME PUBLIC s’engage à effectuer, avec diligence, l’inspection des Biens une fois l’installation et la mise en marche effectuées et d’informer promptement le FOURNISSEUR de toute dérogation ou non-conformité des Biens inspectés. OU (Livraison de Biens n'incluant pas de service d'installation) L’ORGANISME PUBLIC s’engage à effectuer l’inspection des Biens avec diligence au point CT - Point de livraison ou d'expédition et d’informer promptement le FOURNISSEUR de toute dérogation ou non-conformité des Biens inspectés. OBLIGATIONS DU FOURNISSEUR/PRESTATAIRE DE SERVICES/ENTREPRENEUR Défaut [Importante] Si, pour une raison quelconque, le FOURNISSEUR refuse ou néglige d’exécuter le Contrat, celui-ci est responsable envers l’ORGANISME PUBLIC de la différence entre le prix de sa Soumission et le prix plus élevé que l’ORGANISME PUBLIC doit payer par suite du défaut de ce FOURNISSEUR de remplir ses obligations, sans préjudice à tout autre droit ou recours de l'ORGANISME PUBLIC. Assurance responsabilité civile générale [Importante] (Détaillée) Preuve Le FOURNISSEUR doit détenir une assurance responsabilité générale couvrant, sans s’y limiter, les dommages corporels, matériels et contractuels, assurant toute personne impliquée dans l’exécution de ses obligations en vertu du Contrat. L’ORGANISME PUBLIC se réserve le droit d’exiger la preuve de telle couverture d’assurance. Montant Le montant minimum de couverture fourni par ces polices d’assurance doit être de CT - Montant minimum de couverture d'assurance. Émetteur Ces polices d’assurance doivent être souscrites auprès d’une compagnie d’assurances titulaire des permis appropriés et financièrement responsable et doivent prévoir un avis écrit d’au moins TRENTE (30) jours aux PARTIES en cas d’annulation ou de réduction de couverture. Étendue de la responsabilité Nonobstant ce qui précède, cette section ne limite pas la responsabilité du FOURNISSEUR au Contrat. Sous-contrat Autorisation [Essentielle] (Sous-contrat non permis) Le FOURNISSEUR ne peut sous-contracter les obligations et les responsabilités qui lui incombent en vertu du Contrat. Si l'ORGANISME PUBLIC lève cette interdiction en cours d’exécution du Contrat, le FOURNISSEUR doit respecter les exigences s’y rapportant, avec les adaptations nécessaires. OU (Sous-contrat permis - Avec autorisation préalable de l'ORGANISME PUBLIC) Le FOURNISSEUR ne peut sous-contracter les obligations et les responsabilités qui lui incombent en vertu du Contrat en tout ou en partie sans l’autorisation préalable et écrite de l'ORGANISME PUBLIC. Si l'ORGANISME PUBLIC autorise un sous-contrat, le FOURNISSEUR doit respecter les exigences s’y rapportant. OU (Sous-contrat permis - Sans autorisation préalable de l'ORGANISME PUBLIC) Le FOURNISSEUR peut sous-contracter les obligations et les responsabilités qui lui incombent en vertu du Contrat en tout ou en partie sans l’autorisation préalable et écrite de l'ORGANISME PUBLIC. Il doit, le cas échéant, respecter les exigences s’y rapportant. Exigences [Essentielle] Le FOURNISSEUR doit, avant de conclure tout sous-contrat requis pour l’exécution du Contrat, s’assurer que chacun de ses sous-contractants n’est pas inscrit au registre des entreprises non admissibles aux contrats publics (RENA) ou, s’il y est inscrit, que sa période d’inadmissibilité aux contrats publics est terminée. Liste Le FOURNISSEUR doit transmettre à l’ORGANISME PUBLIC, avant que l’exécution du Contrat ne débute, une liste indiquant, le cas échéant, pour chaque sous-contrat, les informations suivantes : le nom et l’adresse du principal établissement du sous-contractant; le montant et la date du sous-contrat; Le FOURNISSEUR qui, pendant l’exécution du Contrat, conclut un sous-contrat relié directement au Contrat doit, avant que ne débute l’exécution du sous-contrat, produire une liste modifiée. Le FOURNISSEUR peut, le cas échéant, utiliser l’annexe 10.03.02 des présentes pour soumettre la liste de ses sous-contractants. Autorisation de contracter [Importante] (Bonne pratique recommandée par le SCT) En cours d’exécution du Contrat, l'ORGANISME PUBLIC peut, sur autorisation du gouvernement et à l'intérieur des délais et selon les modalités particulières déterminés par le gouvernement, obliger le FOURNISSEUR et, dans le cas d’un consortium, chacune des entreprises le composant, ainsi que les entreprises parties à un sous-contrat rattaché directement ou indirectement au présent Contrat à obtenir une autorisation de contracter de l’Autorité des marchés publics. Commandes [Importante] Quantité Le FOURNISSEUR reconnaît que les quantités de Biens indiquées au Devis ne sont qu’à titre indicatif seulement et que l’ORGANISME PUBLIC ne s’engage pas à acquérir la totalité de ceux-ci. Il renonce en conséquence à toute poursuite, réclamation ou demande découlant de la transmission par l’ORGANISME PUBLIC de tels renseignements, données ou estimations. Conformité Les Biens livrés doivent être conformes aux exigences établies au Devis ou encore aux échantillons fournis, aux fiches techniques déposées ou aux numéros de catalogue identifiés à la Soumission. Qualité [Importante] Vices Le FOURNISSEUR s’engage à fournir à l’ORGANISME PUBLIC des Biens exempts de tous vices de conception ou de fabrication, aptes à servir à l’usage auxquels ils sont destinés et conformes au Devis. Refus de Bien Reprise En cas de vice ou de non-conformité quelconque d'un Bien, l’ORGANISME PUBLIC se réserve le droit de refuser la livraison ou de retourner le Bien. Le cas échéant, le FOURNISSEUR s’engage à reprendre le Bien à ses frais. Remplacement Le FOURNISSEUR doit, à la discrétion de l’ORGANISME PUBLIC et sans frais additionnel, soit effectuer la réparation du Bien défectueux, soit remplacer le Bien défectueux, à l’intérieur d’un délai raisonnable ne dépassant pas DIX (10) jours ouvrables. Remplacement d’un Bien [Essentielle] Si le FOURNISSEUR décide de remplacer un Bien, il doit en aviser l’ORGANISME PUBLIC le plus rapidement possible en faisant parvenir à ce dernier un avis écrit indiquant les motifs de remplacement du Bien en question de même que les spécifications du Bien de remplacement. L’ORGANISME PUBLIC se réserve le droit de refuser ce nouveau produit s’il n’est pas équivalant à celui remplacé. Si l’ORGANISME PUBLIC décide d’accepter le nouveau produit, ce dernier doit être soumis au même prix ou à un prix inférieur à celui du Bien remplacé. Biens en Consignation [Facultative] ([Clause liée - Bien en Consignation - Poste contractuel 0.01]) Liste Initiale Le FOURNISSEUR doit collaborer avec l’ORGANISME PUBLIC dans l’établissement de la Liste Initiale telle que définie précédemment. Il doit, lorsqu’il constate une variation dans les besoins de l’ORGANISME PUBLIC, recommander tout ajustement qui s’impose à cette Liste Initiale, pour assurer la disponibilité d’un Bien en temps opportun étant entendu que la décision finale à cet égard appartient à l’ORGANISME PUBLIC. Livraison et remplacement Une fois la Liste Initiale et la valeur des Biens en Consignation établies, le FOURNISSEUR doit, dans un délai raisonnable, livrer à ses frais les Biens en Consignation figurant sur la Liste Initiale. Une fois cette première livraison effectuée, le FOURNISSEUR doit, sujet à toute modification subséquente de la Liste Initiale, prendre les mesures nécessaires pour maintenir cet inventaire aux niveaux et valeurs indiqués sur cette dernière en procédant diligemment au remplacement de tout Bien en Consignation utilisé par l’ORGANISME PUBLIC. Entreposage Le FOURNISSEUR doit si l’ORGANISME PUBLIC le requiert, effectuer l’étiquetage, la mise en tablette ainsi que la mise à jour des Biens en Consignation. Utilisation LE FOURNISSEUR doit faire en sorte que tout Bien en Consignation soit en bon état et apte à l’usage auquel il est destiné. Il doit aussi, le cas échéant, effectuer une saine gestion des dates de péremption des Biens en Consignation. Le FOURNISSEUR doit aussi, le cas échéant, fournir à l’ORGANISME PUBLIC la procédure de nettoyage (stérilisation) de tout Bien en Consignation. Vérification Le FOURNISSEUR doit procéder à une vérification/inspection périodique de l’inventaire des Biens en Consignation et remplacer tout Bien périmé ou sur le point de le devenir ainsi que tout Bien défectueux. Retrait Si le FOURNISSEUR doit retirer un Bien en Consignation des locaux de l’ORGANISME PUBLIC pour répondre aux besoins d’un autre établissement, il doit aviser par écrit l’ORGANISME PUBLIC de cette initiative et assumer tous les risques de perte du Bien en Consignation ainsi retiré. Il doit en outre procéder dès que possible au remplacement de celui-ci. Homologation Le FOURNISSEUR doit fournir le numéro de classe et d’homologation de tout Bien en Consignation qui doit être préalablement homologué par les autorités publiques avant sa mise en marché au Canada et au Québec. Si un tel Bien est assujetti à un protocole d’utilisation précis le FOURNISSEUR doit transmettre ce protocole à l’ORGANISME PUBLIC. Contrôle de l'inventaire Le FOURNISSEUR doit effectuer une prise d’inventaire au minimum QUATRE (4) fois par année par ce dernier, selon un échéancier convenu entre l'ORGANISME PUBLIC et le FOURNISSEUR. Le FOURNISSEUR doit alors fournir à l’ORGANISME PUBLIC un relevé indiquant la valeur consignée au sein de l'ORGANISME PUBLIC (copie au service des approvisionnements à l'intérieur de TROIS (3) jours ouvrables suivant la prise d'inventaire). S’il manque un Bien quelconque apparaissant sur la liste des Biens en consignation le FOURNISSEUR doit vérifier si ce Bien a été utilisé par l’ORGANISME PUBLIC et en faire part dans le rapport au gestionnaire du dossier de l'ORGANISME PUBLIC. Reddition de compte Le rapport de consommation trimestrielle des Biens en Consignation à être produit par le FOURNISSEUR doit être envoyé par courriel à l'intérieur d’un délai de DIX (10) jours ouvrables de la prise d'inventaire au gestionnaire de dossier de l'ORGANISME PUBLIC, accompagné de toute recommandation qui s’impose à la lumière du rapport soumis pour améliorer le processus de consignation. Fin du contrat Le FOURNISSEUR doit reprendre tout Bien en Consignation lui appartenant au plus tard trente (30) jours après la fin du Contrat pour quelque motif que ce soit. Il doit remettre au préposé de l’ORGANISME PUBLIC qui est responsable de l’entrepôt un accusé de réception constatant le numéro de référence de chaque Bien ainsi repris et la quantité s’y rapportant. À moins d’indication sur l’accusé de réception, tout Bien en Consignation ainsi repris est présumé avoir été remis en bon état au moment de la reprise. Production Commande excédentaire [Facultative] (Si volumes garantis mentionnés et définis aux Documents d'Appel d'Offres) Si les prévisions et besoins de l’ORGANISME PUBLIC excèdent les volumes garantis par le FOURNISSEUR tel que mentionné et défini aux Documents d'Appels d'Offres, le FOURNISSEUR doit aviser l’ORGANISME PUBLIC par écrit dans les CT - Nombre de jours suivant la réception de la commande excédentaire suivant la réception de la commande excédentaire de l’ORGANISME PUBLIC, des possibilités ou non de répondre aux besoins accrus de l’ORGANISME PUBLIC. Contrôles et essais [Facultative] Le FOURNISSEUR doit, lors de la production des Biens, effectuer tous les contrôles et essais nécessaires pour assurer leur conformité aux exigences du Devis. Il doit, si l’ORGANISME PUBLIC en fait la demande, communiquer à ce dernier les procédures suivies à cet égard et traiter diligemment toute demande d’amélioration de ces procédures, le cas échéant. Interruption [Importante] Si le FOURNISSEUR entrevoit une interruption quelconque dans la production des Biens de nature à compromettre sa capacité de produire ou de livrer les Biens, il doit aviser promptement l’ORGANISME PUBLIC d’une telle situation afin de permettre à celui-ci de réduire au minimum les conséquences d’une telle interruption. Biens supprimés [Importante] Si un Bien n’est plus disponible, le FOURNISSEUR doit en aviser l’ORGANISME PUBLIC le plus rapidement possible en faisant parvenir à ce dernier un avis écrit indiquant les motifs et la date du retrait du Bien en question de même que les spécifications du Bien de remplacement. L’ORGANISME PUBLIC se réserve le droit de refuser ce nouveau produit s’il n’est pas équivalant à celui supprimé. Si l’ORGANISME PUBLIC décide d’accepter le nouveau produit, ce dernier doit être soumis au même prix ou à un prix inférieur à celui du Bien supprimé. Incapacité [Importante] Le FOURNISSEUR reconnaît et accepte que s’il est incapable de fournir le volume convenu de Biens, conformément aux exigences énoncées aux Documents d'Appel d'Offres, l'ORGANISME PUBLIC peut exceptionnellement s’approvisionner auprès d’un autre fournisseur et, advenant une différence de prix des Biens, le FOURNISSEUR doit payer à l’ORGANISME PUBLIC cette différence. Retrait [Importante] Si la rupture d’approvisionnement d'un Bien est supérieure à QUATRE-VINGT-DIX (90) jours ou si elle se produit à plus de DEUX (2) reprises, l’ORGANISME PUBLIC se réserve le droit de retirer ce Bien du Contrat. Langue d'usage [Importante] Sauf les cas d’exceptions permis par les lois applicables, les bons de livraison et autres documents qui accompagnent les Biens livrés doivent être en français. Il en va de même pour les inscriptions qui apparaissent sur les Biens livrés, sur leur contenant et sur leur emballage. De plus, à moins que l’ORGANISME PUBLIC ne l’autorise, lorsque l'emploi d'un Bien implique une forme quelconque d’affichage d’instructions ou de saisie de renseignements, cet affichage ou saisie doit s’effectuer en français. Transfert de propriété [Importante] Le FOURNISSEUR reconnaît que les Biens deviennent la propriété de l’ORGANISME PUBLIC dès le déchargement de ceux-ci à la destination. Perte [Importante] Toute perte de Biens résultant de quelque cause que ce soit avant qu’ils ne deviennent la propriété de l’ORGANISME PUBLIC est à la charge du FOURNISSEUR. Santé et sécurité [Importante] Consignes À des fins de protection de la santé et sécurité des personnes, le FOURNISSEUR doit, lorsque certains Biens fournis constituent des biens contrôlés au sens de la loi, fournir à l’ORGANISME PUBLIC, sous forme d'étiquettes et de fiches de données de sécurité, les consignes de sécurité à suivre lors de la manipulation, de l’utilisation et de l’entreposage de tels Biens. Mise à jour Le FOURNISSEUR doit, lorsque l’avancement des connaissances sur un Bien fourni révèle un quelconque danger, jusqu’alors inconnu, pour la santé et la sécurité des personnes, dès que possible après en avoir été informé, mettre à jour les consignes de sécurité sur les Biens fournis. Matières dangereuses Les fiches de données de sécurité des produits visés par le SIMDUT (Système d'information sur les matières dangereuses utilisées au travail) doivent être incluses à la livraison. Livraison [Importante] Délais et fréquence Le FOURNISSEUR s’engage à livrer les Biens en respectant le délai de livraison auquel il s’est engagé lors du dépôt de sa Soumission. Si le FOURNISSEUR ne peut respecter une date de livraison établie par l’ORGANISME PUBLIC, il doit en faire part à l’ORGANISME PUBLIC par le biais d’un préavis écrit 10.09.01 - CT - Livraison - Délais de préavis avant la date de livraison. À défaut d’avis, le FOURNISSEUR peut se voir contraint de dédommager l’ORGANISME PUBLIC pour tout préjudice subi, suite à ce retard. Lieu Le FOURNISSEUR s’engage à livrer les Biens selon les adresses identifiées au Devis. Emballage Les emballages doivent être suffisamment résistants pour répondre aux exigences du transport et à la conservation du contenu en bon état et s’il y a lieu, à toutes spécifications particulières requises. Le FOURNISSEUR doit apposer sur l’emballage une copie du bon de livraison avec le numéro de commande, la description, l’origine des Biens et, s’il y a lieu, le numéro de Contrat. Responsabilité Le FOURNISSEUR est responsable de s’assurer que tous les documents reliés à la transaction soient dûment complétés. Dans le cas où l’information incomplète a pour résultat des sanctions ou des pénalités conformément au Régime de sanctions administratives pécuniaires (RSAP) de l’Agence des services frontaliers du Canada (ASFC), ces sanctions ou pénalités sont à la charge du FOURNISSEUR. Inspection [Facultative] Le FOURNISSEUR doit permettre, durant les heures normales d’affaires, aux représentants de l’ORGANISME PUBLIC de se rendre à l’endroit où les Biens sont produits et d’inspecter ceux-ci sur place. Installation [Facultative] Les Biens doivent être installés au(x) lieu(x) de livraison ou à tout autre endroit convenu et ce, pendant les heures normales de travail, soit du lundi au vendredi, de CT - Horaire de travail. Garantie [Facultative] Étendue Le FOURNISSEUR garantit les Biens contre tout défaut de conception, de fabrication, d’installation et de matériaux. La garantie couvre les pièces de remplacement, la main-d’œuvre, les frais de transport, d’assurance, la disponibilité du personnel technique aux heures ouvrables et tous les autres frais relatifs au service, à l’entretien, à la réparation, à la modification ou au rehaussement ou remplacement des Biens. L’exécution de cette garantie est à la charge du FOURNISSEUR. Durée Cette garantie est valide pendant une période minimale CT - Durée de validité de la garantie2 à partir de la date d’acceptation finale des Biens par le représentant autorisé de l’ORGANISME PUBLIC. Délai de réparation Si le FOURNISSEUR reçoit un avis de défectuosité de la part de l'ORGANISME PUBLIC, il doit effectuer un suivi auprès de ce dernier dans un délai CT - Délai maximal de réponse heure(s), à compter de l'expédition de cet avis. Le FOURNISSEUR doit aussi, s'il y a lieu, réparer le Bien défectueux dans un délai CT - Délai maximal de réparation jour(s), à compter de la date d'expédition de l'avis, à défaut de quoi celui-ci doit remplacer temporairement le Bien défectueux pour la durée de la réparation. Garantie du droit de propriété [Importante] Le FOURNISSEUR convient que les Biens livrés sont libres de toute Charge et ne sont sujets à aucune réclamation de la part d’une tierce partie. Le cas échéant, l’ORGANISME PUBLIC se réserve le droit de payer toute réclamation à l’encontre des Biens. Le paiement ainsi fait est réduit du montant dû et payable par l’ORGANISME PUBLIC au FOURNISSEUR. Conflits d'intérêts [Importante] Engagement d'éviter Le FOURNISSEUR doit éviter toute situation qui mettrait en conflit soit son intérêt propre, soit d’autres intérêts, notamment, mais sans limiter la généralité de ce qui précède, l’intérêt d’une de ses ressources, d’une de ses filiales ou d’une Personne Liée avec l’intérêt de l’ORGANISME PUBLIC. Avis Si une telle situation se présente ou est susceptible de se présenter, le FOURNISSEUR doit immédiatement en informer l’ORGANISME PUBLIC qui pourra, à sa seule discrétion, émettre une directive indiquant au FOURNISSEUR comment remédier à ce conflit d’intérêts. Portée La présente clause ne s’applique pas à un conflit pouvant survenir sur l’interprétation ou l’application du Contrat. Engagement de confidentialité [Facultative] Le FOURNISSEUR s’engage à ne révéler ni ne faire connaître, sans y être dûment autorisé par l’ORGANISME PUBLIC, quoi que ce soit en regard des Renseignements Personnels et Confidentiels dont il aurait eu connaissance dans l’exécution du Contrat. Il s’engage en particulier à respecter chacune des dispositions applicables aux Renseignements Personnels et Confidentiels ci-dessous énumérées; que ces renseignements lui soient communiqués dans le cadre de la réalisation du Contrat ou soient générés à l’occasion de sa réalisation : utiliser les Renseignements Personnels et Confidentiels divulgués uniquement aux fins pour lesquelles ils ont été divulgués; ne pas permettre à un tiers d’avoir accès à ces Renseignements Personnels et Confidentiels sauf si une divulgation de ceux-ci s’avère nécessaire à la réalisation de l’objet de sa divulgation; prendre toutes les mesures appropriées, lorsque la divulgation de Renseignements Personnels et Confidentiels à un tiers devient nécessaire, afin de protéger la confidentialité de ceux-ci en requérant de la part du tiers un engagement de confidentialité visant à assurer le même régime de protection de cette information que celui prévu aux présentes; prendre tous les moyens raisonnables appropriés pour limiter l’accès auxdits Renseignements Personnels et Confidentiels; aviser l’ORGANISME PUBLIC de tout accès non autorisé ou tout usage non autorisé des Renseignements Personnels et Confidentiels par un tiers; assister l’ORGANISME PUBLIC dans le cadre de poursuites ou procédures légales visant à protéger les Renseignements Personnels et Confidentiels; faire signer aux membres de son personnel, préalablement à l’accès à des Renseignements Personnels et des Renseignements Confidentiels, des engagements au respect de la confidentialité de ces renseignements selon le formulaire prévu à l'annexe 10.20 A des présentes et les transmettre aussitôt à l’ORGANISME PUBLIC, sous peine de se voir refuser l’accès aux locaux, à l’équipement de l’ORGANISME PUBLIC ou aux données à être transmises par celui-ci, le cas échéant; confier la destruction des Renseignements Personnels et Confidentiels à une entreprise de récupération, laquelle s’engage contractuellement à se conformer à la fiche d’information sur la destruction des documents contenant des renseignements personnels de la Commission d’accès à l’information du Québec joint en annexe 10.20 B ainsi qu’aux directives de l’ORGANISME PUBLIC. Le FOURNISSEUR doit alors, dans les SOIXANTE (60) jours suivant la fin du contrat de récupération, remettre à l’ORGANISME PUBLIC l’Attestation de destruction des Renseignements Personnels et Confidentiels jointe en annexe 10.20 C, signée par le responsable autorisé de cette entreprise. Maintien du système d'assurance de la qualité [Facultative] (Sans réduction indue de la concurrence par l'imposition d'une norme ISO ou autre [Clause liée - Système d'assurance qualité - Poste contractuel 1.00 - Régie]) Le FOURNISSEUR doit maintenir son enregistrement à un système d’assurance de la qualité durant toute la durée du Contrat. S’il le perd, il doit en aviser l’ORGANISME PUBLIC qui peut alors mettre fin au Contrat conformément à la clause 13.03 et réclamer les frais de transition correspondant à la différence entre le prix qui aurait été payé au FOURNISSEUR et celui qui doit être payé à tout nouveau fournisseur qui est appelé à exécuter le Contrat ainsi que tout coût raisonnable occasionné à l’ORGANISME PUBLIC. OU (Si réduction indue de la concurrence par l'imposition de la norme ISO [Clause liée - Système d'assurance qualité - Poste contractuel 1.00 - Régie]) Si le FOURNISSEUR possède un enregistrement à un système d’assurance de la qualité, il doit le maintenir durant toute la durée du Contrat. S’il le perd, il doit en aviser l’ORGANISME PUBLIC qui peut alors mettre fin au Contrat conformément à la clause et réclamer les frais de transition correspondant à la différence entre le prix qui aurait été payé au FOURNISSEUR et celui qui doit être payé à tout nouveau fournisseur qui est appelé à exécuter le Contrat ainsi que tout coût raisonnable occasionné à l’ORGANISME PUBLIC. Indemnisation [Importante] « Perte » Dans cette section, le terme Perte désigne tout dommage direct, amende, frais, pénalité, passif, perte de revenus et dépense, incluant, sans être limitatif, les intérêts, les dépenses raisonnables d’enquête, les frais judiciaires, les frais et dépenses raisonnables pour les services d’un avocat, comptable ou autre expert ou autres dépenses liées à une poursuite judiciaire ou autres procédures ou autre type de requête, défaut ou cotisation engagés pour : contester, le cas échéant, toute réclamation d’une tierce partie; ou exercer ou contester tout droit découlant du Contrat; mais ne comprend pas tout dommage punitif indirect ou incident suite à un manquement au Contrat. Portée Le FOURNISSEUR s’engage, en plus de prendre fait et cause pour l'ORGANISME PUBLIC lorsqu'il s'agit d'une réclamation impliquant celui-ci, à indemniser l'ORGANISME PUBLIC de toute Perte subie par ce dernier pour : toute attestation fausse, inexacte ou erronée faite par le FOURNISSEUR dans le Contrat; toute négligence, faute ou action ou omission volontaire par le FOURNISSEUR ou ses préposés lorsqu’ils agissent en son nom; toute inexécution de ses obligations découlant du Contrat, y compris le rappel de tout Bien par le fabricant; toute atteinte à la Propriété Intellectuelle d’une tierce partie causée par le FOURNISSEUR ou ses préposés lorsqu’ils agissent en son nom; toute dérogation, par le FOURNISSEUR ou ses préposés agissant en son nom, à une loi applicable dans le cadre du Contrat. Procédure Dans l’éventualité d’une réclamation, l’ORGANISME PUBLIC doit : envoyer un avis écrit de la réclamation au FOURNISSEUR à l’intérieur d’un délai raisonnable; coopérer avec le FOURNISSEUR, aux frais de ce dernier, dans le cadre des poursuites intentées en raison de la réclamation; et permettre au FOURNISSEUR de contrôler la défense et le règlement de la réclamation, sujet toutefois à ce que le FOURNISSEUR ne convienne pas d’un règlement sans avoir, au préalable, obtenu l’autorisation écrite de l’ORGANISME PUBLIC, laquelle ne peut être retenue, assortie de conditions ou retardée sans motif sérieux. Limite Nonobstant ce qui précède, la responsabilité du FOURNISSEUR en vertu du Contrat est toutefois limitée à CINQ (5) fois sa valeur jusqu’à concurrence de TROIS MILLIONS DE DOLLARS (3 000 000 $) ou à la valeur du Contrat pour les contrats de TROIS MILLIONS DE DOLLARS (3 000 000 $) et plus. Cette limite financière de responsabilité ne s’applique pas dans les cas prévus à l’article 1474 du Code civil du Québec. DISPOSITIONS PARTICULIÈRES Cession sujette à autorisation [Importante] Les droits et obligations issus du Contrat ne peuvent être cédés par le FOURNISSEUR à une autre Personne sans le consentement écrit préalable de l’ORGANISME PUBLIC, lequel ne peut être refusé sans motif sérieux. Le cessionnaire soumis à un tel consentement doit notamment respecter les critères suivants : ne pas avoir, dans le cadre d’un contrat antérieur avec un organisme public du Québec, fait l’objet d’une évaluation de rendement insatisfaisant de la part de cet organisme public; ne pas faire l’objet d’une requête en faillite volontaire ou involontaire ou de toute autre procédure relative à l’insolvabilité ou à la mise sous séquestre; ne pas faire l’objet d’actions, de poursuites ou de procédures judiciaires susceptibles d’avoir un impact défavorable sur l’ORGANISME PUBLIC ou l’exécution du Contrat; ne pas être en contravention d’une loi applicable lorsqu’une telle contravention est susceptible d’avoir un impact défavorable sur l’ORGANISME PUBLIC ou l’exécution du Contrat; ne pas être l’objet de réclamations administratives ou gouvernementales en cours alléguant de telles contraventions ou d’avis, d’ordres ou de demandes d’informations relatives à de telles contraventions. Toute cession des droits ou obligations créés par le Contrat n’ayant pas fait l’objet d’un tel consentement est nulle et sans effet. Cession préautorisée [Importante] Nonobstant ce qui précède, le FOURNISSEUR peut, moyennant un préavis à cet effet à l’ORGANISME PUBLIC, céder tous ses droits et obligations dans le Contrat à une personne morale dont elle doit détenir en tout temps le contrôle, sujet toutefois à ce que le FOURNISSEUR demeure responsable envers l’ORGANISME PUBLIC de l’exécution complète de ses obligations en vertu du Contrat. Évaluation du rendement [Facultative] Sous réserve des dispositions concernant l’évaluation du rendement prescrites à la section II du chapitre VIII prévues au Règlement sur certains contrats d'approvisionnement des organismes publics (chapitre C-65.1, r. 2), l’ORGANISME PUBLIC peut évaluer le rendement du FOURNISSEUR et en transmettre les résultats à celui-ci dans les SOIXANTE (60) jours suivant la fin du Contrat. Le FOURNISSEUR s’engage à collaborer au processus d’évaluation de rendement et à la préparation du bilan de fin d’étape. DISPOSITIONS GÉNÉRALES Avis [Essentielle] (Signification personnelle) Tout avis formel requis par le Contrat doit, pour être considéré comme étant légalement donné, être signifié personnellement au destinataire par écrit. Il est de la responsabilité du FOURNISSEUR de fournir les coordonnées de la personne compétente à recevoir un tel avis, dans les TRENTE (30) jours de l’entrée en vigueur du Contrat, lorsque celle-ci n’est pas la personne autorisée identifiée dans le Formulaire de Soumission. OU (Tout mode de communication) Tout avis émis par l’une ou l’autre des PARTIES en vertu des présentes est suffisant s’il est consigné dans un écrit et expédié par un mode de communication qui permet à la partie expéditrice de prouver que l'avis a effectivement été livré à la partie destinataire à l’adresse indiquée au début du Contrat ou à toute autre adresse que celle-ci peut faire connaître en conformité avec le présent article. Résolution de différends Négociations de bonne foi [Essentielle] S’il survient un différend se rapportant à l’interprétation, l’exécution ou l’annulation du Contrat, les PARTIES doivent se rencontrer et négocier de bonne foi dans le but de résoudre ce conflit. Médiation [Importante] Règles Si le différend ne peut être résolu par la voie d’une négociation de bonne foi entre les PARTIES à l’intérieur d’un délai raisonnable, les PARTIES conviennent de soumettre leur différend à la médiation entre les PARTIES en conflit conformément aux règles de médiation de l’instance choisie par l’ORGANISME PUBLIC. Règlement Tout règlement d’un tel différend par voie de médiation par les PARTIES doit être documenté par écrit. Si ce règlement modifie les termes du Contrat, cette modification doit être documentée dans un écrit signé par les deux PARTIES et annexé au Contrat. Arbitrage [Facultative] (Individuel - Facultative) Juridiction Si le différend ne peut être résolu par voie de médiation dans les TRENTE (30) jours, à compter du début du processus de médiation, les PARTIES peuvent convenir de procéder par la voie d’un arbitrage, à l’exclusion des tribunaux de droit commun, conformément aux dispositions du Code de procédure civile du Québec, étant entendu que celui-ci doit se dérouler dans le district judiciaire du siège social de l’ORGANISME PUBLIC. Le tribunal d’arbitrage, constitué à cette fin, est composé CT - Nombre d'arbitres arbitre(s). Décision Tout jugement ou décision rendu par le tribunal d’arbitrage conformément à la présente section : est final avec effet obligatoire entre les PARTIES; est immédiatement exécutoire sujet à son homologation par un tribunal compétent ayant juridiction en la matière; est strictement confidentiel, en ce qu’il ne peut pas être divulgué à des tiers à moins qu’une telle divulgation ne soit requise par la Loi aux fins d’exécution de la décision ou pour d’autres fins. Frais Les frais de l’arbitrage y compris les honoraires et les débours des PARTIES sont attribués par l’arbitre de la manière qu’il juge à propos dans les circonstances. OU (Mandataire - Facultative) Juridiction Si le différend ne peut être résolu par voie de médiation dans les TRENTE (30) jours, à compter du début du processus de médiation, les PARTIES peuvent convenir de procéder par la voie d’un arbitrage, à l’exclusion des tribunaux de droit commun, conformément aux dispositions du Code de procédure civile du Québec, étant entendu que celui-ci doit se dérouler, selon le cas, dans le district judiciaire du siège social du seul Établissement Participant impliqué ou, lorsqu’il y a plus qu’un Établissement Participant impliqué, celui de l’ORGANISME PUBLIC. Le tribunal d’arbitrage, constitué à cette fin, est composé CT - Nombre d'arbitres arbitre(s). Décision Tout jugement ou décision rendu par le tribunal d’arbitrage conformément à la présente section : est final avec effet obligatoire entre les PARTIES; est immédiatement exécutoire sujet à son homologation par un tribunal compétent ayant juridiction en la matière; est strictement confidentiel, en ce qu’il ne peut pas être divulgué à des tiers à moins qu’une telle divulgation ne soit requise par la Loi aux fins d’exécution de la décision ou pour d’autres fins. Frais Les frais de l’arbitrage y compris les honoraires et les débours des PARTIES sont attribués par l’arbitre de la manière qu’il juge à propos dans les circonstances. Élection [Essentielle] (Individuel) Les PARTIES conviennent que toute réclamation ou poursuite judiciaire pour quelque motif que ce soit relativement au Contrat soit soumise à la juridiction exclusive des tribunaux du Québec. Dans les limites permises par la Loi, elles conviennent de choisir le district judiciaire du siège social de l’ORGANISME PUBLIC, comme le lieu approprié pour l’audition de ces réclamations ou poursuites judiciaires, à l'exclusion de tout autre district judiciaire qui peut avoir juridiction sur un tel litige. OU (Mandataire) Les PARTIES conviennent que toute réclamation ou poursuite judiciaire pour quelque motif que ce soit relativement au Contrat soit soumise à la juridiction exclusive des tribunaux du Québec. Dans les limites permises par la Loi, elles conviennent de choisir, selon le cas, le district judiciaire du siège social du seul Établissement Participant impliqué ou, lorsqu’il y a plus qu’un Établissement Participant impliqué, celui de l’ORGANISME PUBLIC, comme le lieu approprié pour l’audition de ces réclamations ou poursuites judiciaires, à l'exclusion de tout autre district judiciaire qui peut avoir juridiction sur un tel litige. Modification [Essentielle] Le Contrat peut être modifié en tout temps d’un commun accord entre les PARTIES. Toute modification doit toutefois être consignée par écrit et signée par chacune des PARTIES au Contrat. Elle est présumée prendre effet le jour où elle est consignée dans un écrit dûment signé par les PARTIES. Non-renonciation [Importante] Le silence, la négligence ou le retard d’une PARTIE à exercer un droit ou un recours prévu aux présentes ne doit, en aucune circonstance, être interprété ou compris comme une renonciation par cette PARTIE à ses droits et recours. Toutefois, l'exercice d'un tel droit ou recours est assujetti à la prescription conventionnelle ou légale. FIN DU CONTRAT De gré à gré [Essentielle] Les PARTIES peuvent en tout temps mettre fin au Contrat d’un commun accord. Sans préavis [Essentielle] Dans les limites prévues par les lois applicables, le Contrat se termine, sans préavis, si l’un des événements suivants se produit : le FOURNISSEUR devient insolvable, s’il fait cession de ses biens suite au dépôt d’une requête en faillite, s’il devient failli suite au refus d’une proposition concordataire, ou s’il est déclaré failli par un tribunal compétent; le FOURNISSEUR, autrement que dans le cadre d'une réorganisation d’entreprise autorisée par l’ORGANISME PUBLIC, procède à la liquidation de son entreprise ou de la totalité ou d'une partie substantielle de ses biens ou à la dissolution de sa personnalité morale; un créancier prend possession de l'entreprise du FOURNISSEUR ou de la totalité ou d'une partie substantielle de ses biens ou si cette entreprise ou ces biens sont mis sous séquestre, ou si un liquidateur est nommé à son égard pour administrer ou liquider son entreprise ou la totalité ou une partie substantielle de ses biens et si cette prise de possession, cette mise sous séquestre ou cette nomination d'un liquidateur n’est pas annulée dans un délai de TRENTE (30) jours, à compter de la réalisation de l’un ou l’autre de ces événements; les opérations du FOURNISSEUR sont interrompues, pour quelque motif que ce soit, pour une période d’au moins CINQ (5) jours consécutifs. Avec préavis [Essentielle] Le Contrat peut être résilié par l’ORGANISME PUBLIC sur préavis écrit, sans préjudice à tous ses droits et recours, dans l'un ou l'autre des cas suivants : si l'une des attestations du FOURNISSEUR est fausse, inexacte ou trompeuse ; si le FOURNISSEUR ne respecte pas l'une des obligations du Contrat et que tel défaut n'est pas corrigé dans 13.03 - CT - Délai de correction alloué jour(s) suivant un avis écrit décrivant la violation ou le défaut; si le FOURNISSEUR devient inadmissible aux contrats publics en vertu du chapitre V.1 de la Loi sur les contrats des organismes publics (RLRQ, c. C-65.1); sans motif après un préavis de 13.03 - CT - Délai de préavis pour la résiliation du contrat jours. Changement de Contrôle [Importante] L’ORGANISME PUBLIC peut, sur envoi d’un avis écrit, mettre fin au Contrat si le FOURNISSEUR fait l’objet d’un Changement de Contrôle non autorisé par l’ORGANISME PUBLIC, dans la mesure où celui-ci, agissant raisonnablement, estime qu’un tel Changement de Contrôle lui est préjudiciable. Effets de la résiliation [Importante] Advenant une résiliation, le FOURNISSEUR a droit aux frais, déboursés et sommes représentant la valeur des Biens livrés jusqu’à la date de la résiliation du Contrat, conformément aux modalités s’y rapportant, sans autre compensation ni indemnité que ce soit. En outre, si le FOURNISSEUR a obtenu une avance monétaire, il doit la restituer dans son entier. ENTRÉE EN VIGUEUR Le Contrat entre en vigueur à la date mentionnée à l'Avis d'Adjudication ou à défaut, le jour de l’émission de l’Avis d’Adjudication au FOURNISSEUR par l’ORGANISME PUBLIC, sans autre avis ni formalité. DURÉE. Probatoire [Facultative] La durée probatoire du Contrat est CT - Durée probatoire du Contrat mois, à compter de son entrée en vigueur. Chaque PARTIE peut, au cours de la durée probatoire, mettre fin au Contrat à sa discrétion sur simple envoi d’un avis préalable d’au moins 15.01 - CT - Délai d'envoi d'un avis pour mettre fin au Contrat jours ouvrables à cet effet à l’autre PARTIE. Expiration [Importante] (Date fixe) Le Contrat expire le CT - Durée initiale du Contrat - Date fixe à moins qu’il y soit mis fin prématurément conformément aux autres dispositions du Contrat. OU (Durée déterminée - À commande ou à exécution sur demande) Le Contrat expire après une période CT - Durée du Contrat - 5 ans max an(s) à compter de son entrée en vigueur, à moins qu’il y soit mis fin prématurément conformément aux autres dispositions du Contrat. OU (Durée déterminée - À commande ou à exécution sur demande - En mois) Le Contrat expire après une période CT - Durée initiale du Contrat en mois mois, à compter de son entrée en vigueur, à moins qu’il y soit mis fin prématurément conformément aux autres dispositions du Contrat. OU (Durée déterminée - Exécution instantanée complète) Eu égard à la nature du Contrat, celui-ci demeure en vigueur tant et aussi longtemps que le FOURNISSEUR n’a pas livré les Biens à la satisfaction de l’ORGANISME PUBLIC et qu’il subsiste des obligations de garantie de ceux-ci à respecter. OU (Durée déterminée - Exécution successive - En année(s)) Le Contrat expire après une période CT - Durée initiale du Contrat an(s) à compter de son entrée en vigueur, à moins qu’il y soit mis fin prématurément conformément aux autres dispositions du Contrat. OU (Durée déterminée - Exécution successive - En mois) Le Contrat expire après une période CT - Durée initiale du Contrat en mois mois, à compter de son entrée en vigueur, à moins qu’il y soit mis fin prématurément conformément aux autres dispositions du Contrat. Renouvellement [Facultative] ([Clause liée - Renouvellement - Poste contractuel 2.00 de la Régie]) Le FOURNISSEUR consent CT - Nombre d'options de renouvellement option(s) de renouvellement du Contrat pour une durée supplémentaire CT - Durée de l'option de renouvellement an(s) Ajout facultatif - « chacune ». Afin de se prévaloir d’une option de renouvellement, l’ORGANISME PUBLIC doit faire parvenir au FOURNISSEUR un avis d’exercice de cette option au moins 15.03 - CT - Délai d'envoi de l'avis d'exercice de l'option jours avant l’expiration de la durée initiale ou renouvelée du Contrat. Survie [Importante] La fin du Contrat ne met pas fin à toute disposition de ce dernier qui, implicitement ou explicitement, doit demeurer en vigueur malgré la fin du Contrat. Non-reconduction [Importante] La continuation des relations commerciales entre les PARTIES, après l'expiration de la durée initiale ou renouvelée du Contrat, ne doit aucunement être considérée comme une reconduction, un renouvellement, une prolongation ou une continuation de celui-ci. PORTÉE (Individuel) Le Contrat, lie et est au bénéfice des PARTIES et de leurs Représentants Légaux. OU (Regroupement de membres) Nonobstant ce qui précède, l’ORGANISME PUBLIC peut, sur avis écrit au FOURNISSEUR pendant la durée du Contrat, sujet à l'accord de ce dernier qui ne peut s’y opposer sans motif sérieux, ajouter, aux mêmes termes et conditions, d’autres établissements membres de son organisme parmi ceux indiqués à l’annexe A - Liste des Établissements Participants, dans la section «Établissements membres intéressés». SIGNATURE LES PARTIES SONT RÉPUTÉES AVOIR SIGNÉ LE CONTRAT RESPECTIVEMENT AU MOMENT DU DÉPÔT DE LA SOUMISSION EN CE QUI CONCERNE LE FOURNISSEUR ET, QUANT À L’ORGANISME PUBLIC, AU MOMENT DE L’ÉMISSION PAR CE DERNIER DE L’AVIS D’ADJUDICATION DU FOURNISSEUR. ANNEXE A - LISTE DES ÉTABLISSEMENTS PARTICIPANTS [Importante] (Mandataire - Regroupement) (Inscrire sous forme de listes distinctes le nom de chacun des Établissements Participants et, le cas échéant, le nom de tous les établissements membres intéressés à se prévaloir ultérieurement du droit d'adhérer au Contrat ainsi que leurs besoins) ANNEXE 0.01.10 - DEVIS [Importante] (Sous forme de fichier Excel, ou autre, séparé, que vous annexerez à votre documentation d'appel d'offres) Le contenu de cette annexe se retrouve dans un document PDF, Excel, ou autre nommé «Devis», annexé en fichier séparé à la documentation d'appel d'offres. ANNEXE 4.01 - CAUTIONNEMENT D'EXÉCUTION [Essentielle] (Affirmative - Forfaitaire) La ..................., dont le principal établissement est situé à ........................................................., ici représentée par ......................................, dûment autorisé(e), (ci-après appelée la Caution), après avoir pris connaissance de la soumission et du contrat dûment octroyé par Dénomination sociale (ci-après appelé l’Organisme public), pour l'acquisition Biens visés et au nom de : ......................................................... (Nom du fournisseur) dont le principal établissement est situé à ...................................... ici représentée par ..................., dûment autorisé(e) (ci-après appelée le Fournisseur), s'oblige conjointement et solidairement avec le Fournisseur envers l’Organisme public à livrer les biens ci-haut décrits conformément à l'appel d'offres et au contrat, la Caution ne pouvant en aucun cas être appelée à payer plus de Montant forfaitaire de la garantie d'exécution. La Caution consent à ce que l’Organisme public et le Fournisseur puissent en tout temps faire des modifications au contrat, sous réserve du droit de la Caution d'en être informée, sur demande, et elle consent également à ce que l’Organisme public accorde tout délai nécessaire à l'exécution du contrat. Au cas d'inexécution du contrat par le Fournisseur, y compris les travaux relevant des garanties, la Caution assume les obligations du Fournisseur et, le cas échéant, entreprend et poursuit l'exécution du contrat dans un délai de CT - Demande d'exécution jours de l’avis écrit qui lui est donné à cet effet par l’Organisme public, à défaut de quoi l’Organisme public peut faire exécuter le contrat et la Caution doit lui payer tout excédent du prix arrêté avec le Fournisseur pour l’exécution du contrat. Ce cautionnement est régi par le droit applicable au Québec et, en cas de contestation, les tribunaux du Québec seront seuls compétents. Le Fournisseur intervient aux présentes pour y consentir et, à défaut par lui de ce faire, la présente obligation est nulle et de nul effet. EN FOI DE QUOI, LA CAUTION ET LE FOURNISSEUR PAR LEURS REPRÉSENTANTS DÛMENT AUTORISÉS, ONT SIGNÉ LES PRÉSENTES À ............................, CE …E JOUR DE ............................ 20… . CAUTION _________________________ Par: _________________________ Témoin ......................... FOURNISSEUR _________________________ Par: _________________________ Témoin ......................... (Affirmative - Pourcentage) La ..................., dont le principal établissement est situé à ........................................................., ici représentée par ......................................, dûment autorisé(e), (ci-après appelée la Caution), après avoir pris connaissance de la soumission et du contrat dûment octroyé par Dénomination sociale (ci-après appelé l’Organisme public), pour l'acquisition Biens visés et au nom de : ......................................................... (Nom du fournisseur) dont le principal établissement est situé à ...................................... ici représentée par ..................., dûment autorisé(e), (ci-après appelée le Fournisseur), s'oblige conjointement et solidairement avec le Fournisseur envers l’Organisme public à livrer les biens ci-haut décrits conformément à l'appel d'offres et au contrat, la Caution ne pouvant en aucun cas être appelée à payer un montant équivalant à plus de Pourcentage du montant du Contrat pour la garantie d'exécution du Contrat. La Caution consent à ce que l’Organisme public et le Fournisseur puissent en tout temps faire des modifications au contrat, sous réserve du droit de la Caution d'en être informée, sur demande, et elle consent également à ce que l’Organisme public accorde tout délai nécessaire à l'exécution du contrat. Au cas d'inexécution du contrat par le Fournisseur, y compris les travaux relevant des garanties, la Caution assume les obligations du Fournisseur et, le cas échéant, entreprend et poursuit l'exécution du contrat dans un délai de CT - Demande d'exécution jours de l’avis écrit qui lui est donné à cet effet par l’Organisme public, à défaut de quoi l’Organisme public peut faire exécuter le contrat et la Caution doit lui payer tout excédent du prix arrêté avec le Fournisseur pour l’exécution du contrat. Ce cautionnement est régi par le droit applicable au Québec et, en cas de contestation, les tribunaux du Québec seront seuls compétents. Le Fournisseur intervient aux présentes pour y consentir et, à défaut par lui de ce faire, la présente obligation est nulle et de nul effet. EN FOI DE QUOI, LA CAUTION ET LE FOURNISSEUR PAR LEURS REPRÉSENTANTS DÛMENT AUTORISÉS, ONT SIGNÉ LES PRÉSENTES À ............................, CE …E JOUR DE ............................ 20… . CAUTION _________________________ Par: _________________________ Témoin ......................... FOURNISSEUR _________________________ Par: _________________________ Témoin ......................... ANNEXE 10.03.02 - LISTE DES SOUS-CONTRACTANTS [Essentielle] Titre : Titre de l'appel d'offres Numéro : Numéro de l'appel d'offres Instructions Le contractant est soumis à l'obligation contractuelle de transmettre à l'ORGANISME PUBLIC, avant que l’exécution du Contrat ne débute, une liste indiquant, pour chaque sous-contrat, les informations demandées ci-dessous. Lorsque, pendant l’exécution du Contrat qu’il a conclu avec l'ORGANISME PUBLIC, le contractant conclut un nouveau sous-contrat, il doit, avant que ne débute l’exécution de ce nouveau sous-contrat, en aviser l'ORGANISME PUBLIC en produisant une liste modifiée. Pour tous les sous-contrats (approvisionnement, services et travaux de construction), le contractant doit remplir le tableau. À remplir pour tout sous-contrat Nom du sous-contractant NEQ du sous-contractant Adresse du sous-contractant Montant du sous-contrat Date du sous-contrat Signé à ......................... ce ......................... ___________________________________________ Signature du représentant autorisé du contractant ___________________________________________ Nom du représentant (en lettres moulées) ANNEXE 10.20 A - ENGAGEMENT DE CONFIDENTIALITÉ [Facultative] Je, soussigné(e), ………………. (nom de la personne), exerçant mes fonctions au sein de ………………. (nom du fournisseur), déclare formellement ce qui suit. Je suis un(e) employé(e) de cette entreprise et, à ce titre, j’ai été affecté(e) à l’exécution du contrat concernant ………………. (identifier l’objet du contrat intervenu) entre ………………. (identifier l’organisme public)et mon employeur en date du ………………. (compléter). Je m’engage, sans limite de temps, à garder le secret le plus entier, à ne pas communiquer ni permettre que soit communiqué à quiconque quelque renseignement ou document, quel qu’en soit le support, qui me sera communiqué ou dont je prendrai connaissance dans l’exercice ou à l’occasion de l’exécution de mes fonctions, à moins d’avoir été dûment autorisé à ce faire par ………………. (identifier l’organisme public) ou par l’un de ses représentants autorisés. Je m’engage également, sans limite de temps, à ne pas faire usage d’un tel renseignement ou document à une fin autre que celle s’inscrivant dans le cadre des rapports contractuels entretenus entre mon employeur et ………………. (identifier l’organisme public). J’ai été informé que le défaut par le (la) soussigné(e) de respecter tout ou partie du présent engagement de confidentialité m’expose ou expose mon employeur à des recours légaux, des réclamations, des poursuites et toutes autres procédures en raison du préjudice causé pour quiconque est concerné par le contrat précité. Je confirme avoir lu les termes du présent engagement et en avoir saisi toute la portée. ET J’AI SIGNÉ À ………………., CE …E JOUR DU MOIS DE ………………., DE L’AN ……. __________________________________________________ (Signature du déclarant ou de la déclarante) ANNEXE 10.20 B - FICHE D'INFORMATION SUR LA DESTRUCTION DES DOCUMENTS CONTENANT DES RENSEIGNEMENTS PERSONNELS [Facultative] Tout organisme public ou toute entreprise privée qui recueillent, détiennent, utilisent ou communiquent des renseignements personnels doivent mettre en place des mesures de sécurité propres à préserver le caractère confidentiel de ces données. Cette obligation découle à la fois de la Loi sur l'accès aux documents des organismes publics et sur la protection des renseignements personnels et de la Loi sur la protection des renseignements personnels dans le secteur privé. À la suite d'incidents majeurs qui lui ont été signalés, la Commission d'accès à l'information a réfléchi sur les moyens à prendre pour assurer la protection du caractère confidentiel des renseignements personnels au moment de leur destruction. Au sein de l’organisme ou de l’entreprise, il est important que chaque employé, à son poste de travail, se sente responsable d’assurer la protection des renseignements personnels qu’il traite. C’est ainsi qu’il ne doit pas jeter au rebut les documents, cartes de mémoire flash, clés USB, disques durs d’ordinateur, CD, DVD, etc. qui en contiennent, sans s’être assuré au préalable que leur contenu ne peut être reconstitué. La Commission suggère aux organismes et entreprises de désigner une personne qui sera responsable de mettre en place et de surveiller l'application d'une politique sur la destruction de documents contenant des renseignements personnels. Le déchiquetage de documents sur support papier, le formatage de médias numériques réutilisables et la destruction physique de médias numériques non réutilisables demeurent les meilleures méthodes de destruction des documents confidentiels. Si les spécifications techniques de la déchiqueteuse de l’entreprise ne répondent pas au volume des documents sur support papier à détruire, il faut les entreposer dans un endroit fermé à clef avant de les confier à une entreprise spécialisée de récupération de papier. La Commission voit mal comment la destruction des documents contenant des renseignements personnels puisse s'effectuer sur la foi d'une simple entente verbale. Aussi, un contrat en bonne et due forme concernant la destruction des documents devrait contenir au moins des clauses spécifiant: le procédé utilisé pour la destruction des documents; la nécessité d'un accord préalable entre les parties avant de confier la destruction des documents confidentiels à un sous-contractant; les pénalités aux dépens de l’entreprise de récupération si elle ne respecte pas ses engagements. En outre, dans ce même contrat, la Commission est d’avis que l’entreprise de récupération devrait : reconnaître que les renseignements personnels contenus dans les documents sont de nature confidentielle; faire signer un engagement à la confidentialité à toute personne qui aura à manipuler ces documents; s’engager à ce que les documents soient entreposés dans des locaux sécuritaires et qu’ils soient toujours sous bonne garde jusqu’à leur destruction; veiller à limiter de façon très stricte l’accès aux lieux où les documents sont entreposés ou transformés; s’engager à ne pas céder les documents en sa possession à des tiers à des fins autres que la transformation du papier préalablement et obligatoirement déchiqueté; assurer à son client le droit d’avoir accès en tout temps à ses installations, toute la durée du contrat; voir à la destruction totale des documents qui ne font pas l’objet d’une transformation; faire rapport à son client lors de la destruction des documents reçus. ANNEXE 10.20 C - ATTESTATIONS DE DESTRUCTION DES RENSEIGNEMENTS PERSONNELS ET CONFIDENTIELS [Facultative] Je, soussigné(e), ………………., (prénom et nom de l’employé(e)) exerçant mes fonctions au sein de ………………., dont le bureau principal est situé à l’adresse ……………….……………….……….., déclare solennellement que je suis dûment autorisé(e) pour certifier que les renseignements personnels et confidentiels communiqués par l’organisme public ou toute autre personne dans le cadre du projet octroyé à ……………….………………. (Nom du fournisseur, prestataire de services ou entrepreneur) et qui prend fin le………………., ont été détruits selon les méthodes suivantes : Date : ………………., (Cochez les cases appropriées) ☐ par déchiquetage : renseignements sur support papier ☐ par destruction logique et effacement physique en utilisant un logiciel de réécriture : renseignements sur support informatique ☐ par un autre mode de destruction : préciser le support et le mode de destruction : EN FOI DE QUOI J’AI SIGNÉ À ………………., CE …E JOUR DU MOIS DE ………………., DE L’AN … ........................................................................ (Signature de l’employé) DOCUMENT NO H01.500 - 2 - ÉDILEX INC. 2006 DOCUMENT NO G01.200 FORMULAIRE DE DROIT COMMERCIAL COLLECTION GESTION JURIDIQUE D’ENTREPRISE Loi sur les contrats des organismes publics Général DATE D’IMPRESSION : 19-12-20 2:10 PM - 4 - CONTRAT A - RÉGIE Loi sur les contrats des organismes publics Général - Page 54 de 54 - DATE D’IMPRESSION : 19-12-20 2:10 PM - 48 - CONTRAT A - RÉGIE\""
      ]
     },
     "execution_count": 6,
     "metadata": {},
     "output_type": "execute_result"
    }
   ],
   "source": [
    "data"
   ]
  },
  {
   "cell_type": "markdown",
   "metadata": {},
   "source": [
    "### Clean text and transform into tokens"
   ]
  },
  {
   "cell_type": "code",
   "execution_count": 8,
   "metadata": {},
   "outputs": [],
   "source": [
    "def clean_text(doc):\n",
    "    tokens = doc.split()\n",
    "    table = str.maketrans('','',string.punctuation)        # make a translation table\n",
    "    tokens = [(w.translate(table)) for w in tokens]        # remove punctuation\n",
    "    tokens = [word for word in tokens if word.isalpha()]   # remove non-alphanumeric special characters\n",
    "    tokens = [word.lower() for word in tokens]             # convert into lowercase letters\n",
    "    tokens = [word for word in tokens if word != 'essentielle']\n",
    "    tokens = [word for word in tokens if word != 'importante']\n",
    "    tokens = [word for word in tokens if word != 'facultative']\n",
    "    return tokens\n",
    "\n",
    "def clean_text_properly(doc):\n",
    "    tokens = doc.split()\n",
    "    tokens = [word for word in tokens if word != '[Essentielle]']\n",
    "    tokens = [word for word in tokens if word != '[Importante]']\n",
    "    tokens = [word for word in tokens if word != '[Facultative]']\n",
    "    table = str.maketrans('','',string.punctuation)        # make a translation table\n",
    "    tokens = [(w.translate(table)) for w in tokens]        # remove punctuation\n",
    "    tokens = [word for word in tokens if word.isalpha()]   # remove non-alphanumeric special characters\n",
    "    tokens = [word.lower() for word in tokens]             # convert into lowercase letters\n",
    "    return tokens"
   ]
  },
  {
   "cell_type": "code",
   "execution_count": 9,
   "metadata": {},
   "outputs": [],
   "source": [
    "tokens = clean_text_properly(data)"
   ]
  },
  {
   "cell_type": "code",
   "execution_count": 10,
   "metadata": {},
   "outputs": [
    {
     "name": "stdout",
     "output_type": "stream",
     "text": [
      "['appel', 'no', 'document', 'sans', 'contrat', 'intégré', 'page', 'de', 'contrat', 'biens', 'fournitures', 'version', 'détaillée', 'appel', 'no', 'documentation', 'appel', 'no', 'documentation', 'biens', 'fournitures', 'contrat', 'version', 'détaillée', 'table', 'des', 'matières', 'page', 'préambule', 'interprétation', 'terminologie', 'appel', 'doffres', 'avis', 'dadjudication', 'bien', 'bien', 'en', 'consignation', 'bon', 'de', 'commande', 'bordereau', 'de', 'prix', 'changement', 'de', 'contrôle', 'charge', 'contrat', 'devis', 'documents', 'dappel', 'doffres', 'établissement', 'participant', 'formulaire', 'de', 'soumission', 'institution', 'financière', 'organisme', 'public', 'partie', 'personne', 'personne', 'liée', 'renseignement', 'confidentiel', 'renseignement', 'personnel', 'représentants', 'légaux', 'soumission', 'primauté', 'droit', 'applicable', 'généralités', 'dates', 'et', 'délais', 'a', 'de', 'rigueur', 'b', 'calcul', 'références', 'financières', 'consentement', 'objet', 'contrepartie', 'prix', 'ajustement', 'modification', 'prix', 'cas', 'permis', 'avis', 'aux', 'autres', 'fournisseurs', 'cas', 'permis', 'avis', 'aux', 'autres', 'fournisseurs', 'renouvellement', 'transition', 'modalités', 'de', 'paiement', 'facturation', 'paiement', 'biens', 'en', 'consignation', 'lieu', 'vérification', 'compensation', 'fiscale', 'réquisition', 'du', 'ministre', 'du', 'revenu', 'effet', 'de', 'la', 'remise', 'renonciation', 'intérêt', 'sûretés', 'garantie', 'dexécution', 'constitution', 'maintien', 'constitution', 'maintien', 'constitution', 'maintien', 'constitution', 'maintien', 'constitution', 'maintien', 'constitution', 'maintien', 'appropriation', 'préavis', 'à', 'la', 'caution', 'demande', 'dexécution', 'indemnisation', 'biens', 'en', 'consignation', 'attestations', 'réciproques', 'attestations', 'de', 'lorganisme', 'public', 'attestations', 'du', 'fournisseurprestataire', 'de', 'servicesentrepreneur', 'statut', 'capacité', 'divulgation', 'obligations', 'réciproques', 'gestion', 'du', 'regroupement', 'obligation', 'des', 'établissements', 'participants', 'interdiction', 'ajout', 'dun', 'établissement', 'a', 'avis', 'b', 'délai', 'a', 'avis', 'b', 'délai', 'collaboration', 'information', 'confidentielle', 'remplacement', 'dun', 'représentant', 'exécution', 'complète', 'obligations', 'de', 'lorganisme', 'public', 'chargé', 'de', 'projet', 'bon', 'de', 'commande', 'nonresponsabilité', 'biens', 'en', 'consignation', 'liste', 'initiale', 'bon', 'de', 'commande', 'conservation', 'contrôle', 'de', 'linventaire', 'utilisation', 'fin', 'du', 'contrat', 'acceptation', 'inspection', 'obligations', 'du', 'fournisseurprestataire', 'de', 'servicesentrepreneur', 'défaut', 'assurance', 'responsabilité', 'civile', 'générale', 'preuve', 'montant', 'émetteur', 'étendue', 'de', 'la', 'responsabilité', 'souscontrat', 'autorisation', 'exigences', 'a', 'liste', 'autorisation', 'de', 'contracter', 'commandes', 'quantité', 'conformité', 'qualité', 'vices', 'refus', 'de', 'bien', 'a', 'reprise', 'b', 'remplacement', 'remplacement', 'bien', 'biens', 'en', 'consignation', 'liste', 'initiale', 'livraison', 'et', 'remplacement', 'entreposage', 'utilisation', 'vérification', 'retrait', 'homologation', 'contrôle', 'de', 'linventaire', 'reddition', 'de', 'compte', 'fin', 'du', 'contrat', 'production', 'commande', 'excédentaire', 'contrôles', 'et', 'essais', 'interruption', 'biens', 'supprimés', 'incapacité', 'retrait', 'langue', 'dusage', 'transfert', 'de', 'propriété', 'perte', 'santé', 'et', 'sécurité', 'consignes', 'mise', 'à', 'jour', 'matières', 'dangereuses', 'livraison', 'délais', 'et', 'fréquence', 'lieu', 'emballage', 'responsabilité', 'inspection', 'installation', 'garantie', 'étendue', 'durée', 'délai', 'de', 'réparation', 'garantie', 'du', 'droit', 'de', 'propriété', 'conflits', 'dintérêts', 'engagement', 'déviter', 'avis', 'portée', 'engagement', 'de', 'confidentialité', 'maintien', 'du', 'système', 'dassurance', 'de', 'la', 'qualité', 'indemnisation', 'perte', 'portée', 'procédure', 'limite', 'dispositions', 'particulières', 'cession', 'sujette', 'à', 'autorisation', 'cession', 'préautorisée', 'évaluation', 'du', 'rendement', 'dispositions', 'générales', 'avis', 'résolution', 'de', 'différends', 'négociations', 'de', 'bonne', 'foi', 'médiation', 'a', 'règles', 'b', 'règlement', 'arbitrage', 'a', 'juridiction', 'b', 'décision', 'c', 'frais', 'a', 'juridiction', 'b', 'décision', 'c', 'frais', 'élection', 'modification', 'nonrenonciation', 'fin', 'du', 'contrat', 'de', 'gré', 'à', 'gré', 'sans', 'préavis', 'avec', 'préavis', 'changement', 'de', 'contrôle', 'effets', 'de', 'la', 'résiliation', 'entrée', 'en', 'vigueur', 'durée', 'probatoire', 'expiration', 'renouvellement', 'survie', 'nonreconduction', 'portée', 'liste', 'des', 'annexes', 'page', 'annexe', 'a', 'liste', 'des', 'établissements', 'participants', 'annexe', 'devis', 'annexe', 'cautionnement', 'dexécution', 'annexe', 'liste', 'des', 'souscontractants', 'annexe', 'a', 'engagement', 'de', 'confidentialité', 'annexe', 'b', 'fiche', 'dinformation', 'sur', 'la', 'destruction', 'des', 'documents', 'contenant', 'des', 'renseignements', 'personnels', 'annexe', 'c', 'attestations', 'de', 'destruction', 'des', 'renseignements', 'personnels', 'et', 'confidentiels', 'contrat', 'intervenu', 'en', 'la', 'ville', 'de', 'lieu', 'de', 'naissance', 'de', 'lappel', 'doffres', 'ville', 'province', 'de', 'québec', 'canada', 'individuel', 'entre', 'dénomination', 'sociale', 'personne', 'morale', 'de', 'droit']\n"
     ]
    }
   ],
   "source": [
    "print(tokens[:500])"
   ]
  },
  {
   "cell_type": "code",
   "execution_count": 11,
   "metadata": {},
   "outputs": [
    {
     "data": {
      "text/plain": [
       "13093"
      ]
     },
     "execution_count": 11,
     "metadata": {},
     "output_type": "execute_result"
    }
   ],
   "source": [
    "len(tokens)"
   ]
  },
  {
   "cell_type": "code",
   "execution_count": 12,
   "metadata": {},
   "outputs": [
    {
     "data": {
      "text/plain": [
       "1810"
      ]
     },
     "execution_count": 12,
     "metadata": {},
     "output_type": "execute_result"
    }
   ],
   "source": [
    "len(set(tokens))  # number of unique words"
   ]
  },
  {
   "cell_type": "markdown",
   "metadata": {
    "colab_type": "text",
    "id": "dLNvTTO7TZFb"
   },
   "source": [
    "# 2. Create text sequences \n",
    "\n",
    "The number of tokens in a sequence depends on the nature of the document. For legal documents, we'll start with 25 words that should be enough to capture the context of the sentence. "
   ]
  },
  {
   "cell_type": "code",
   "execution_count": 13,
   "metadata": {
    "colab": {},
    "colab_type": "code",
    "id": "fXLYToH6TVy3"
   },
   "outputs": [],
   "source": [
    "train_len = 25+1    # 25 training words and one target word\n",
    "\n",
    "# Make an empty list of sequences\n",
    "lines = []\n",
    "\n",
    "for i in range(train_len, len(tokens)):   # from 0 to 25\n",
    "    seq = tokens[i-train_len:i]           # create a sequence of 26 tokens \n",
    "    line = ' '.join(seq)                  # join tokens to create a line\n",
    "    lines.append(line)\n",
    "    if i > 100000:                        # take 100k words to train the model, to reduce the resources\n",
    "        break"
   ]
  },
  {
   "cell_type": "code",
   "execution_count": 14,
   "metadata": {},
   "outputs": [
    {
     "data": {
      "text/plain": [
       "13067"
      ]
     },
     "execution_count": 14,
     "metadata": {},
     "output_type": "execute_result"
    }
   ],
   "source": [
    "len(lines)"
   ]
  },
  {
   "cell_type": "code",
   "execution_count": 15,
   "metadata": {},
   "outputs": [
    {
     "data": {
      "text/plain": [
       "'appel no document sans contrat intégré page de contrat biens fournitures version détaillée appel no documentation appel no documentation biens fournitures contrat version détaillée table des'"
      ]
     },
     "execution_count": 15,
     "metadata": {},
     "output_type": "execute_result"
    }
   ],
   "source": [
    "lines[0]"
   ]
  },
  {
   "cell_type": "code",
   "execution_count": 16,
   "metadata": {},
   "outputs": [
    {
     "data": {
      "text/plain": [
       "('appel', 'des')"
      ]
     },
     "execution_count": 16,
     "metadata": {},
     "output_type": "execute_result"
    }
   ],
   "source": [
    "tokens[0], tokens[25]"
   ]
  },
  {
   "cell_type": "code",
   "execution_count": 17,
   "metadata": {},
   "outputs": [
    {
     "data": {
      "text/plain": [
       "'no document sans contrat intégré page de contrat biens fournitures version détaillée appel no documentation appel no documentation biens fournitures contrat version détaillée table des matières'"
      ]
     },
     "execution_count": 17,
     "metadata": {},
     "output_type": "execute_result"
    }
   ],
   "source": [
    "lines[1]"
   ]
  },
  {
   "cell_type": "code",
   "execution_count": 18,
   "metadata": {
    "colab": {},
    "colab_type": "code",
    "id": "zR8AW5NqTdbK"
   },
   "outputs": [
    {
     "data": {
      "text/plain": [
       "('no', 'matières')"
      ]
     },
     "execution_count": 18,
     "metadata": {},
     "output_type": "execute_result"
    }
   ],
   "source": [
    "tokens[1], tokens[26]"
   ]
  },
  {
   "cell_type": "code",
   "execution_count": 19,
   "metadata": {},
   "outputs": [],
   "source": [
    "import random\n",
    "random.seed(101)\n",
    "random_pick = random.randint(0,len(lines))"
   ]
  },
  {
   "cell_type": "code",
   "execution_count": 20,
   "metadata": {},
   "outputs": [
    {
     "data": {
      "text/plain": [
       "'en vertu des présentes est suffisant est consigné dans un écrit et expédié par un mode de communication qui permet à la partie expéditrice de prouver'"
      ]
     },
     "execution_count": 20,
     "metadata": {},
     "output_type": "execute_result"
    }
   ],
   "source": [
    "lines[random_pick]"
   ]
  },
  {
   "cell_type": "markdown",
   "metadata": {
    "colab_type": "text",
    "id": "s-tASH05T3TK"
   },
   "source": [
    "# 3. Tokenization: convert text sequences to number sequences"
   ]
  },
  {
   "cell_type": "code",
   "execution_count": 21,
   "metadata": {},
   "outputs": [],
   "source": [
    "import numpy as np\n",
    "from tensorflow.keras.preprocessing.text import Tokenizer\n",
    "from tensorflow.keras.utils import to_categorical\n",
    "from tensorflow.keras.models import Sequential\n",
    "from tensorflow.keras.layers import Dense, LSTM, Embedding\n",
    "from tensorflow.keras.preprocessing.sequence import pad_sequences"
   ]
  },
  {
   "cell_type": "code",
   "execution_count": 22,
   "metadata": {
    "colab": {},
    "colab_type": "code",
    "id": "fLU0gzZpT6CR"
   },
   "outputs": [],
   "source": [
    "# Create a Tokenizer object, fit it on the text, and transform to numerical sequences\n",
    "\n",
    "tokenizer = Tokenizer()\n",
    "tokenizer.fit_on_texts(lines) \n",
    "sequences = tokenizer.texts_to_sequences(lines) "
   ]
  },
  {
   "cell_type": "code",
   "execution_count": 23,
   "metadata": {
    "colab": {
     "base_uri": "https://localhost:8080/",
     "height": 374
    },
    "colab_type": "code",
    "id": "H5IdddpoT9zu",
    "outputId": "d5ff042d-e59b-4306-c653-b45df700db77"
   },
   "outputs": [
    {
     "data": {
      "text/plain": [
       "[257,\n",
       " 361,\n",
       " 168,\n",
       " 46,\n",
       " 11,\n",
       " 1810,\n",
       " 694,\n",
       " 1,\n",
       " 11,\n",
       " 20,\n",
       " 1052,\n",
       " 1051,\n",
       " 695,\n",
       " 257,\n",
       " 361,\n",
       " 295,\n",
       " 257,\n",
       " 361,\n",
       " 295,\n",
       " 20,\n",
       " 1052,\n",
       " 11,\n",
       " 1051,\n",
       " 695,\n",
       " 1808,\n",
       " 13]"
      ]
     },
     "execution_count": 23,
     "metadata": {},
     "output_type": "execute_result"
    }
   ],
   "source": [
    "# Each of these numbers is an id for a particular word\n",
    "\n",
    "sequences[0]"
   ]
  },
  {
   "cell_type": "code",
   "execution_count": 24,
   "metadata": {
    "colab": {
     "base_uri": "https://localhost:8080/",
     "height": 34
    },
    "colab_type": "code",
    "id": "p1I74xfoUAjB",
    "outputId": "975158b7-cf44-4ca0-b8ad-c2f1f6147529"
   },
   "outputs": [
    {
     "data": {
      "text/plain": [
       "'qui'"
      ]
     },
     "execution_count": 24,
     "metadata": {},
     "output_type": "execute_result"
    }
   ],
   "source": [
    "tokenizer.index_word[25]"
   ]
  },
  {
   "cell_type": "code",
   "execution_count": 25,
   "metadata": {
    "colab": {
     "base_uri": "https://localhost:8080/",
     "height": 391
    },
    "colab_type": "code",
    "id": "HG-5od3wUC5V",
    "outputId": "5b583bad-0a0f-4da9-8f26-9bea40b48a82"
   },
   "outputs": [
    {
     "name": "stdout",
     "output_type": "stream",
     "text": [
      "13 : des\n",
      "426 : matières\n",
      "694 : page\n",
      "696 : préambule\n",
      "697 : interprétation\n",
      "698 : terminologie\n",
      "257 : appel\n",
      "87 : doffres\n",
      "47 : avis\n",
      "427 : dadjudication\n",
      "30 : bien\n",
      "30 : bien\n",
      "10 : en\n",
      "40 : consignation\n",
      "121 : bon\n",
      "1 : de\n",
      "78 : commande\n",
      "227 : bordereau\n",
      "1 : de\n",
      "33 : prix\n",
      "143 : changement\n",
      "1 : de\n",
      "151 : contrôle\n",
      "296 : charge\n",
      "11 : contrat\n",
      "170 : devis\n"
     ]
    }
   ],
   "source": [
    "for i in sequences[25]:\n",
    "    print(f'{i} : {tokenizer.index_word[i]}')"
   ]
  },
  {
   "cell_type": "code",
   "execution_count": 45,
   "metadata": {
    "colab": {},
    "colab_type": "code",
    "id": "LDbdDPdOVHQB"
   },
   "outputs": [],
   "source": [
    "# Tokenizer can give a dictionary of all word counts\n",
    "\n",
    "#tokenizer.word_counts"
   ]
  },
  {
   "cell_type": "code",
   "execution_count": 26,
   "metadata": {
    "colab": {
     "base_uri": "https://localhost:8080/",
     "height": 34
    },
    "colab_type": "code",
    "id": "r6KVJnKQVL04",
    "outputId": "701a6591-132a-434c-d8a4-ae92ead55bb8"
   },
   "outputs": [
    {
     "data": {
      "text/plain": [
       "1810"
      ]
     },
     "execution_count": 26,
     "metadata": {},
     "output_type": "execute_result"
    }
   ],
   "source": [
    "# Vocabulary size\n",
    "\n",
    "vocabulary_size = len(tokenizer.word_counts)\n",
    "vocabulary_size"
   ]
  },
  {
   "cell_type": "markdown",
   "metadata": {
    "colab_type": "text",
    "id": "XUJeGoLLVTDi"
   },
   "source": [
    "### Convert to Numpy Matrix"
   ]
  },
  {
   "cell_type": "code",
   "execution_count": 27,
   "metadata": {
    "colab": {},
    "colab_type": "code",
    "id": "-FTNyvbuVVry"
   },
   "outputs": [],
   "source": [
    "# 'sequences' is a list of lists, we can convert it to numpy matrix\n",
    "sequences = np.array(sequences)"
   ]
  },
  {
   "cell_type": "code",
   "execution_count": 28,
   "metadata": {
    "colab": {
     "base_uri": "https://localhost:8080/",
     "height": 136
    },
    "colab_type": "code",
    "id": "6EaNMEplVYyl",
    "outputId": "b11e3f0a-b27b-479c-a8d9-6bcad36f5b57"
   },
   "outputs": [
    {
     "data": {
      "text/plain": [
       "array([[ 257,  361,  168, ...,  695, 1808,   13],\n",
       "       [ 361,  168,   46, ..., 1808,   13,  426],\n",
       "       [ 168,   46,   11, ...,   13,  426,  694],\n",
       "       ...,\n",
       "       [ 600,   70,   28, ...,    1,   73, 1809],\n",
       "       [  70,   28,    6, ...,   73, 1809,   11],\n",
       "       [  28,    6,  256, ..., 1809,   11,   39]])"
      ]
     },
     "execution_count": 28,
     "metadata": {},
     "output_type": "execute_result"
    }
   ],
   "source": [
    "sequences"
   ]
  },
  {
   "cell_type": "markdown",
   "metadata": {
    "colab_type": "text",
    "id": "YMCthr0NVeJz"
   },
   "source": [
    "# 4. Feature / label split (create x and y)\n",
    "\n",
    "Predict the last word in a sequence"
   ]
  },
  {
   "cell_type": "code",
   "execution_count": 29,
   "metadata": {
    "colab": {
     "base_uri": "https://localhost:8080/",
     "height": 136
    },
    "colab_type": "code",
    "id": "QX_MXYseVrZe",
    "outputId": "0a9091e5-4302-4e58-f547-0676f914f70f"
   },
   "outputs": [
    {
     "data": {
      "text/plain": [
       "array([[ 257,  361,  168, ..., 1051,  695, 1808],\n",
       "       [ 361,  168,   46, ...,  695, 1808,   13],\n",
       "       [ 168,   46,   11, ..., 1808,   13,  426],\n",
       "       ...,\n",
       "       [ 600,   70,   28, ...,  694,    1,   73],\n",
       "       [  70,   28,    6, ...,    1,   73, 1809],\n",
       "       [  28,    6,  256, ...,   73, 1809,   11]])"
      ]
     },
     "execution_count": 29,
     "metadata": {},
     "output_type": "execute_result"
    }
   ],
   "source": [
    "# First 25 words (compare to 'sequences' : it's everything without the last index)\n",
    "sequences[:,:-1]"
   ]
  },
  {
   "cell_type": "code",
   "execution_count": 30,
   "metadata": {
    "colab": {
     "base_uri": "https://localhost:8080/",
     "height": 34
    },
    "colab_type": "code",
    "id": "h5zUGxMdVuBz",
    "outputId": "a6b71b0b-f98d-441c-8f68-c4e90d554c45"
   },
   "outputs": [
    {
     "data": {
      "text/plain": [
       "array([  13,  426,  694, ..., 1809,   11,   39])"
      ]
     },
     "execution_count": 30,
     "metadata": {},
     "output_type": "execute_result"
    }
   ],
   "source": [
    "# last word\n",
    "sequences[:,-1]"
   ]
  },
  {
   "cell_type": "code",
   "execution_count": 31,
   "metadata": {
    "colab": {
     "base_uri": "https://localhost:8080/",
     "height": 34
    },
    "colab_type": "code",
    "id": "CnGk4S6_V09V",
    "outputId": "0e25b56c-c65f-48e4-86d6-6b58c0d94023"
   },
   "outputs": [],
   "source": [
    "x, y = sequences[:,:-1], sequences[:,-1]"
   ]
  },
  {
   "cell_type": "code",
   "execution_count": 32,
   "metadata": {},
   "outputs": [
    {
     "data": {
      "text/plain": [
       "(25,)"
      ]
     },
     "execution_count": 32,
     "metadata": {},
     "output_type": "execute_result"
    }
   ],
   "source": [
    "x[0].shape"
   ]
  },
  {
   "cell_type": "code",
   "execution_count": 33,
   "metadata": {},
   "outputs": [
    {
     "data": {
      "text/plain": [
       "(13067, 25)"
      ]
     },
     "execution_count": 33,
     "metadata": {},
     "output_type": "execute_result"
    }
   ],
   "source": [
    "x.shape # the number of sequences for the sliding window of 25 words"
   ]
  },
  {
   "cell_type": "code",
   "execution_count": 34,
   "metadata": {},
   "outputs": [
    {
     "data": {
      "text/plain": [
       "(13067,)"
      ]
     },
     "execution_count": 34,
     "metadata": {},
     "output_type": "execute_result"
    }
   ],
   "source": [
    "y.shape # a column of last words for each sequence"
   ]
  },
  {
   "cell_type": "code",
   "execution_count": 35,
   "metadata": {},
   "outputs": [
    {
     "data": {
      "text/plain": [
       "(13067, 1811)"
      ]
     },
     "execution_count": 35,
     "metadata": {},
     "output_type": "execute_result"
    }
   ],
   "source": [
    "# convert those words to one-hot matrix\n",
    "y = to_categorical(y, num_classes=vocabulary_size+1)\n",
    "y.shape"
   ]
  },
  {
   "cell_type": "code",
   "execution_count": 36,
   "metadata": {},
   "outputs": [
    {
     "data": {
      "text/plain": [
       "25"
      ]
     },
     "execution_count": 36,
     "metadata": {},
     "output_type": "execute_result"
    }
   ],
   "source": [
    "seq_len = x.shape[1]\n",
    "seq_len"
   ]
  },
  {
   "cell_type": "markdown",
   "metadata": {
    "colab_type": "text",
    "id": "5Qo09pXrWIEc"
   },
   "source": [
    "# 5. Building an LSTM model"
   ]
  },
  {
   "cell_type": "code",
   "execution_count": 37,
   "metadata": {
    "colab": {},
    "colab_type": "code",
    "id": "xaalrQWFVhL1"
   },
   "outputs": [],
   "source": [
    "# PARAMETERS CHOICE\n",
    "\n",
    "# Activation = RELU\n",
    "# The size of the output layer is 'vocabulary_size'\n",
    "# Loss = 'categorical_crossentropy'\n",
    "\n",
    "def create_model(vocabulary_size, seq_len):\n",
    "    model = Sequential()\n",
    "    # Embedding turns positive integers(indexes) into dense vectors of fixed size (see docs).\n",
    "    \n",
    "    # First LSTM layer\n",
    "    model.add(Embedding(input_dim=vocabulary_size, output_dim=25, input_length=seq_len)) \n",
    "    \n",
    "    # First LSTM layer\n",
    "    model.add(LSTM(units=100, return_sequences=True)) # better to take multiples of seq_len; smalle batches => faster\n",
    "    \n",
    "    # Second LSTM layer\n",
    "    model.add(LSTM(100))\n",
    "    \n",
    "    # Dense layer\n",
    "    model.add(Dense(100, activation='relu'))\n",
    "    \n",
    "    # Final layer\n",
    "    model.add(Dense(vocabulary_size, activation='softmax'))\n",
    "    \n",
    "    model.compile(loss='categorical_crossentropy', optimizer='adam', metrics=['accuracy'])\n",
    "   \n",
    "    model.summary()\n",
    "    \n",
    "    return model"
   ]
  },
  {
   "cell_type": "code",
   "execution_count": 38,
   "metadata": {
    "colab": {
     "base_uri": "https://localhost:8080/",
     "height": 513
    },
    "colab_type": "code",
    "id": "CRytYaTQV3FS",
    "outputId": "989b26f7-d6c6-4611-8acf-1e302772a5c0",
    "scrolled": true
   },
   "outputs": [
    {
     "name": "stdout",
     "output_type": "stream",
     "text": [
      "Model: \"sequential\"\n",
      "_________________________________________________________________\n",
      "Layer (type)                 Output Shape              Param #   \n",
      "=================================================================\n",
      "embedding (Embedding)        (None, 25, 25)            45275     \n",
      "_________________________________________________________________\n",
      "lstm (LSTM)                  (None, 25, 100)           50400     \n",
      "_________________________________________________________________\n",
      "lstm_1 (LSTM)                (None, 100)               80400     \n",
      "_________________________________________________________________\n",
      "dense (Dense)                (None, 100)               10100     \n",
      "_________________________________________________________________\n",
      "dense_1 (Dense)              (None, 1811)              182911    \n",
      "=================================================================\n",
      "Total params: 369,086\n",
      "Trainable params: 369,086\n",
      "Non-trainable params: 0\n",
      "_________________________________________________________________\n"
     ]
    }
   ],
   "source": [
    "# define model\n",
    "model = create_model(vocabulary_size+1, seq_len) # +1 for Embeddings"
   ]
  },
  {
   "cell_type": "code",
   "execution_count": 39,
   "metadata": {
    "colab": {},
    "colab_type": "code",
    "id": "iKxBR9NBWOBH"
   },
   "outputs": [
    {
     "name": "stdout",
     "output_type": "stream",
     "text": [
      "Epoch 1/200\n",
      "52/52 [==============================] - 13s 244ms/step - loss: 6.5857 - accuracy: 0.0454\n",
      "Epoch 2/200\n",
      "52/52 [==============================] - 13s 243ms/step - loss: 5.9828 - accuracy: 0.0598\n",
      "Epoch 3/200\n",
      "52/52 [==============================] - 13s 242ms/step - loss: 5.9571 - accuracy: 0.0598\n",
      "Epoch 4/200\n",
      "52/52 [==============================] - 13s 244ms/step - loss: 5.9541 - accuracy: 0.0598\n",
      "Epoch 5/200\n",
      "52/52 [==============================] - 13s 245ms/step - loss: 5.9482 - accuracy: 0.0598\n",
      "Epoch 6/200\n",
      "52/52 [==============================] - 13s 247ms/step - loss: 5.9371 - accuracy: 0.0598\n",
      "Epoch 7/200\n",
      "52/52 [==============================] - 13s 245ms/step - loss: 5.8753 - accuracy: 0.0579\n",
      "Epoch 8/200\n",
      "52/52 [==============================] - 13s 245ms/step - loss: 5.7902 - accuracy: 0.0598\n",
      "Epoch 9/200\n",
      "52/52 [==============================] - 13s 245ms/step - loss: 5.7264 - accuracy: 0.0620\n",
      "Epoch 10/200\n",
      "52/52 [==============================] - 13s 245ms/step - loss: 5.6311 - accuracy: 0.0680\n",
      "Epoch 11/200\n",
      "52/52 [==============================] - 13s 248ms/step - loss: 5.5198 - accuracy: 0.0740\n",
      "Epoch 12/200\n",
      "52/52 [==============================] - 13s 246ms/step - loss: 5.4275 - accuracy: 0.0856\n",
      "Epoch 13/200\n",
      "52/52 [==============================] - 13s 246ms/step - loss: 5.3513 - accuracy: 0.0881\n",
      "Epoch 14/200\n",
      "52/52 [==============================] - 13s 244ms/step - loss: 5.2820 - accuracy: 0.0930\n",
      "Epoch 15/200\n",
      "52/52 [==============================] - 13s 244ms/step - loss: 5.2177 - accuracy: 0.0958\n",
      "Epoch 16/200\n",
      "52/52 [==============================] - 13s 244ms/step - loss: 5.1586 - accuracy: 0.0960\n",
      "Epoch 17/200\n",
      "52/52 [==============================] - 13s 245ms/step - loss: 5.1040 - accuracy: 0.0978\n",
      "Epoch 18/200\n",
      "52/52 [==============================] - 13s 245ms/step - loss: 5.0568 - accuracy: 0.0985\n",
      "Epoch 19/200\n",
      "52/52 [==============================] - 13s 244ms/step - loss: 5.0087 - accuracy: 0.1017\n",
      "Epoch 20/200\n",
      "52/52 [==============================] - 13s 245ms/step - loss: 4.9707 - accuracy: 0.1055\n",
      "Epoch 21/200\n",
      "52/52 [==============================] - 13s 245ms/step - loss: 4.9342 - accuracy: 0.1055\n",
      "Epoch 22/200\n",
      "52/52 [==============================] - 13s 245ms/step - loss: 4.9002 - accuracy: 0.1035\n",
      "Epoch 23/200\n",
      "52/52 [==============================] - 13s 243ms/step - loss: 4.8632 - accuracy: 0.1091\n",
      "Epoch 24/200\n",
      "52/52 [==============================] - 13s 244ms/step - loss: 4.8303 - accuracy: 0.1128\n",
      "Epoch 25/200\n",
      "52/52 [==============================] - 13s 245ms/step - loss: 4.7914 - accuracy: 0.1160\n",
      "Epoch 26/200\n",
      "52/52 [==============================] - 13s 244ms/step - loss: 4.7509 - accuracy: 0.1215\n",
      "Epoch 27/200\n",
      "52/52 [==============================] - 13s 244ms/step - loss: 4.7113 - accuracy: 0.1244\n",
      "Epoch 28/200\n",
      "52/52 [==============================] - 13s 245ms/step - loss: 4.6667 - accuracy: 0.1284\n",
      "Epoch 29/200\n",
      "52/52 [==============================] - 13s 244ms/step - loss: 4.6250 - accuracy: 0.1312\n",
      "Epoch 30/200\n",
      "52/52 [==============================] - 13s 244ms/step - loss: 4.5801 - accuracy: 0.1364\n",
      "Epoch 31/200\n",
      "52/52 [==============================] - 13s 244ms/step - loss: 4.5325 - accuracy: 0.1420\n",
      "Epoch 32/200\n",
      "52/52 [==============================] - 13s 245ms/step - loss: 4.5031 - accuracy: 0.1417\n",
      "Epoch 33/200\n",
      "52/52 [==============================] - 13s 244ms/step - loss: 4.4637 - accuracy: 0.1443\n",
      "Epoch 34/200\n",
      "52/52 [==============================] - 13s 245ms/step - loss: 4.4156 - accuracy: 0.1510\n",
      "Epoch 35/200\n",
      "52/52 [==============================] - 13s 243ms/step - loss: 4.3778 - accuracy: 0.1508\n",
      "Epoch 36/200\n",
      "52/52 [==============================] - 13s 243ms/step - loss: 4.3395 - accuracy: 0.1586\n",
      "Epoch 37/200\n",
      "52/52 [==============================] - 13s 244ms/step - loss: 4.3040 - accuracy: 0.1614\n",
      "Epoch 38/200\n",
      "52/52 [==============================] - 13s 244ms/step - loss: 4.2664 - accuracy: 0.1656\n",
      "Epoch 39/200\n",
      "52/52 [==============================] - 13s 245ms/step - loss: 4.2330 - accuracy: 0.1692\n",
      "Epoch 40/200\n",
      "52/52 [==============================] - 13s 245ms/step - loss: 4.1937 - accuracy: 0.1746\n",
      "Epoch 41/200\n",
      "52/52 [==============================] - 13s 244ms/step - loss: 4.1581 - accuracy: 0.1755\n",
      "Epoch 42/200\n",
      "52/52 [==============================] - 13s 244ms/step - loss: 4.1212 - accuracy: 0.1801\n",
      "Epoch 43/200\n",
      "52/52 [==============================] - 13s 244ms/step - loss: 4.0910 - accuracy: 0.1788\n",
      "Epoch 44/200\n",
      "52/52 [==============================] - 13s 243ms/step - loss: 4.0759 - accuracy: 0.1787\n",
      "Epoch 45/200\n",
      "52/52 [==============================] - 13s 244ms/step - loss: 4.0314 - accuracy: 0.1873\n",
      "Epoch 46/200\n",
      "52/52 [==============================] - 13s 244ms/step - loss: 4.0018 - accuracy: 0.1863\n",
      "Epoch 47/200\n",
      "52/52 [==============================] - 13s 244ms/step - loss: 3.9708 - accuracy: 0.1938\n",
      "Epoch 48/200\n",
      "52/52 [==============================] - 13s 244ms/step - loss: 3.9438 - accuracy: 0.1934\n",
      "Epoch 49/200\n",
      "52/52 [==============================] - 13s 244ms/step - loss: 3.9104 - accuracy: 0.1994\n",
      "Epoch 50/200\n",
      "52/52 [==============================] - 13s 244ms/step - loss: 3.8877 - accuracy: 0.1997\n",
      "Epoch 51/200\n",
      "52/52 [==============================] - 13s 243ms/step - loss: 3.8639 - accuracy: 0.2026\n",
      "Epoch 52/200\n",
      "52/52 [==============================] - 13s 244ms/step - loss: 3.8270 - accuracy: 0.2054\n",
      "Epoch 53/200\n",
      "52/52 [==============================] - 13s 244ms/step - loss: 3.8001 - accuracy: 0.2083\n",
      "Epoch 54/200\n",
      "52/52 [==============================] - 13s 244ms/step - loss: 3.7724 - accuracy: 0.2121\n",
      "Epoch 55/200\n",
      "52/52 [==============================] - 13s 245ms/step - loss: 3.7432 - accuracy: 0.2132\n",
      "Epoch 56/200\n",
      "52/52 [==============================] - 13s 244ms/step - loss: 3.7191 - accuracy: 0.2172\n",
      "Epoch 57/200\n",
      "52/52 [==============================] - 13s 245ms/step - loss: 3.7000 - accuracy: 0.2189\n",
      "Epoch 58/200\n",
      "52/52 [==============================] - 13s 244ms/step - loss: 3.6754 - accuracy: 0.2215\n",
      "Epoch 59/200\n",
      "52/52 [==============================] - 13s 244ms/step - loss: 3.6514 - accuracy: 0.2225\n",
      "Epoch 60/200\n",
      "52/52 [==============================] - 13s 245ms/step - loss: 3.6253 - accuracy: 0.2263\n",
      "Epoch 61/200\n",
      "52/52 [==============================] - 13s 244ms/step - loss: 3.6016 - accuracy: 0.2287\n",
      "Epoch 62/200\n",
      "52/52 [==============================] - 13s 245ms/step - loss: 3.5701 - accuracy: 0.2326\n",
      "Epoch 63/200\n",
      "52/52 [==============================] - 13s 244ms/step - loss: 3.5551 - accuracy: 0.2348\n",
      "Epoch 64/200\n",
      "52/52 [==============================] - 13s 243ms/step - loss: 3.5394 - accuracy: 0.2351\n",
      "Epoch 65/200\n",
      "52/52 [==============================] - 13s 243ms/step - loss: 3.5082 - accuracy: 0.2395\n",
      "Epoch 66/200\n",
      "52/52 [==============================] - 13s 244ms/step - loss: 3.4932 - accuracy: 0.2368\n",
      "Epoch 67/200\n",
      "52/52 [==============================] - 13s 244ms/step - loss: 3.4635 - accuracy: 0.2429\n",
      "Epoch 68/200\n",
      "52/52 [==============================] - 13s 245ms/step - loss: 3.4463 - accuracy: 0.2442\n",
      "Epoch 69/200\n",
      "52/52 [==============================] - 13s 244ms/step - loss: 3.4172 - accuracy: 0.2476\n",
      "Epoch 70/200\n",
      "52/52 [==============================] - 13s 245ms/step - loss: 3.4120 - accuracy: 0.2478\n",
      "Epoch 71/200\n",
      "52/52 [==============================] - 13s 247ms/step - loss: 3.3881 - accuracy: 0.2513\n",
      "Epoch 72/200\n",
      "52/52 [==============================] - 13s 244ms/step - loss: 3.3615 - accuracy: 0.2526\n",
      "Epoch 73/200\n",
      "52/52 [==============================] - 13s 244ms/step - loss: 3.3483 - accuracy: 0.2571\n",
      "Epoch 74/200\n",
      "52/52 [==============================] - 13s 245ms/step - loss: 3.3232 - accuracy: 0.2564\n",
      "Epoch 75/200\n",
      "52/52 [==============================] - 13s 245ms/step - loss: 3.3016 - accuracy: 0.2624\n",
      "Epoch 76/200\n",
      "52/52 [==============================] - 13s 246ms/step - loss: 3.2902 - accuracy: 0.2624\n",
      "Epoch 77/200\n",
      "52/52 [==============================] - 13s 244ms/step - loss: 3.2669 - accuracy: 0.2685\n",
      "Epoch 78/200\n",
      "52/52 [==============================] - 13s 245ms/step - loss: 3.2433 - accuracy: 0.2714\n",
      "Epoch 79/200\n",
      "52/52 [==============================] - 13s 243ms/step - loss: 3.2247 - accuracy: 0.2714\n",
      "Epoch 80/200\n"
     ]
    },
    {
     "name": "stdout",
     "output_type": "stream",
     "text": [
      "52/52 [==============================] - 13s 245ms/step - loss: 3.2087 - accuracy: 0.2717\n",
      "Epoch 81/200\n",
      "52/52 [==============================] - 13s 244ms/step - loss: 3.1933 - accuracy: 0.2745\n",
      "Epoch 82/200\n",
      "52/52 [==============================] - 13s 244ms/step - loss: 3.1700 - accuracy: 0.2799\n",
      "Epoch 83/200\n",
      "52/52 [==============================] - 13s 244ms/step - loss: 3.1522 - accuracy: 0.2842\n",
      "Epoch 84/200\n",
      "52/52 [==============================] - 13s 243ms/step - loss: 3.1407 - accuracy: 0.2830\n",
      "Epoch 85/200\n",
      "52/52 [==============================] - 13s 246ms/step - loss: 3.1243 - accuracy: 0.2858\n",
      "Epoch 86/200\n",
      "52/52 [==============================] - 13s 243ms/step - loss: 3.0961 - accuracy: 0.2890\n",
      "Epoch 87/200\n",
      "52/52 [==============================] - 13s 244ms/step - loss: 3.0857 - accuracy: 0.2914\n",
      "Epoch 88/200\n",
      "52/52 [==============================] - 13s 244ms/step - loss: 3.0632 - accuracy: 0.2959\n",
      "Epoch 89/200\n",
      "52/52 [==============================] - 13s 244ms/step - loss: 3.0496 - accuracy: 0.2951\n",
      "Epoch 90/200\n",
      "52/52 [==============================] - 13s 245ms/step - loss: 3.0261 - accuracy: 0.3014\n",
      "Epoch 91/200\n",
      "52/52 [==============================] - 13s 243ms/step - loss: 3.0158 - accuracy: 0.3013\n",
      "Epoch 92/200\n",
      "52/52 [==============================] - 13s 244ms/step - loss: 2.9946 - accuracy: 0.3072\n",
      "Epoch 93/200\n",
      "52/52 [==============================] - 13s 246ms/step - loss: 2.9863 - accuracy: 0.3100\n",
      "Epoch 94/200\n",
      "52/52 [==============================] - 13s 249ms/step - loss: 2.9675 - accuracy: 0.3119\n",
      "Epoch 95/200\n",
      "52/52 [==============================] - 13s 243ms/step - loss: 2.9469 - accuracy: 0.3123\n",
      "Epoch 96/200\n",
      "52/52 [==============================] - 13s 246ms/step - loss: 2.9253 - accuracy: 0.3160\n",
      "Epoch 97/200\n",
      "52/52 [==============================] - 13s 244ms/step - loss: 2.9230 - accuracy: 0.3179\n",
      "Epoch 98/200\n",
      "52/52 [==============================] - 13s 244ms/step - loss: 2.8973 - accuracy: 0.3189\n",
      "Epoch 99/200\n",
      "52/52 [==============================] - 13s 244ms/step - loss: 2.8855 - accuracy: 0.3189\n",
      "Epoch 100/200\n",
      "52/52 [==============================] - 13s 243ms/step - loss: 2.8669 - accuracy: 0.3292\n",
      "Epoch 101/200\n",
      "52/52 [==============================] - 13s 245ms/step - loss: 2.8567 - accuracy: 0.3256\n",
      "Epoch 102/200\n",
      "52/52 [==============================] - 13s 244ms/step - loss: 2.8355 - accuracy: 0.3310\n",
      "Epoch 103/200\n",
      "52/52 [==============================] - 13s 245ms/step - loss: 2.8262 - accuracy: 0.3299\n",
      "Epoch 104/200\n",
      "52/52 [==============================] - 13s 248ms/step - loss: 2.8099 - accuracy: 0.3376\n",
      "Epoch 105/200\n",
      "52/52 [==============================] - 13s 245ms/step - loss: 2.7944 - accuracy: 0.3413\n",
      "Epoch 106/200\n",
      "52/52 [==============================] - 13s 244ms/step - loss: 2.7837 - accuracy: 0.3444\n",
      "Epoch 107/200\n",
      "52/52 [==============================] - 13s 243ms/step - loss: 2.7656 - accuracy: 0.3439\n",
      "Epoch 108/200\n",
      "52/52 [==============================] - 13s 244ms/step - loss: 2.7482 - accuracy: 0.3461\n",
      "Epoch 109/200\n",
      "52/52 [==============================] - 13s 244ms/step - loss: 2.7285 - accuracy: 0.3515\n",
      "Epoch 110/200\n",
      "52/52 [==============================] - 13s 243ms/step - loss: 2.7156 - accuracy: 0.3552\n",
      "Epoch 111/200\n",
      "52/52 [==============================] - 13s 244ms/step - loss: 2.7120 - accuracy: 0.3515\n",
      "Epoch 112/200\n",
      "52/52 [==============================] - 13s 244ms/step - loss: 2.6882 - accuracy: 0.3612\n",
      "Epoch 113/200\n",
      "52/52 [==============================] - 13s 244ms/step - loss: 2.6741 - accuracy: 0.3600\n",
      "Epoch 114/200\n",
      "52/52 [==============================] - 13s 243ms/step - loss: 2.6613 - accuracy: 0.3601\n",
      "Epoch 115/200\n",
      "52/52 [==============================] - 13s 243ms/step - loss: 2.6501 - accuracy: 0.3677\n",
      "Epoch 116/200\n",
      "52/52 [==============================] - 13s 245ms/step - loss: 2.6471 - accuracy: 0.3689\n",
      "Epoch 117/200\n",
      "52/52 [==============================] - 13s 244ms/step - loss: 2.6327 - accuracy: 0.3739\n",
      "Epoch 118/200\n",
      "52/52 [==============================] - 13s 244ms/step - loss: 2.6094 - accuracy: 0.3713\n",
      "Epoch 119/200\n",
      "52/52 [==============================] - 13s 246ms/step - loss: 2.5950 - accuracy: 0.3763\n",
      "Epoch 120/200\n",
      "52/52 [==============================] - 13s 244ms/step - loss: 2.5829 - accuracy: 0.3811\n",
      "Epoch 121/200\n",
      "52/52 [==============================] - 13s 244ms/step - loss: 2.5794 - accuracy: 0.3788\n",
      "Epoch 122/200\n",
      "52/52 [==============================] - 13s 242ms/step - loss: 2.5647 - accuracy: 0.3816\n",
      "Epoch 123/200\n",
      "52/52 [==============================] - 13s 246ms/step - loss: 2.5598 - accuracy: 0.3816\n",
      "Epoch 124/200\n",
      "52/52 [==============================] - 13s 243ms/step - loss: 2.5513 - accuracy: 0.3840\n",
      "Epoch 125/200\n",
      "52/52 [==============================] - 13s 244ms/step - loss: 2.5279 - accuracy: 0.3874\n",
      "Epoch 126/200\n",
      "52/52 [==============================] - 13s 244ms/step - loss: 2.5121 - accuracy: 0.3950\n",
      "Epoch 127/200\n",
      "52/52 [==============================] - 13s 248ms/step - loss: 2.4983 - accuracy: 0.3949\n",
      "Epoch 128/200\n",
      "52/52 [==============================] - 13s 245ms/step - loss: 2.4873 - accuracy: 0.3983\n",
      "Epoch 129/200\n",
      "52/52 [==============================] - 13s 244ms/step - loss: 2.4734 - accuracy: 0.4022\n",
      "Epoch 130/200\n",
      "52/52 [==============================] - 13s 244ms/step - loss: 2.4555 - accuracy: 0.4070\n",
      "Epoch 131/200\n",
      "52/52 [==============================] - 13s 244ms/step - loss: 2.4593 - accuracy: 0.4016\n",
      "Epoch 132/200\n",
      "52/52 [==============================] - 13s 244ms/step - loss: 2.4478 - accuracy: 0.4039\n",
      "Epoch 133/200\n",
      "52/52 [==============================] - 13s 242ms/step - loss: 2.4248 - accuracy: 0.4112\n",
      "Epoch 134/200\n",
      "52/52 [==============================] - 13s 244ms/step - loss: 2.4293 - accuracy: 0.4070\n",
      "Epoch 135/200\n",
      "52/52 [==============================] - 13s 246ms/step - loss: 2.4162 - accuracy: 0.4101\n",
      "Epoch 136/200\n",
      "52/52 [==============================] - 13s 243ms/step - loss: 2.4020 - accuracy: 0.4121\n",
      "Epoch 137/200\n",
      "52/52 [==============================] - 13s 245ms/step - loss: 2.3869 - accuracy: 0.4185\n",
      "Epoch 138/200\n",
      "52/52 [==============================] - 13s 244ms/step - loss: 2.3887 - accuracy: 0.4202\n",
      "Epoch 139/200\n",
      "52/52 [==============================] - 13s 243ms/step - loss: 2.3619 - accuracy: 0.4243\n",
      "Epoch 140/200\n",
      "52/52 [==============================] - 13s 243ms/step - loss: 2.3578 - accuracy: 0.4229\n",
      "Epoch 141/200\n",
      "52/52 [==============================] - 13s 244ms/step - loss: 2.3367 - accuracy: 0.4245\n",
      "Epoch 142/200\n",
      "52/52 [==============================] - 13s 244ms/step - loss: 2.3359 - accuracy: 0.4261\n",
      "Epoch 143/200\n",
      "52/52 [==============================] - 13s 243ms/step - loss: 2.3278 - accuracy: 0.4271\n",
      "Epoch 144/200\n",
      "52/52 [==============================] - 13s 244ms/step - loss: 2.3160 - accuracy: 0.4293\n",
      "Epoch 145/200\n",
      "52/52 [==============================] - 13s 244ms/step - loss: 2.3973 - accuracy: 0.4128\n",
      "Epoch 146/200\n",
      "52/52 [==============================] - 13s 244ms/step - loss: 2.3056 - accuracy: 0.4327\n",
      "Epoch 147/200\n",
      "52/52 [==============================] - 13s 243ms/step - loss: 2.3054 - accuracy: 0.4334\n",
      "Epoch 148/200\n",
      "52/52 [==============================] - 13s 244ms/step - loss: 2.2838 - accuracy: 0.4355\n",
      "Epoch 149/200\n",
      "52/52 [==============================] - 13s 246ms/step - loss: 2.2654 - accuracy: 0.4422\n",
      "Epoch 150/200\n",
      "52/52 [==============================] - 13s 245ms/step - loss: 2.2509 - accuracy: 0.4484\n",
      "Epoch 151/200\n",
      "52/52 [==============================] - 13s 246ms/step - loss: 2.2397 - accuracy: 0.4446\n",
      "Epoch 152/200\n",
      "52/52 [==============================] - 13s 244ms/step - loss: 2.2315 - accuracy: 0.4502\n",
      "Epoch 153/200\n",
      "52/52 [==============================] - 13s 243ms/step - loss: 2.2242 - accuracy: 0.4515\n",
      "Epoch 154/200\n",
      "52/52 [==============================] - 13s 244ms/step - loss: 2.2149 - accuracy: 0.4510\n",
      "Epoch 155/200\n",
      "52/52 [==============================] - 13s 244ms/step - loss: 2.2009 - accuracy: 0.4566\n",
      "Epoch 156/200\n",
      "52/52 [==============================] - 13s 244ms/step - loss: 2.1854 - accuracy: 0.4637\n",
      "Epoch 157/200\n",
      "52/52 [==============================] - 13s 244ms/step - loss: 2.1827 - accuracy: 0.4628\n",
      "Epoch 158/200\n",
      "52/52 [==============================] - 13s 245ms/step - loss: 2.1650 - accuracy: 0.4670\n",
      "Epoch 159/200\n"
     ]
    },
    {
     "name": "stdout",
     "output_type": "stream",
     "text": [
      "52/52 [==============================] - 13s 244ms/step - loss: 2.1527 - accuracy: 0.4646\n",
      "Epoch 160/200\n",
      "52/52 [==============================] - 13s 247ms/step - loss: 2.1480 - accuracy: 0.4696\n",
      "Epoch 161/200\n",
      "52/52 [==============================] - 13s 245ms/step - loss: 2.1410 - accuracy: 0.4678\n",
      "Epoch 162/200\n",
      "52/52 [==============================] - 13s 244ms/step - loss: 2.1298 - accuracy: 0.4693\n",
      "Epoch 163/200\n",
      "52/52 [==============================] - 13s 244ms/step - loss: 2.1215 - accuracy: 0.4737\n",
      "Epoch 164/200\n",
      "52/52 [==============================] - 13s 244ms/step - loss: 2.1133 - accuracy: 0.4725\n",
      "Epoch 165/200\n",
      "52/52 [==============================] - 13s 245ms/step - loss: 2.1191 - accuracy: 0.4761\n",
      "Epoch 166/200\n",
      "52/52 [==============================] - 13s 244ms/step - loss: 2.0996 - accuracy: 0.4776\n",
      "Epoch 167/200\n",
      "52/52 [==============================] - 13s 245ms/step - loss: 2.0982 - accuracy: 0.4791\n",
      "Epoch 168/200\n",
      "52/52 [==============================] - 13s 247ms/step - loss: 2.0689 - accuracy: 0.4907\n",
      "Epoch 169/200\n",
      "52/52 [==============================] - 13s 244ms/step - loss: 2.0639 - accuracy: 0.4892\n",
      "Epoch 170/200\n",
      "52/52 [==============================] - 13s 245ms/step - loss: 2.0585 - accuracy: 0.4857\n",
      "Epoch 171/200\n",
      "52/52 [==============================] - 13s 243ms/step - loss: 2.0562 - accuracy: 0.4878\n",
      "Epoch 172/200\n",
      "52/52 [==============================] - 13s 244ms/step - loss: 2.0454 - accuracy: 0.4881\n",
      "Epoch 173/200\n",
      "52/52 [==============================] - 13s 243ms/step - loss: 2.0326 - accuracy: 0.4956\n",
      "Epoch 174/200\n",
      "52/52 [==============================] - 13s 244ms/step - loss: 2.0222 - accuracy: 0.4975\n",
      "Epoch 175/200\n",
      "52/52 [==============================] - 13s 244ms/step - loss: 2.0156 - accuracy: 0.4967\n",
      "Epoch 176/200\n",
      "52/52 [==============================] - 13s 249ms/step - loss: 2.0314 - accuracy: 0.4925\n",
      "Epoch 177/200\n",
      "52/52 [==============================] - 13s 245ms/step - loss: 2.0112 - accuracy: 0.4974\n",
      "Epoch 178/200\n",
      "52/52 [==============================] - 13s 244ms/step - loss: 1.9965 - accuracy: 0.5002\n",
      "Epoch 179/200\n",
      "52/52 [==============================] - 13s 244ms/step - loss: 1.9845 - accuracy: 0.5059\n",
      "Epoch 180/200\n",
      "52/52 [==============================] - 13s 243ms/step - loss: 1.9872 - accuracy: 0.4992\n",
      "Epoch 181/200\n",
      "52/52 [==============================] - 13s 244ms/step - loss: 1.9606 - accuracy: 0.5093\n",
      "Epoch 182/200\n",
      "52/52 [==============================] - 13s 243ms/step - loss: 1.9567 - accuracy: 0.5081\n",
      "Epoch 183/200\n",
      "52/52 [==============================] - 13s 243ms/step - loss: 1.9521 - accuracy: 0.5127\n",
      "Epoch 184/200\n",
      "52/52 [==============================] - 13s 244ms/step - loss: 1.9500 - accuracy: 0.5121\n",
      "Epoch 185/200\n",
      "52/52 [==============================] - 13s 245ms/step - loss: 1.9274 - accuracy: 0.5156\n",
      "Epoch 186/200\n",
      "52/52 [==============================] - 13s 245ms/step - loss: 1.9243 - accuracy: 0.5172\n",
      "Epoch 187/200\n",
      "52/52 [==============================] - 13s 244ms/step - loss: 1.9148 - accuracy: 0.5190\n",
      "Epoch 188/200\n",
      "52/52 [==============================] - 13s 245ms/step - loss: 1.9222 - accuracy: 0.5184\n",
      "Epoch 189/200\n",
      "52/52 [==============================] - 13s 244ms/step - loss: 1.9090 - accuracy: 0.5232\n",
      "Epoch 190/200\n",
      "52/52 [==============================] - 13s 245ms/step - loss: 1.8890 - accuracy: 0.5261\n",
      "Epoch 191/200\n",
      "52/52 [==============================] - 13s 244ms/step - loss: 1.8832 - accuracy: 0.5293\n",
      "Epoch 192/200\n",
      "52/52 [==============================] - 13s 243ms/step - loss: 1.8815 - accuracy: 0.5290\n",
      "Epoch 193/200\n",
      "52/52 [==============================] - 13s 244ms/step - loss: 1.8652 - accuracy: 0.5340\n",
      "Epoch 194/200\n",
      "52/52 [==============================] - 13s 243ms/step - loss: 1.8685 - accuracy: 0.5278\n",
      "Epoch 195/200\n",
      "52/52 [==============================] - 13s 245ms/step - loss: 1.8587 - accuracy: 0.5350\n",
      "Epoch 196/200\n",
      "52/52 [==============================] - 13s 248ms/step - loss: 1.8483 - accuracy: 0.5363\n",
      "Epoch 197/200\n",
      "52/52 [==============================] - 13s 245ms/step - loss: 1.8492 - accuracy: 0.5371\n",
      "Epoch 198/200\n",
      "52/52 [==============================] - 13s 245ms/step - loss: 1.8318 - accuracy: 0.5401\n",
      "Epoch 199/200\n",
      "52/52 [==============================] - 13s 243ms/step - loss: 1.8239 - accuracy: 0.5382\n",
      "Epoch 200/200\n",
      "52/52 [==============================] - 13s 243ms/step - loss: 1.8192 - accuracy: 0.5390\n"
     ]
    },
    {
     "data": {
      "text/plain": [
       "<tensorflow.python.keras.callbacks.History at 0x7f29b0d4d590>"
      ]
     },
     "execution_count": 39,
     "metadata": {},
     "output_type": "execute_result"
    }
   ],
   "source": [
    "# Train the model\n",
    "\n",
    "model.fit(x, y, batch_size=256, epochs=200,verbose=1) # epochs: at least > 200"
   ]
  },
  {
   "cell_type": "markdown",
   "metadata": {
    "colab_type": "text",
    "id": "2_qqT-LMM0F3"
   },
   "source": [
    "# 6. Generating New Text"
   ]
  },
  {
   "cell_type": "code",
   "execution_count": 40,
   "metadata": {
    "colab": {},
    "colab_type": "code",
    "id": "oPO2UHJmWQUu"
   },
   "outputs": [],
   "source": [
    "from random import randint\n",
    "from pickle import dump, load\n",
    "from tensorflow.keras.models import load_model\n",
    "from tensorflow.keras.preprocessing.sequence import pad_sequences"
   ]
  },
  {
   "cell_type": "code",
   "execution_count": 41,
   "metadata": {
    "colab": {},
    "colab_type": "code",
    "id": "lCgB11oILsMO"
   },
   "outputs": [],
   "source": [
    "def generate_text(model, tokenizer, seq_len, seed_text, num_gen_words):\n",
    "    '''\n",
    "    INPUTS:\n",
    "    model : the model that was trained on text data\n",
    "    tokenizer : tokenizer that was fit on text data\n",
    "    seq_len : length of training sequence\n",
    "    seed_text : raw string text to serve as the seed\n",
    "    num_gen_words : number of words to be generated by the model\n",
    "    '''\n",
    "    \n",
    "    # Final Output\n",
    "    output_text = []\n",
    "    \n",
    "    # Intial Seed Sequence\n",
    "    # this is a sentence to add a word and chop off the first word\n",
    "    # and repet as many times as the number of words the user wants to generate\n",
    "    input_text = seed_text  \n",
    "    \n",
    "    # Create num_gen_words\n",
    "    for i in range(num_gen_words):\n",
    "        \n",
    "        # Take the first token (number)\n",
    "        encoded_text = tokenizer.texts_to_sequences([input_text])[0]\n",
    "        \n",
    "        # Pad sequences to our trained rate \n",
    "        pad_encoded = pad_sequences([encoded_text], maxlen=seq_len, truncating='pre')\n",
    "        \n",
    "        # Predict Class Probabilities for each word\n",
    "        pred_word_ind = model.predict_classes(pad_encoded, verbose=0)[0] # [0] returns index \n",
    "        \n",
    "        # Grab word\n",
    "        pred_word = tokenizer.index_word[pred_word_ind] \n",
    "        \n",
    "        # Update the sequence of input text (shifting one over with the new word)\n",
    "        input_text += ' ' + pred_word\n",
    "        \n",
    "        output_text.append(pred_word)\n",
    "        \n",
    "    # Make it look like a sentence.\n",
    "    return ' '.join(output_text)"
   ]
  },
  {
   "cell_type": "markdown",
   "metadata": {
    "colab_type": "text",
    "id": "RDvohqQ6M2nA"
   },
   "source": [
    "### Get a random seed sequence"
   ]
  },
  {
   "cell_type": "code",
   "execution_count": 67,
   "metadata": {
    "colab": {
     "base_uri": "https://localhost:8080/",
     "height": 374
    },
    "colab_type": "code",
    "id": "bKnFY1JHLym1",
    "outputId": "7353f7b5-45dd-4a62-e68d-6faa583b906f"
   },
   "outputs": [],
   "source": [
    "#lines[500]"
   ]
  },
  {
   "cell_type": "code",
   "execution_count": 42,
   "metadata": {
    "colab": {},
    "colab_type": "code",
    "id": "2GRfTfQENCk1"
   },
   "outputs": [],
   "source": [
    "import random\n",
    "random.seed(101)\n",
    "random_pick = random.randint(0,len(lines))"
   ]
  },
  {
   "cell_type": "code",
   "execution_count": 43,
   "metadata": {
    "colab": {
     "base_uri": "https://localhost:8080/",
     "height": 374
    },
    "colab_type": "code",
    "id": "6ZB-cEtYNGkZ",
    "outputId": "c8ae5c42-0a80-410a-df39-6193e9639796"
   },
   "outputs": [
    {
     "data": {
      "text/plain": [
       "'en vertu des présentes est suffisant est consigné dans un écrit et expédié par un mode de communication qui permet à la partie expéditrice de prouver'"
      ]
     },
     "execution_count": 43,
     "metadata": {},
     "output_type": "execute_result"
    }
   ],
   "source": [
    "random_seed_text = lines[random_pick]\n",
    "random_seed_text"
   ]
  },
  {
   "cell_type": "markdown",
   "metadata": {},
   "source": [
    "### Generate new text"
   ]
  },
  {
   "cell_type": "code",
   "execution_count": 44,
   "metadata": {
    "colab": {
     "base_uri": "https://localhost:8080/",
     "height": 34
    },
    "colab_type": "code",
    "id": "ByD07v2wNz-v",
    "outputId": "07ea7ddd-97ae-4712-9815-6e5433268be1"
   },
   "outputs": [
    {
     "name": "stdout",
     "output_type": "stream",
     "text": [
      "WARNING:tensorflow:From <ipython-input-41-60a6b157a806>:29: Sequential.predict_classes (from tensorflow.python.keras.engine.sequential) is deprecated and will be removed after 2021-01-01.\n",
      "Instructions for updating:\n",
      "Please use instead:* `np.argmax(model.predict(x), axis=-1)`,   if your model does multi-class classification   (e.g. if it uses a `softmax` last-layer activation).* `(model.predict(x) > 0.5).astype(\"int32\")`,   if your model does binary classification   (e.g. if it uses a `sigmoid` last-layer activation).\n"
     ]
    },
    {
     "data": {
      "text/plain": [
       "'défaut naissance de commande et individuel facultative juridiction que le fournisseur ne peut être conforme aux dispositions du modèle de'"
      ]
     },
     "execution_count": 44,
     "metadata": {},
     "output_type": "execute_result"
    }
   ],
   "source": [
    "generate_text(model,tokenizer,seq_len,seed_text=random_seed_text,num_gen_words=20)"
   ]
  },
  {
   "cell_type": "markdown",
   "metadata": {
    "colab_type": "text",
    "id": "VUNh3PrIQio5"
   },
   "source": [
    "### Explore generated sequence"
   ]
  },
  {
   "cell_type": "code",
   "execution_count": 47,
   "metadata": {
    "colab": {
     "base_uri": "https://localhost:8080/",
     "height": 292
    },
    "colab_type": "code",
    "id": "nTnP70eEN6sY",
    "outputId": "8b595ca6-9ba1-4388-9816-9333ced4bf73"
   },
   "outputs": [
    {
     "name": "stdout",
     "output_type": "stream",
     "text": [
      "54 CONTRAT D’APPROVISIONNEMENT intervenu en la ville de Lieu de naissance de l'Appel d'Offres (Ville), province de Québec, Canada. (Individuel)\n",
      "\n",
      "\n"
     ]
    }
   ],
   "source": [
    "for i,word in enumerate(data.split()):\n",
    "    if word == 'naissance':\n",
    "        print(' '.join(data.split()[i-10:i+10]))\n",
    "        print('\\n')"
   ]
  },
  {
   "cell_type": "markdown",
   "metadata": {
    "colab_type": "text",
    "id": "4BHaRXhLQ3rq"
   },
   "source": [
    "### How to save and reuse the model"
   ]
  },
  {
   "cell_type": "code",
   "execution_count": 48,
   "metadata": {
    "colab": {},
    "colab_type": "code",
    "id": "Jglac3p0QJTP"
   },
   "outputs": [],
   "source": [
    "model.save('MVP1.0_LSTM_model.h5')"
   ]
  },
  {
   "cell_type": "code",
   "execution_count": 49,
   "metadata": {},
   "outputs": [],
   "source": [
    "# Save the tokenizer object, as well (vocabulary, word counts)\n",
    "\n",
    "dump(tokenizer, open('my_simple_tokenizer', 'wb'))"
   ]
  },
  {
   "cell_type": "code",
   "execution_count": 52,
   "metadata": {
    "colab": {},
    "colab_type": "code",
    "id": "8LdDSORLOigs"
   },
   "outputs": [],
   "source": [
    "from tensorflow.keras.models import load_model\n",
    "model = load_model('MVP1.0_LSTM_model.h5')\n",
    "tokenizer =load(open('my_simple_tokenizer', 'rb'))"
   ]
  },
  {
   "cell_type": "code",
   "execution_count": 55,
   "metadata": {
    "colab": {},
    "colab_type": "code",
    "id": "3VPJaHY9OqD1"
   },
   "outputs": [
    {
     "data": {
      "text/plain": [
       "'défaut naissance de commande et individuel facultative juridiction que le fournisseur ne peut être conforme aux dispositions du modèle de'"
      ]
     },
     "execution_count": 55,
     "metadata": {},
     "output_type": "execute_result"
    }
   ],
   "source": [
    "generate_text(model,tokenizer,seq_len,seed_text=random_seed_text,num_gen_words=20)"
   ]
  },
  {
   "cell_type": "code",
   "execution_count": null,
   "metadata": {
    "colab": {},
    "colab_type": "code",
    "id": "iRQr_m59Op8e"
   },
   "outputs": [],
   "source": []
  },
  {
   "cell_type": "code",
   "execution_count": null,
   "metadata": {
    "colab": {},
    "colab_type": "code",
    "id": "SzoJJ75TOp4e"
   },
   "outputs": [],
   "source": []
  }
 ],
 "metadata": {
  "accelerator": "GPU",
  "colab": {
   "name": "Text-generation-with-LSTM.ipynb",
   "provenance": []
  },
  "kernelspec": {
   "display_name": "Python 3",
   "language": "python",
   "name": "python3"
  },
  "language_info": {
   "codemirror_mode": {
    "name": "ipython",
    "version": 3
   },
   "file_extension": ".py",
   "mimetype": "text/x-python",
   "name": "python",
   "nbconvert_exporter": "python",
   "pygments_lexer": "ipython3",
   "version": "3.7.6"
  }
 },
 "nbformat": 4,
 "nbformat_minor": 1
}
