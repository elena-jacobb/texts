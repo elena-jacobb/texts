{
 "cells": [
  {
   "cell_type": "markdown",
   "metadata": {
    "colab_type": "text",
    "id": "hfyG4TnO8FwZ"
   },
   "source": [
    "# 1. Text cleaning"
   ]
  },
  {
   "cell_type": "markdown",
   "metadata": {},
   "source": [
    "### Import libraries and create utilitary functions"
   ]
  },
  {
   "cell_type": "code",
   "execution_count": 9,
   "metadata": {
    "colab": {},
    "colab_type": "code",
    "id": "v-3APuhzNveW"
   },
   "outputs": [],
   "source": [
    "import pandas as pd\n",
    "import re\n",
    "import string\n",
    "import os\n",
    "import random\n",
    "import spacy"
   ]
  },
  {
   "cell_type": "code",
   "execution_count": 10,
   "metadata": {},
   "outputs": [],
   "source": [
    "#!python -m spacy download fr_core_news_sm"
   ]
  },
  {
   "cell_type": "code",
   "execution_count": 11,
   "metadata": {},
   "outputs": [],
   "source": [
    "import tensorflow as tf"
   ]
  },
  {
   "cell_type": "code",
   "execution_count": 12,
   "metadata": {},
   "outputs": [],
   "source": [
    "# Set up path for the text files\n",
    "\n",
    "path_parent = os.path.dirname(os.getcwd())\n",
    "source_dir = os.path.join(path_parent, \"text_files\")"
   ]
  },
  {
   "cell_type": "code",
   "execution_count": 13,
   "metadata": {
    "colab": {},
    "colab_type": "code",
    "id": "miV5UACfOPyd"
   },
   "outputs": [],
   "source": [
    "def remove_space(text):\n",
    "    text = text.strip()\n",
    "    text = text.split()\n",
    "    return \" \".join(text)\n",
    "\n",
    "def show_random_text(sourceDir):\n",
    "    rand_text = random.choice(os.listdir(sourceDir))\n",
    "    \n",
    "    while rand_text[0] == \".\":\n",
    "        rand_text = random.choice(os.listdir(sourceDir))\n",
    "\n",
    "    with open(os.path.join(source_dir, rand_text), \"r\") as f:\n",
    "            data = f.read()\n",
    "    print(data)\n",
    "    \n",
    "def read_single_text(sourceDir):\n",
    "    rand_text = random.choice(os.listdir(sourceDir))\n",
    "    \n",
    "    while rand_text[0] == \".\":\n",
    "        rand_text = random.choice(os.listdir(sourceDir))\n",
    "\n",
    "    with open(os.path.join(source_dir, rand_text), \"r\") as f:\n",
    "            data = f.read()\n",
    "    return data"
   ]
  },
  {
   "cell_type": "code",
   "execution_count": 14,
   "metadata": {
    "colab": {},
    "colab_type": "code",
    "id": "NPeXlzjkS5Eo"
   },
   "outputs": [],
   "source": [
    "data = read_single_text(source_dir)"
   ]
  },
  {
   "cell_type": "code",
   "execution_count": 15,
   "metadata": {},
   "outputs": [
    {
     "data": {
      "text/plain": [
       "\"APPEL D’OFFRES NO DOCUMENT D’APPEL D’OFFRES (Sans contrat intégré) Page 2 de 3 Contrat Biens techniques (Équipement) Version détaillée 2019-12-20 «Denom_Soc_D_O» APPEL D’OFFRES NO «AO_No» «AO_Titre» Documentation d’appel d’offres APPEL D’OFFRES NO DOCUMENTATION D’APPELS D’OFFRES BIENS TECHNIQUES (ÉQUIPEMENT) CONTRAT Version détaillée (2019-12-20) . TABLE DES MATIÈRES PAGE PRÉAMBULE 11 0.00 INTERPRÉTATION 12 0.01 Terminologie 12 0.01.01 Appel d'Offres [Essentielle] 12 0.01.02 Avis d'Adjudication [Essentielle] 12 0.01.03 Bien [Importante] 12 0.01.04 Bon de Commande [Essentielle] 12 0.01.05 Bordereau de Prix [Essentielle] 12 0.01.06 Changement de Contrôle [Essentielle] 12 0.01.07 Charge [Essentielle] 13 0.01.08 Consommable [Importante] 13 0.01.09 Consommable en Consignation [Importante] 13 0.01.10 Contrat [Essentielle] 13 0.01.11 Devis [Essentielle] 13 0.01.12 Documentation d'Usager [Essentielle] 13 0.01.13 Documents d'Appel d'Offres [Essentielle] 14 0.01.14 Échéancier [Importante] 14 0.01.15 Établissement Participant [Essentielle] 14 0.01.16 Formulaire de Soumission [Essentielle] 14 0.01.17 Institution Financière [Essentielle] 14 0.01.18 Option [Essentielle] 14 0.01.19 ORGANISME PUBLIC [Essentielle] 14 0.01.20 PARTIE [Essentielle] 15 0.01.21 Personne [Essentielle] 15 0.01.22 Personne Liée [Essentielle] 15 0.01.23 Renseignement Confidentiel [Essentielle] 15 0.01.24 Renseignement Personnel [Essentielle] 15 0.01.25 Représentants Légaux [Essentielle] 15 0.01.26 Service [Importante] 15 0.01.27 Soumission [Essentielle] 15 0.01.28 Travaux [Importante] 16 0.02 Primauté [Importante] 16 0.03 Droit applicable [Essentielle] 16 0.04 Généralités 16 0.04.01 Dates et délais [Importante] 16 a) De rigueur 16 b) Calcul 16 0.04.02 Références financières [Importante] 16 0.04.03 Consentement [Importante] 17 1.00 OBJET. 17 1.01 Biens [Essentielle] 17 1.02 Travaux [Facultative] 17 1.03 Consommables [Facultative] 17 1.04 Services [Facultative] 17 2.00 CONTREPARTIE 17 2.01 Biens 17 2.01.01 Prix [Importante] 17 2.01.02 Acquisition supplémentaire [Facultative] 17 2.01.03 Renouvellement [Facultative] 18 2.01.04 Ajustement [Importante] 18 2.02 Travaux [Importante] 18 2.03 Consommables 18 2.03.01 Prix [Importante] 18 2.03.02 Renouvellement [Facultative] 19 2.03.03 Ajustement [Importante] 19 2.04 Services 19 2.04.01 Prix [Importante] 19 2.04.02 Renouvellement [Facultative] 19 2.04.03 Ajustement [Importante] 20 2.05 Modification d’un prix [Essentielle] 20 2.05.01 Cas permis 20 2.05.02 Avis aux autres FOURNISSEURS 20 2.05.01 Cas permis 20 2.05.02 Avis aux autres FOURNISSEURS 21 2.06 Transition [Importante] 21 3.00 MODALITÉS DE PAIEMENT 21 3.01 Facturation [Importante] 21 3.02 Biens [Importante] 22 3.03 Travaux [Importante] 22 3.04 Consommables [Importante] 23 3.05 Services [Importante] 23 3.06 Lieu [Importante] 23 3.07 Vérification [Importante] 23 3.08 Compensation fiscale [Facultative] 23 3.08.01 Réquisition du ministre du Revenu 23 3.08.02 Effet de la remise 24 3.08.03 Renonciation 24 3.09 Intérêt [Facultative] 24 4.00 SÛRETÉS 24 4.01 Garantie d'exécution [Essentielle] 24 4.01.01 Constitution 24 4.01.02 Maintien 24 4.01.01 Constitution 25 4.01.02 Maintien 25 4.01.01 Constitution 25 4.01.02 Maintien 25 4.01.01 Constitution 25 4.01.02 Maintien 26 4.01.01 Constitution 26 4.01.02 Maintien 26 4.01.01 Constitution 26 4.01.02 Maintien 26 4.02 Appropriation [Essentielle] 26 4.03 Préavis à la caution [Essentielle] 27 4.03.01 Demande d'exécution 27 4.03.02 Indemnisation 27 5.00 ATTESTATIONS RÉCIPROQUES 27 6.00 ATTESTATIONS DE L'ORGANISME PUBLIC 27 7.00 ATTESTATIONS DU FOURNISSEUR/PRESTATAIRE DE SERVICES/ENTREPRENEUR 27 7.01 Statut [Importante] 28 7.02 Capacité [Importante] 28 7.03 Divulgation [Importante] 28 8.00 OBLIGATION(S) RÉCIPROQUE(S) 28 8.01 Gestion du regroupement 28 8.01.01 Obligation des Établissements Participants [Importante] 28 8.01.02 Interdiction [Importante] 28 8.01.03 Ajout d'un établissement [Facultative] 28 a) Avis 28 b) Délai 29 a) Avis 29 b) Délai 29 8.02 Collaboration [Importante] 29 8.03 Information confidentielle [Importante] 29 8.04 Remplacement d'un représentant [Importante] 30 8.05 Exécution complète [Importante] 30 9.00 OBLIGATIONS DE L'ORGANISME PUBLIC 30 9.01 Chargé de projet [Importante] 30 9.02 Bon de Commande [Importante] 30 9.03 Acquisition supplémentaire [Importante] 30 9.04 Non-responsabilité [Importante] 31 9.05 Accès [Importante] 31 9.06 Risques de perte [Importante] 31 9.07 Utilisation [Importante] 31 9.08 Acceptation finale [Importante] 31 9.09 Inspection [Importante] 31 9.10 Travaux 32 9.10.01 Préparation du site [Importante] 32 9.10.02 Acceptation [Importante] 32 a) Acceptation provisoire 32 b) Acceptation finale 32 c) Options 32 9.11 Consommable en Consignation [Facultative] 33 9.11.01 Liste initiale 33 9.11.02 Bon de commande 33 9.11.03 Conservation 33 9.11.04 Contrôle de l'inventaire 33 9.11.05 Utilisation 33 9.11.06 Fin du Contrat 34 10.00 OBLIGATIONS DU FOURNISSEUR/PRESTATAIRE DE SERVICES/ENTREPRENEUR 34 10.01 Défaut [Importante] 34 10.02 Assurance responsabilité civile générale [Importante] 34 10.02.01 Preuve 34 10.02.02 Montant 34 10.02.03 Émetteur 34 10.02.04 Étendue de la responsabilité 34 10.03 Conformité à la CNESST [Facultative] 34 10.04 Sous-contrat 35 10.04.01 Autorisation [Essentielle] 35 10.04.02 Exigences [Essentielle] 35 a) Liste 35 10.05 Autorisation de contracter [Importante] 36 10.06 Quantité [Importante] 36 10.07 Qualité [Importante] 36 10.07.01 Vices 36 10.07.02 Refus de Bien 36 a) Reprise 36 b) Remplacement 36 10.08 Remplacement d’un Bien [Essentielle] 36 10.09 Production 37 10.09.01 Commande excédentaire [Facultative] 37 10.09.02 Contrôles et essais [Facultative] 37 10.09.03 Interruption [Importante] 37 10.09.04 Biens supprimés [Importante] 37 10.09.05 Incapacité [Importante] 37 10.09.06 Retrait [Importante] 37 10.10 Retour d'un Bien [Importante] 38 10.10.01 Rejet 38 10.10.02 Évaluation 38 10.10.03 Remboursement 38 10.11 Langue d'usage [Importante] 38 10.12 Conformité [Importante] 38 10.13 Transfert de propriété [Importante] 38 10.14 Perte [Importante] 38 10.15 Santé et sécurité [Importante] 39 10.15.01 Consignes 39 10.15.02 Mise à jour 39 10.15.03 Matières dangereuses 39 10.16 Livraison [Importante] 39 10.16.01 Délais et fréquence 39 10.16.02 Lieu 39 10.16.03 Emballage 39 10.16.04 Responsabilité 39 10.17 Documentation d'Usager [Importante] 40 10.18 Rehaussement et mises à jour [Facultative] 40 10.18.01 Avant la livraison 40 10.18.02 Après la livraison 40 10.19 Formation 40 10.19.01 Formation de base [Importante] 40 10.19.02 Formation additionnelle [Importante] 40 10.20 Diligence [Importante] 40 10.21 Préavis d'intervention [Essentielle] 40 10.22 Garantie [Importante] 41 10.22.01 Étendue 41 10.22.02 Durée 41 10.22.03 Délai de réparation 41 10.23 Garantie du droit de propriété [Importante] 41 10.24 Consommables 41 10.24.01 Disponibilité [Importante] 41 10.24.02 Consommable en Consignation [Facultative] 41 a) Liste Initiale 41 b) Livraison et remplacement 42 c) Entreposage 42 d) Utilisation 42 e) Vérification 42 f) Contrôle de l'inventaire 42 g) Reddition de compte 42 h) Fin du contrat 43 10.24.03 Application [Importante] 43 10.25 Travaux 43 10.25.01 Échéancier [Importante] 43 a) Remise 43 b) Respect 43 c) Pénalité 43 10.25.02 Installation [Importante] 43 10.25.03 Collaboration [Importante] 44 10.25.04 Récupération [Importante] 44 10.25.05 Mise en marche [Importante] 44 10.25.06 Ressources humaines [Importante] 44 a) Main-d'oeuvre 44 b) Autorité 44 c) Employés 44 d) Embauche 44 e) Entrée et sortie 45 f) Identification 45 g) Conduite 45 h) Sous-contractants 45 10.26 Conflits d'intérêts [Importante] 45 10.26.01 Engagement d'éviter 45 10.26.02 Avis 45 10.26.03 Portée 45 10.27 Engagement de confidentialité [Facultative] 45 10.28 Services 46 10.28.01 Ressources [Importante] 46 10.28.02 Diligence [Importante] 47 10.28.03 Soutien téléphonique [Importante] 47 10.28.04 Modalités d’intervention [Importante] 47 10.29 Maintien du système d'assurance de la qualité [Facultative] 47 10.30 Pièces de rechange [Facultative] 47 10.31 Indemnisation [Importante] 47 10.31.01 « Perte » 47 10.31.02 Portée 48 10.31.03 Procédure 48 10.31.04 Limite 49 11.00 DISPOSITIONS PARTICULIÈRES 49 11.01 Cession sujette à autorisation [Importante] 49 11.02 Cession préautorisée [Importante] 49 11.03 Évaluation du rendement [Facultative] 49 12.00 DISPOSITIONS GÉNÉRALES 50 12.01 Avis [Essentielle] 50 12.02 Résolution de différends 50 12.02.01 Négociations de bonne foi [Essentielle] 50 12.02.02 Médiation [Importante] 50 a) Règles 50 b) Règlement 50 12.02.03 Arbitrage [Facultative] 51 a) Juridiction 51 b) Décision 51 c) Frais 51 a) Juridiction 51 b) Décision 51 c) Frais 52 12.03 Élection [Essentielle] 52 12.04 Modification [Essentielle] 52 12.05 Non-renonciation [Importante] 52 13.00 FIN DU CONTRAT 53 13.01 De gré à gré [Essentielle] 53 13.02 Sans préavis [Essentielle] 53 13.03 Avec préavis [Essentielle] 53 13.04 Changement de Contrôle [Importante] 53 13.05 Effets de la résiliation [Importante] 54 13.06 Travaux [Importante] 54 13.07 Consommables [Importante] 54 13.08 Services [Importante] 54 14.00 ENTRÉE EN VIGUEUR 54 15.00 DURÉE. 54 15.01 Biens 54 15.01.01 Expiration [Importante] 54 15.01.02 Renouvellement [Importante] 55 15.02 Travaux [Importante] 55 15.03 Consommables 55 15.03.01 Expiration [Importante] 55 15.03.02 Renouvellement [Importante] 56 15.04 Services 56 15.04.01 Expiration [Importante] 56 15.04.02 Renouvellement [Importante] 56 15.05 Survie [Importante] 56 15.06 Non-reconduction [Importante] 57 16.00 PORTÉE 57 LISTE DES ANNEXES PAGE ANNEXE A - LISTE DES ÉTABLISSEMENTS PARTICIPANTS [Importante] 58 ANNEXE 0.01.14 - ÉCHÉANCIER [Importante] 59 ANNEXE 0.01.11 - DEVIS [Importante] 60 ANNEXE 4.01 - CAUTIONNEMENT D'EXÉCUTION [Essentielle] 61 ANNEXE 10.04.02 - LISTE DES SOUS-CONTRACTANTS [Essentielle] 63 ANNEXE 10.28.04 – MODALITÉS D’INTERVENTION [Importante] 64 ANNEXE 10.27 A - ENGAGEMENT DE CONFIDENTIALITÉ [Facultative] 66 ANNEXE 10.27 B - FICHE D'INFORMATION SUR LA DESTRUCTION DES DOCUMENTS CONTENANT DES RENSEIGNEMENTS PERSONNELS [Facultative] 67 ANNEXE 10.27 C - ATTESTATIONS DE DESTRUCTION DES RENSEIGNEMENTS PERSONNELS ET CONFIDENTIELS [Facultative] 69 CONTRAT D’APPROVISIONNEMENT EN BIENS AVEC SERVICES intervenu en la ville de Lieu de naissance de l'Appel d'Offres (Ville), province de Québec, Canada. (Individuel) ENTRE: Dénomination sociale, personne morale de droit public dûment constituée selon Loi régissant l'établissement, ayant sa principale place d’affaires au Adresse (# et rue), en la ville de Lieu principal de l'établisssement (Ville ou Municipalité), province de Québec, Code postal; CI-APRÈS DÉNOMMÉE L’« ORGANISME PUBLIC »; ET: LE FOURNISSEUR dûment identifié dans l’Avis d’Adjudication émis conformément aux modalités de l’Appel d’Offres portant le no Numéro de l'appel d'offres s’y rapportant; CI-APRÈS DÉNOMMÉ LE « FOURNISSEUR »; CI-APRÈS COLLECTIVEMENT DÉNOMMÉS LES « PARTIES ». OU (Mandataire) ENTRE: Dénomination sociale, personne morale de droit public dûment constituée selon Loi régissant l'établissement, ayant sa principale place d’affaires au Adresse (# et rue), en la ville de Lieu principal de l'établisssement (Ville ou Municipalité), province de Québec, Code postal, agissant aux présentes en qualité de mandataire des établissements identifiés à l’annexe A des présentes, dûment autorisée à agir à cette fin, tel qu’elle le déclare; CI-APRÈS DÉNOMMÉE L’«ORGANISME PUBLIC »; ET: LE FOURNISSEUR dûment identifié dans l’Avis d’adjudication émis conformément aux modalités de l’appel d’offres portant le numéro Numéro de l'appel d'offres s’y rapportant; CI-APRÈS DÉNOMMÉ LE « FOURNISSEUR »; CI-APRÈS COLLECTIVEMENT DÉNOMMÉS LES « PARTIES ». OU (Mandataire - Groupement d'approvisionnement en commun) ENTRE: Dénomination sociale, personne morale sans but lucratif dûment constituée selon Loi régissant l'établissement, ayant sa principale place d’affaires au Adresse (# et rue), en la ville de Lieu principal de l'établisssement (Ville ou Municipalité), province de Québec, Code postal, agissant aux présentes en qualité de mandataire des établissements identifiés à l’annexe A des présentes, dûment autorisée à agir à cette fin, tel qu’elle le déclare; CI-APRÈS DÉNOMMÉE L’«ORGANISME PUBLIC »; ET: LE FOURNISSEUR dûment identifié dans l’Avis d’Adjudication émis conformément aux modalités de l’appel d’offres portant le numéro Numéro de l'appel d'offres s’y rapportant; CI-APRÈS DÉNOMMÉ LE « FOURNISSEUR »; CI-APRÈS COLLECTIVEMENT DÉNOMMÉS LES « PARTIES ». PRÉAMBULE LES PARTIES DÉCLARENT CE QUI SUIT : L’ORGANISME PUBLIC a lancé l’Appel d’Offres portant le numéro Numéro de l'appel d'offres, se rapportant à l'acquisition Biens visés; Le FOURNISSEUR a répondu à cet Appel d’Offres et a présenté à cette fin une Soumission conforme aux exigences fixées à cet égard dans l’Appel d’Offres; La Soumission présentée par le FOURNISSEUR a été retenue conformément à la règle d’adjudication déterminée; Les PARTIES doivent maintenant procéder à l’exécution du Contrat visé par cet Appel d’Offres, étant entendu que toute information supplétive figurant dans l’Appel d’Offres ainsi que la Soumission déposée par le FOURNISSEUR font partie intégrante du Contrat, le cas échéant; de même, le Contrat lie chacun des Établissements Participants avec le FOURNISSEUR. À CES FINS, LES PARTIES CONVIENNENT CE QUI SUIT: OU LES PARTIES DÉCLARENT CE QUI SUIT : L’ORGANISME PUBLIC a lancé l’Appel d’Offres portant le numéro Numéro de l'appel d'offres, se rapportant à l'acquisition Biens visés; Le FOURNISSEUR a répondu à cet Appel d’Offres et a présenté à cette fin une Soumission conforme aux exigences fixées à cet égard dans l’Appel d’Offres; La Soumission présentée par le FOURNISSEUR a été retenue conformément à la règle d’adjudication déterminée; Les PARTIES doivent maintenant procéder à l’exécution du Contrat visé par cet Appel d’Offres, étant entendu que toute information supplétive figurant dans l’Appel d’Offres ainsi que la Soumission déposée par le FOURNISSEUR font partie intégrante du Contrat, le cas échéant. À CES FINS, LES PARTIES CONVIENNENT CE QUI SUIT: INTERPRÉTATION Terminologie À moins d’indication contraire dans le texte, les mots et expressions commençant par une majuscule qui apparaissent dans le Contrat, ou dans toute annexe ou documentation subordonnée à celui-ci, s’interprètent comme suit : Appel d'Offres [Essentielle] désigne l’appel d’offres no Numéro de l'appel d'offres, se rapportant à l'acquisition Biens visés; Avis d'Adjudication [Essentielle] désigne tout écrit par lequel l’ORGANISME PUBLIC avise un SOUMISSIONNAIRE que sa Soumission a été, partiellement ou totalement, acceptée ou sélectionnée; Bien [Importante] désigne le ou les biens visés par l’Appel d’Offres tels que décrits dans le Devis; Bon de Commande [Essentielle] désigne tout écrit émanant de l’ORGANISME PUBLIC, assujetti au Contrat, par lequel ce dernier place une commande de Biens auprès du FOURNISSEUR; Bordereau de Prix [Essentielle] désigne le document faisant partie du Formulaire de Soumission prescrit par l’ORGANISME PUBLIC et utilisé par le FOURNISSEUR pour proposer son Prix; Changement de Contrôle [Essentielle] signifie, relativement à une PARTIE au Contrat ayant le statut d’une personne morale, n’importe lequel des événements suivants : l’acquisition directe ou indirecte par une Personne ou entité de titres d’une telle personne morale représentant plus de CINQUANTE POUR CENT (50%) des droits de vote de cette dernière; une entente portant sur la vente ou la disposition de tous ou de substantiellement tous les actifs de la personne morale; une réorganisation de la personne morale menant au transfert des droits conférés par le Contrat d’une PARTIE à une Personne liée; une fusion impliquant la personne morale; ou l’approbation par les actionnaires de la personne morale d’un plan pour la liquidation complète de cette dernière; Charge [Essentielle] désigne une cause légitime de préférence, un démembrement du droit de propriété, une modalité de la propriété, une restriction à l'exercice du droit de disposer et une sûreté conventionnelle ou légale; Consommable [Importante] désigne un produit accessoire, autre qu'une pièce de rechange, nécessaire au fonctionnement du Bien et qui se consomme à l'usage; Consommable en Consignation [Importante] désigne tout Consommable figurant sur la liste de Consommable en consignation dressée par l’ORGANISME PUBLIC conformément au Contrat ayant été livré à l’établissement de l'ORGANISME PUBLIC suite à l’émission d’un Bon de Commande de ce dernier à cette fin; Contrat [Essentielle] désigne le présent document et comprend toutes les annexes s’y rattachant; Devis [Essentielle] désigne la documentation émanant de l’ORGANISME PUBLIC décrivant les Biens et Services à être fournis, reproduite à l’annexe 0.01.11 des présentes; Documentation d'Usager [Essentielle] désigne, à l’égard des Biens, toute documentation requise afin de permettre, sans s’y limiter : à tout technicien assurant le support technique des usagers de l’ORGANISME PUBLIC et possédant des habiletés et une expérience normales de former les utilisateurs des Biens à son utilisation conformément à ses spécifications; et à tout utilisateur des Biens ne disposant pas de qualifications techniques d’en comprendre les fonctions et les caractéristiques et de l’utiliser adéquatement et de pouvoir identifier les modes de dépannage face aux problèmes d’utilisation susceptibles d’être les plus fréquemment rencontrés; Documents d'Appel d'Offres [Essentielle] désigne l’ensemble de la documentation produite par l’ORGANISME PUBLIC aux fins de l’Appel d’Offres; Échéancier [Importante] désigne le calendrier d’exécution des Travaux, convenu avec l’ORGANISME PUBLIC, joint à l’annexe 0.01.14 des présentes; Établissement Participant [Essentielle] désigne tout établissement, ayant initialement accepté de participer à l'Appel d'Offres ou ayant le droit d'adhérer ultérieurement au Contrat, dont le nom figure à l’annexe A des présentes; Formulaire de Soumission [Essentielle] désigne, relativement au Contrat, le formulaire de soumission dûment complété, signé et déposé par le FOURNISSEUR pour soumettre sa Soumission relativement à l’Appel d’Offres, subséquemment accepté par l’ORGANISME PUBLIC conformément à la procédure prévue aux Documents d’Appel d’Offres, incluant toutes ses annexes dont notamment le Bordereau de Prix; Institution Financière [Essentielle] désigne un assureur détenant un permis émis conformément à la Loi sur les assurances (RLRQ, chapitre A-32) l'autorisant à pratiquer l'assurance cautionnement, une société de fiducie titulaire d'un permis délivré en vertu de la Loi sur les sociétés de fiducie et les sociétés d'épargne (RLRQ, chapitre S-29.01), une coopérative de services financiers visée par la Loi sur les coopératives de services financiers (RLRQ, chapitre C-67.3), ou une banque au sens de la Loi sur les banques (L.C. 1991, c. 46); Option [Essentielle] désigne une option de renouvellement du Contrat en tout ou en partie ou l'acquisition de biens supplémentaires identiques à ceux initialement acquis, offerts au même prix, sous réserve de toute indexation convenue de celui-ci; ORGANISME PUBLIC [Essentielle] (Individuel) désigne l’établissement ayant lancé l’Appel d’Offres; OU (Mandataire) désigne, selon le cas, un Établissement Participant agissant individuellement ou de concert avec un ou plusieurs autres Établissements Participants, le regroupement des Établissements Participants constitué pour l’Appel d’Offres agissant collectivement, ou leur mandataire; PARTIE [Essentielle] désigne toute partie réputée signataire du Contrat et comprend leurs Représentants Légaux; Personne [Essentielle] désigne, selon le cas, un particulier, une société de personnes, une société par actions, une compagnie, une coopérative, une association, un syndicat, une fiducie ou toute autre organisation possédant ou non une personnalité juridique propre, ainsi que toute autorité publique de juridiction étrangère, fédérale, provinciale, territoriale ou municipale, qui n’est pas PARTIE au Contrat et comprend leurs représentants légaux; Personne Liée [Essentielle] désigne, pour chaque PARTIE, toute Personne identifiée dans l’article 251(2) de la Loi de l’impôt sur le revenu (L.R.C. (1985), ch.1 (5e supp.)) ou toute Personne qui a un lien de dépendance avec cette PARTIE; Renseignement Confidentiel [Essentielle] désigne tout renseignement dont l’accès est assorti d’une ou de plusieurs restrictions prévues par la Loi sur l'accès aux documents des organismes publics et sur la protection des renseignements personnels (RLRQ, chapitre A-2.1); Renseignement Personnel [Essentielle] désigne tout renseignement qui concerne une personne physique et qui permet de l’identifier; Représentants Légaux [Essentielle] désigne, pour chaque PARTIE ou, le cas échéant, son cessionnaire dûment autorisé, lorsqu’il s’agit d’une personne physique, ses liquidateurs de succession ou administrateurs de ses biens, héritiers, légataires, ayants cause ou mandataires et, lorsqu’il s’agit d’une personne morale, ses administrateurs, officiers, dirigeants, actionnaires, employés ou représentants; Service [Importante] désigne individuellement ou collectivement les services offerts par le FOURNISSEUR à l’ORGANISME PUBLIC, à prendre effet à la fin de la garantie du Bien, moyennant la contrepartie indiquée au Bordereau de Prix et sujet aux modalités spécifiques s’y rapportant; Soumission [Essentielle] désigne le Formulaire de Soumission, ses annexes et tout autre document requis par l’ORGANISME PUBLIC, déposé par le FOURNISSEUR en réponse à l’Appel d’Offres; Travaux [Importante] désigne l’ensemble des travaux confiés au FOURNISSEUR tels que décrits au Devis ainsi que les modalités d’exécution de ceux-ci; Primauté [Importante] Le Contrat constitue la totalité et l'intégralité de l'entente intervenue entre les PARTIES. Il prime sur les conditions ou politiques de vente du FOURNISSEUR, à moins que les conditions ou politiques de vente du FOURNISSEUR soient plus avantageuses pour l’ORGANISME PUBLIC. Droit applicable [Essentielle] Le Contrat s’interprète et s’exécute conformément aux lois applicables de la province de Québec. Généralités Dates et délais [Importante] De rigueur Toutes les échéances indiquées dans le Contrat sont de rigueur à moins d'indication contraire dans le texte. Une prolongation ou une modification au Contrat, à moins d’une indication claire à cet effet, ne peut constituer une renonciation à ce qui précède. Calcul Lors du calcul d'un délai, les règles suivantes s'appliquent : lorsque le délai est exprimé en jours, le jour qui marque le point de départ n'est pas compté, mais celui qui marque l’échéance ou la date limite du délai l’est; les jours non ouvrables sont comptés; cependant, lorsque la date d’échéance ou la date limite est un jour non ouvrable (samedi, dimanche ou un jour férié au sens de la Loi d’interprétation (RLRQ, c. I-16)), celle-ci est reportée au premier jour ouvrable suivant; et le terme «mois», lorsqu'il est utilisé dans le Contrat, désigne les mois du calendrier. Si le Contrat fait référence à une date spécifique qui n’est pas un jour ouvrable, l’échéance est reportée au premier jour ouvrable suivant la date spécifique. Références financières [Importante] Toutes les sommes d'argent prévues dans le Contrat sont en devises canadiennes. Consentement [Importante] Lorsque le Contrat prévoit le consentement d’une PARTIE, celui-ci doit, à moins d’indication contraire, faire l’objet d’un écrit. OBJET. Biens [Essentielle] Sujet à la sélection de sa Soumission et au respect du Contrat, l’ORGANISME PUBLIC convient par les présentes d’acquérir les Biens auprès du FOURNISSEUR qui convient de vendre ceux-ci à l’ORGANISME PUBLIC, moyennant la contrepartie indiquée à la partie 2.00, et de se conformer aux modalités du Contrat s’y rapportant. Travaux [Facultative] Sujet à la sélection de sa Soumission et au respect du Contrat, l’ORGANISME PUBLIC convient par les présentes de confier l’exécution des Travaux au FOURNISSEUR, qui convient d’exécuter ceux-ci, moyennant la contrepartie indiquée à la partie 2.00, et de se conformer aux modalités du Contrat s’y rapportant. Consommables [Facultative] Sujet à la sélection de sa Soumission et au respect du Contrat, l’ORGANISME PUBLIC convient par les présentes d’acquérir les Consommables auprès du FOURNISSEUR qui convient de vendre ceux-ci à l’ORGANISME PUBLIC, moyennant la contrepartie indiquée à la partie 2.00, et de se conformer aux modalités du Contrat s’y rapportant. Services [Facultative] Sujet à l'acceptation finale des Biens, l’ORGANISME PUBLIC convient par les présentes de confier l’exécution des Services au FOURNISSEUR, qui convient d’exécuter ceux-ci, moyennant la contrepartie indiquée à la partie 2.00 et de se conformer aux modalités du Contrat s’y rapportant. CONTREPARTIE Biens Prix [Importante] En guise de contrepartie à l’acquisition des Biens, l’ORGANISME PUBLIC convient de payer au FOURNISSEUR le(s) montant(s) indiqué(s) au Bordereau de Prix. Acquisition supplémentaire [Facultative] Si l’ORGANISME PUBLIC lève l’Option d’acquisition supplémentaire de Biens selon les modalités prévues à la clause 9.03 des présentes, les prix appliqués sont les prix indiqués au Bordereau de Prix. Renouvellement [Facultative] (Biens - Avec augmentation - Pourcentage) Si l’ORGANISME PUBLIC lève l’Option de renouvellement selon les modalités prévues à la section 15.01.02 des présentes, les prix appliqués sont les prix indiqués au Bordereau des Prix lesquels sont augmentés de CT - Pourcentage de l'augmentation - Lettres POUR CENT (CT - Pourcentage de l'augmentation - Chiffre %) pour la période visée par le renouvellement. OU (Biens - Avec augmentation - Selon IPC) Si l’ORGANISME PUBLIC lève l’Option de renouvellement selon les modalités prévues à la section 15.01.02 des présentes, les prix appliqués sont les prix indiqués au Bordereau des Prix, lesquels peuvent être augmentés, pour la période visée par le renouvellement, en fonction de l'augmentation du coût de la vie, tel qu'établie par l'indice des prix à la consommation (IPC) de Statistique Canada, calculée sur une base annuelle. OU (Biens - Sans augmentation) Si l’ORGANISME PUBLIC lève l’Option de renouvellement selon les modalités prévues à la section 15.01.02 des présentes, les prix appliqués sont les prix indiqués au Bordereau des Prix, sans modification aucune. Ajustement [Importante] Nonobstant ce qui précède, il est entendu entre les PARTIES que le prix convenu pour les Biens peut être ajusté, d'un commun accord entre les PARTIES, en cas de modification du Contrat. Travaux [Importante] (Prix des travaux inclus dans celui du Bien) Les PARTIES conviennent que la contrepartie de l'exécution des Travaux est comprise dans le prix d'acquisition des Biens. OU (Prix des travaux séparé de celui du Bien) En guise de contrepartie à l’exécution des Travaux, l’ORGANISME PUBLIC convient de payer au FOURNISSEUR le(s) montant(s) indiqué(s) au Bordereau de Prix. Consommables Prix [Importante] En guise de contrepartie à l’acquisition des Consommables, l’ORGANISME PUBLIC convient de payer au FOURNISSEUR le(s) montant(s) indiqué(s) au Bordereau de Prix. Renouvellement [Facultative] (Consommables - Avec augmentation - Pourcentage) Si l’ORGANISME PUBLIC lève l’Option de renouvellement selon les modalités prévues à la section 15.03.02 des présentes, les prix appliqués sont les prix indiqués au Bordereau des Prix lesquels sont augmentés de CT - Pourcentage de l'augmentation - Lettres-3 POUR CENT (CT - Pourcentage de l'augmentation - Chiffre-3 %) pour la période visée par le renouvellement. OU (Consommables - Avec augmentation - Selon IPC) Si l’ORGANISME PUBLIC lève l’Option de renouvellement selon les modalités prévues à la section 15.03.02 des présentes, les prix appliqués sont les prix indiqués au Bordereau des Prix, lesquels peuvent être augmentés, pour la période visée par le renouvellement, en fonction de l'augmentation du coût de la vie, tel qu'établie par l'indice des prix à la consommation (IPC) de Statistique Canada, calculée sur une base annuelle. OU (Consommables - Sans augmentation) Si l’ORGANISME PUBLIC lève l’Option de renouvellement selon les modalités prévues à la section 15.03.02 des présentes, les prix appliqués sont les prix indiqués au Bordereau des Prix, sans modification aucune. Ajustement [Importante] Nonobstant ce qui précède, il est entendu entre les PARTIES que le prix convenu pour les Consommables peut être ajusté, d'un commun accord entre les PARTIES, en cas de modification du Contrat. Services Prix [Importante] En guise de contrepartie à l’acquisition des Services, l’ORGANISME PUBLIC convient de payer au FOURNISSEUR le(s) montant(s) indiqué(s) au Bordereau de Prix. Renouvellement [Facultative] (Services - Avec augmentation - Pourcentage) Si l’ORGANISME PUBLIC lève l’Option de renouvellement selon les modalités prévues à la section 15.04.02 des présentes, les prix appliqués sont les prix indiqués au Bordereau des Prix lesquels sont augmentés de CT - Pourcentage de l'augmentation - Lettres-2 POUR CENT (CT - Pourcentage de l'augmentation - Chiffre-2 %) pour la période visée par le renouvellement. OU (Services - Avec augmentation - Selon IPC) Si l’ORGANISME PUBLIC lève l’Option de renouvellement selon les modalités prévues à la section 15.04.02 des présentes, les prix appliqués sont les prix indiqués au Bordereau des Prix, lesquels peuvent être augmentés, pour la période visée par le renouvellement, en fonction de l'augmentation du coût de la vie, tel qu'établie par l'indice des prix à la consommation (IPC) de Statistique Canada, calculée sur une base annuelle. OU (Services - Sans augmentation) Si l’ORGANISME PUBLIC lève l’Option de renouvellement selon les modalités prévues à la section 15.04.02 des présentes, les prix appliqués sont les prix indiqués au Bordereau des Prix, sans modification aucune. Ajustement [Importante] Nonobstant ce qui précède, il est entendu entre les PARTIES que le prix convenu pour les Services peut être ajusté, d'un commun accord entre les PARTIES, en cas de modification du Contrat. Modification d’un prix [Essentielle] (Contrat à commandes avec la règle de 10%) Cas permis Un FOURNISSEUR peut choix des modalités, sur avis écrit à l’ORGANISME PUBLIC, réduire le prix de tout Bien dont il approvisionne l’ORGANISME PUBLIC. Le FOURNISSEUR peut aussi, conformément à la clause 10.08 remplacer un Bien par un nouveau bien dans la mesure où ce bien est conforme aux spécifications techniques requises et que son prix n’excède pas celui du Bien remplacé. Avis aux autres FOURNISSEURS Sur réception d’un tel avis, si l’ORGANISME PUBLIC constate qu’il en résulte un changement dans le rang des FOURNISSEURS, il doit, dans les QUINZE (15) jours de la réception de l’avis de changement de prix, aviser ceux-ci du nouveau prix offert, du nouvel ordre que ce changement engendre ou de son effet vis-à-vis des FOURNISSEURS dont le prix n’est plus dans la plage de DIX (10) POUR CENT du prix le plus bas. OU (Contrat à commandes sans la règle de 10%) Cas permis Un FOURNISSEUR peut choix des modalités, sur avis écrit à l’ORGANISME PUBLIC, réduire le prix de tout Bien dont il approvisionne l’ORGANISME PUBLIC. Le FOURNISSEUR peut aussi, conformément à la clause 10.08 remplacer un Bien par un nouveau bien dans la mesure où ce bien est conforme aux spécifications techniques requises et que son prix n’excède pas celui du Bien remplacé. Avis aux autres FOURNISSEURS Sur réception d’un tel avis, si l’ORGANISME PUBLIC constate qu’il en résulte un changement dans le rang des FOURNISSEURS, il doit, dans les QUINZE (15) jours de la réception de l’avis de changement de prix, aviser ceux-ci du nouveau prix offert et du nouvel ordre que ce changement engendre. Transition [Importante] À l’expiration du Contrat, incluant toute période de renouvellement le cas échéant, si un nouveau fournisseur n’est pas en mesure de répondre immédiatement aux besoins de l’ORGANISME PUBLIC, le FOURNISSEUR convient, afin de permettre une transition ordonnée et d’éviter toute rupture dans l’approvisionnement, de continuer à fournir les Biens aux prix en vigueur à la date d’expiration du Contrat, pour une période n’excédant pas CT - Période de maintien des prix en vigueur mois. MODALITÉS DE PAIEMENT Facturation [Importante] Le paiement de toute somme exigible en vertu du Contrat s’effectue sur présentation de facture(s) accompagnée(s) des pièces justificatives requises par l’ORGANISME PUBLIC. Toutes les factures du FOURNISSEUR doivent afficher, de façon claire: dans leur entête: son nom; son adresse; ses numéros d'identification relatifs à la taxe de vente du Québec (TVQ), taxe sur les produits et services (TPS) ou la taxe de vente harmonisée (TVH); le numéro du Bon de commande de l’ORGANISME PUBLIC; dans leur description: les items facturés; les quantités et leurs prix (à l'unité et total); les montants des taxes applicables: taxe de vente du Québec (TVQ); taxes sur les produits et services (TPS); ou, le cas échéant, taxe de vente harmonisée (TVH); le terme de paiement, si applicable. L’ORGANISME PUBLIC se réserve le droit de refuser une facture qui ne se conforme pas à ces exigences. Biens [Importante] (Paiement progressif - Avec travaux) Le prix des Biens est payable comme suit : CT - Pourcentage du prix du contrat - a) du prix soumis lors de l’émission du Bon de Commande; CT - Pourcentage du prix du contrat - b) du prix soumis lors de la réception des Biens; CT - Pourcentage du prix du contrat - c) du prix soumis à la date d’acceptation provisoire des Travaux; CT - Pourcentage du prix du contrat - d) du prix soumis à la date d’acceptation finale ou au plus tard QUATRE-VINGT-DIX (90) jours après l’acceptation provisoire des Travaux. OU (Paiement progressif - Sans travaux) Le prix des Biens est payable comme suit : CT - Pourcentage du prix du contrat - a) du prix soumis lors de l’émission du Bon de Commande; CT - Pourcentage du prix du contrat - b) du prix soumis lors de la réception des Biens; CT - Pourcentage du prix du contrat - c) du prix soumis à la date d’acceptation finale ou au plus tard QUATRE-VINGT-DIX (90) jours après la livraison des Biens. OU (Paiement unique) Le prix des Biens est payable en totalité, après la livraison convenue, sur réception d'une facture conforme aux exigences du Contrat. Le délai de paiement est fixé à CT - Termes de paiement jours. OU (Paiements périodiques) Le prix des Biens est payable à raison de Modalités de paiement - Versements - Nombre versements Modalités de paiement - Période égaux et consécutifs, à compter de la livraison. Travaux [Importante] (Prix des travaux inclus dans celui du Bien) Le prix des Travaux, compris dans celui des Biens, est réputé payé à même le payement du prix des Biens versé au FOURNISSEUR. OU (Prix des travaux séparé de celui du Bien) Le prix des Travaux est payable en totalité, après la livraison convenue, sur réception d'une facture conforme aux exigences du Contrat. Le délai de paiement est fixé à CT - Termes de paiement jours. Consommables [Importante] Le prix des Consommables est payable en totalité, après la livraison convenue, sur réception d'une facture conforme aux exigences du Contrat. Le délai de paiement est fixé à CT - Termes de paiement - 2 jours. Services [Importante] Le FOURNISSEUR convient de facturer les Services sur une base CT - Périodicité de la facturation. Le délai de paiement est fixé à CT - Termes de paiement - 3 jours après la réception d'une facture. Lieu [Importante] Tout montant dû, aux termes des présentes, est payé au bureau du FOURNISSEUR, à l'adresse indiquée dans le Formulaire de Soumission, ou à tout autre endroit que le FOURNISSEUR peut indiquer par écrit à l’ORGANISME PUBLIC. Vérification [Importante] Un paiement fait par l’ORGANISME PUBLIC ne constitue pas une renonciation à son droit de vérifier ultérieurement le bien-fondé de la facture acquittée par un tel paiement. L’ORGANISME PUBLIC se réserve le droit de procéder à toute vérification ultérieure des factures déjà acquittées afin d’assurer la conformité des paiements réclamés et payés par rapport au Contrat. Compensation fiscale [Facultative] Réquisition du ministre du Revenu Conformément aux articles 31.1.1 de la Loi sur l’administration fiscale, RLRQ, chapitre A-6.002, et 53 de la Loi facilitant le paiement des pensions alimentaires, RLRQ, chapitre P-2.2, lorsque le FOURNISSEUR est redevable d’un montant exigible en vertu d’une loi fiscale ou alimentaire, l’ORGANISME PUBLIC, étant ou agissant pour le compte d’un organisme public tel que défini à l’article 31.1.4 de la Loi sur l’administration fiscale, peut, s’il en est requis par le ministre du Revenu, remettre à celui-ci, en tout ou en partie, toute somme payable en vertu du Contrat afin que celui-ci puisse affecter en tout ou en partie cette somme au paiement de cette dette. Effet de la remise Toute somme ainsi remise au ministre du Revenu, conformément à ce qui précède, équivaut à un paiement par compensation au FOURNISSEUR, celui-ci consentant par les présentes à une telle remise et compensation jusqu’à concurrence du plein montant qu’il doit en vertu d’une loi fiscale ou alimentaire. Renonciation Le cas échéant, le FOURNISSEUR renonce à toute réclamation, à quelque titre que ce soit, envers l’ORGANISME PUBLIC se rapportant à une telle remise et compensation. Intérêt [Facultative] L’ORGANISME PUBLIC règle les factures conformément aux dispositions prévues au Règlement sur les paiements d’intérêts aux fournisseurs du gouvernement (RLRQ, chapitre C-65.1, r 8). SÛRETÉS (Négative) L’ORGANISME PUBLIC confirme qu’aucune garantie d’exécution n’est requise par les présentes. Garantie d'exécution [Essentielle] (Affirmative - Forfaitaire - Avec cautionnement ou effets de commerce) Constitution Le FOURNISSEUR doit, dans les Délai de transmission de la garantie d'exécution jours à compter de la date de l’envoi de l’Avis d’Adjudication, fournir à l’ORGANISME PUBLIC une garantie d’exécution , d’un montant forfaitaire de Montant forfaitaire de la garantie d'exécution, émise sous l’une ou l’autre des formes suivantes: un chèque certifié, un mandat-poste ou une traite bancaire, fait à l’ordre de l’ORGANISME PUBLIC; un cautionnement émis par émis par une Institution Financière à la faveur de l’ORGANISME PUBLIC, qui doit être conforme aux dispositions du modèle de cautionnement d’exécution reproduit à l’annexe 4.01 des présentes; Maintien La garantie d’exécution doit être valable pour toute la durée du Contrat et doit être retournée au FOURNISSEUR lorsque toutes les obligations de ce dernier en vertu du Contrat sont complétées. OU (Affirmative - Forfaitaire - Avec cautionnement seulement) Constitution Le FOURNISSEUR doit, dans les Délai de transmission de la garantie d'exécution jours à compter de la date de l’envoi de l’Avis d’Adjudication, fournir à l’ORGANISME PUBLIC une garantie d’exécution , d’un montant forfaitaire de Montant forfaitaire de la garantie d'exécution, sous la forme d'un cautionnement émis par une Institution Financière à la faveur de l’ORGANISME PUBLIC, qui doit être conforme aux dispositions du modèle de cautionnement d’exécution reproduit à l’annexe 4.01 des présentes. Maintien La garantie d’exécution doit être valable pour toute la durée du Contrat et doit être retournée au FOURNISSEUR lorsque toutes les obligations de ce dernier en vertu du Contrat sont complétées. OU (Affirmative - Forfaitaire - Sans cautionnement - Avec effet de commerce) Constitution Le FOURNISSEUR doit dans les Délai de transmission de la garantie d'exécution jours à compter de la date de l’envoi de l’Avis d’Adjudication, fournir à l’ORGANISME PUBLIC une garantie d’exécution d’un montant forfaitaire de Montant forfaitaire de la garantie si déposée sous forme de cautionnement, sous la forme d'un chèque certifié, d'un mandat-poste ou d'une traite bancaire émis à l’ordre de l’ORGANISME PUBLIC. Maintien La garantie d’exécution doit être valable pour toute la durée du Contrat et doit être retournée au FOURNISSEUR lorsque toutes les obligations de ce dernier en vertu du Contrat sont complétées. OU (Affirmative - Pourcentage - Avec cautionnement ou effets de commerce) Constitution Le FOURNISSEUR doit, dans les Délai de transmission de la garantie d'exécution jours à compter de la date de l’envoi de l’Avis d’Adjudication, fournir à l’ORGANISME PUBLIC une garantie d’exécution, d’un montant équivalant à Pourcentage du montant du Contrat pour la garantie d'exécution du Contrat, émise sous l’une ou l’autre des formes suivantes: un chèque certifié, un mandat-poste ou une traite bancaire, fait à l’ordre de l’ORGANISME PUBLIC; un cautionnement émis par une Institution Financière à la faveur de l’ORGANISME PUBLIC, qui doit être conforme aux dispositions du modèle de cautionnement d’exécution reproduit à l’annexe 4.01 des présentes; Maintien La garantie d’exécution doit être valable pour toute la durée du Contrat et doit être retournée au FOURNISSEUR lorsque toutes les obligations de ce dernier en vertu du Contrat sont complétées. OU (Affirmative - Pourcentage - Avec cautionnement seulement) Constitution Le FOURNISSEUR doit, dans les Délai de transmission de la garantie d'exécution jours à compter de la date de l’envoi de l’Avis d’Adjudication, fournir à l’ORGANISME PUBLIC une garantie d’exécution, d’un montant équivalant à Pourcentage du montant du Contrat pour la garantie d'exécution du Contrat, sous la forme d'un cautionnement émis par une Institution Financière à la faveur de l’ORGANISME PUBLIC, qui doit être conforme aux dispositions du modèle de cautionnement d’exécution reproduit à l’annexe 4.01 des présentes. Maintien La garantie d’exécution doit être valable pour toute la durée du Contrat et doit être retournée au FOURNISSEUR lorsque toutes les obligations de ce dernier en vertu du Contrat sont complétées. OU (Affirmative - Pourcentage - Sans cautionnement - Avec effet de commerce) Constitution Le FOURNISSEUR doit, dans les Délai de transmission de la garantie d'exécution jours à compter de la date de l’envoi de l’Avis d’Adjudication, fournir à l’ORGANISME PUBLIC une garantie d’exécution, soit un chèque certifié, un mandat-poste ou une traite bancaire, d’un montant équivalant à Pourcentage du montant du Contrat pour la garantie d'exécution du montant du Contrat. Maintien La garantie d’exécution doit être valable pour toute la durée du Contrat et doit être retournée au FOURNISSEUR lorsque toutes les obligations de ce dernier en vertu du Contrat sont complétées. Appropriation [Essentielle] (Affirmative) Advenant la résiliation du Contrat en raison d’un défaut du FOURNISSEUR, l’ORGANISME PUBLIC devient propriétaire de la somme déposée par chèque certifié, mandat-poste, traite bancaire ou obligation à titre de garantie d’exécution du Contrat et cela, sans préjudice aux autres dommages et intérêts qu’il peut réclamer au FOURNISSEUR du fait de la résiliation. Préavis à la caution [Essentielle] (Affirmative) Demande d'exécution Si le FOURNISSEUR a remis une garantie d’exécution sous forme de cautionnement, l’ORGANISME PUBLIC doit, avant que le Contrat ne soit résilié, signifier un avis à la caution d’exécuter les obligations et remplir les conditions prévues au Contrat dans un délai de CT - Demande d'exécution jours. Indemnisation À défaut d’exécuter les obligations prévues au Contrat, ce dernier est résilié de plein droit et la caution doit verser à l’ORGANISME PUBLIC la différence entre le prix qui aurait été payé au FOURNISSEUR et celui qui doit être payé à tout nouveau fournisseur qui est appelé à exécuter le Contrat ainsi que tout coût raisonnable occasionné à l’ORGANISME PUBLIC par l’inexécution des obligations et conditions prévues au Contrat. ATTESTATIONS RÉCIPROQUES L’ORGANISME PUBLIC confirme qu’à l’exception des attestations unilatérales qui peuvent apparaître dans les parties 6.00 et 7.00 des présentes, aucune autre attestation de quelque nature que ce soit n’est requise ou faite par les PARTIES dans le cadre du Contrat. ATTESTATIONS DE L'ORGANISME PUBLIC (Affirmative) L’ORGANISME PUBLIC possède tous les droits, les pouvoirs et l'autorité pour exécuter le Contrat; il n’existe aucune restriction légale ou contractuelle lui interdisant d’exécuter les obligations qui en découlent. OU (Négative) Les PARTIES confirment que le Contrat ne contient aucune attestation explicite de l’ORGANISME PUBLIC de quelque sorte que ce soit. ATTESTATIONS DU FOURNISSEUR/PRESTATAIRE DE SERVICES/ENTREPRENEUR (Affirmative) Les attestations qui suivent sont pour le bénéfice de l’ORGANISME PUBLIC et elles font partie intégrante du Contrat. OU (Négative) L’ORGANISME PUBLIC confirme qu’aucune attestation du FOURNISSEUR de quelque sorte que ce soit n’est requise par les présentes. Statut [Importante] Le FOURNISSEUR confirme qu’il a respecté toutes ses obligations de publicité légale dans les juridictions où il possède des actifs ou exploite une entreprise afin de maintenir son état de conformité et de régularité et, s'il est une personne morale de droit privé, confirme qu'il est dûment constitué. Capacité [Importante] Le FOURNISSEUR possède tous les droits, les pouvoirs et l'autorité pour être PARTIE au Contrat et pour exécuter toutes ses obligations en vertu des présentes, et il n’existe aucune restriction d’ordre légal ou contractuel lui interdisant d’exécuter le Contrat. Divulgation [Importante] Le FOURNISSEUR n'a pas omis de divulguer tout fait ou renseignement important concernant sa situation juridique ou financière, qui aurait eu pour effet de modifier sa capacité d'honorer les engagements contractés ou de désintéresser l’ORGANISME PUBLIC. OBLIGATION(S) RÉCIPROQUE(S) Gestion du regroupement Obligation des Établissements Participants [Importante] (Mandataire - Avec modalités) Tout Établissement Participant doit s’approvisionner auprès du FOURNISSEUR retenu pour l’exécution du Contrat, et ce, conformément aux conditions prévues dans les Documents d’Appel d’Offres. OU (Mandataire - Sans modalités) Tout Établissement Participant doit s’approvisionner auprès du FOURNISSEUR retenu pour l’exécution du Contrat, et ce, conformément aux conditions prévues dans les Documents d’Appel d’Offres. Interdiction [Importante] (Mandataire) Un Établissement Participant ne peut, simultanément, adhérer à plus d’un regroupement pour satisfaire le même besoin. Il ne peut également procéder hors regroupement pour l’acquisition de biens qui font l’objet du Contrat. Ajout d'un établissement [Facultative] (Mandataire - Avec modalités) Avis L’ORGANISME PUBLIC peut, sur avis écrit aux FOURNISSEURS pendant la durée du Contrat, ajouter d’autres organismes publics ou personnes morales de droit public à la liste prévue à l’annexe « Établissements Participants ». Le cas échéant, la modification du Contrat qui en résulte en constitue un accessoire, n’en change pas la nature et respecte, le cas échéant, toutes autres conditions prévues dans les Documents d’Appel d’Offres, notamment celles relatives à la région de livraison ou au lieu d’exécution du Contrat. Délai Si l'ORGANISME PUBLIC ajoute un nouvel Établissement Participant, les FOURNISSEURS doivent, à moins d'indication contraire dans l'avis, être en mesure de desservir le nouvel Établissement Participant dans un délai de CT - Délai de service à un nouvel Établissement Participant, à compter de l'envoi par l'ORGANISME PUBLIC de l'avis susmentionné. OU (Mandataire - Sans modalités) Avis L’ORGANISME PUBLIC peut, sur avis écrit au FOURNISSEUR pendant la durée du Contrat, ajouter d’autres organismes publics ou personnes morales de droit public à la liste prévue à l’annexe « Établissements Participants ». Le cas échéant, la modification du Contrat qui en résulte en constitue un accessoire, n’en change pas la nature et respecte, le cas échéant, toutes autres conditions prévues dans les Documents d’Appel d’Offres, notamment celles relatives à la région de livraison ou au lieu d’exécution du Contrat. Délai Si l'ORGANISME PUBLIC ajoute un nouvel Établissement Participant, le FOURNISSEUR doit, à moins d'indication contraire dans l'avis, être en mesure de desservir le nouvel Établissement Participant dans un délai de CT - Délai de service à un nouvel Établissement Participant, à compter de l'envoi par l'ORGANISME PUBLIC de l'avis susmentionné. Collaboration [Importante] Les PARTIES conviennent de collaborer en tout temps entre elles, notamment en fournissant tout renseignement verbal ou écrit, en transmettant tout document pouvant être requis et en éliminant, le cas échéant, tout obstacle sous leur contrôle empêchant l’exécution efficace du Contrat. Information confidentielle [Importante] Les PARTIES, reconnaissant que les Renseignements Personnels et Renseignements Confidentiels recueillis dans le cadre du Contrat sont accessibles aux seules personnes qui, dans l’exercice de leurs fonctions, doivent en prendre connaissance pour les fins liées à la réalisation du Contrat ou pour s’assurer du respect des obligations qui incombent aux PARTIES, s’engagent, les unes envers les autres, à prendre les mesures nécessaires pour assurer la confidentialité de ceux-ci et à permettre à toute personne concernée par un Renseignement Personnel détenu par une PARTIE d’y avoir accès et de le faire rectifier, le cas échéant. Remplacement d'un représentant [Importante] Si le remplacement du représentant d’une PARTIE est rendu nécessaire, la PARTIE concernée doit en aviser l’autre PARTIE dans les meilleurs délais. Dans les cas où il y a plusieurs représentants, chacun peut agir séparément et l’autorisation de l’un d’eux constitue une autorisation valide. Exécution complète [Importante] Les PARTIES doivent, à l’intérieur d’un délai raisonnable, sur réception d’une demande écrite à cet effet de la part de l'une ou l'autre des PARTIES, faire toute chose, signer tout document et fournir toute attestation nécessaire pour assurer l’exécution complète du Contrat. OBLIGATIONS DE L'ORGANISME PUBLIC Chargé de projet [Importante] L’ORGANISME PUBLIC s’engage à identifier, auprès du FOURNISSEUR, la personne physique à laquelle il délègue le suivi du Contrat et l'approbation, au besoin, de toute modification à celui-ci. Il doit aviser le FOURNISSEUR, le cas échéant, de tout changement quant à la personne physique ainsi nommée. Bon de Commande [Importante] L’ORGANISME PUBLIC s’engage à effectuer ses commandes par l’émission de Bons de Commande qu’il fait parvenir au FOURNISSEUR. OU (Contrat à commandes avec la règle de 10%) L’ORGANISME PUBLIC s’engage à effectuer ses commandes par l’émission de Bons de Commande qu’il fait parvenir au FOURNISSEUR. Les commandes peuvent être attribuées à l’un ou l’autre des FOURNISSEURS retenus dont le prix soumis à l’égard du Bien à acquérir n’excède pas de plus de 10 % le prix le plus bas. OU (Contrat à commandes sans la règle de 10%) L’ORGANISME PUBLIC s’engage à effectuer ses commandes par l’émission de Bons de Commande qu’il fait parvenir au FOURNISSEUR. Les commandes sont attribuées au FOURNISSEUR se trouvant au premier rang et si celui-ci ne peut pas y donner suite, les autres FOURNISSEURS sont sollicités en fonction de leur rang respectif pour ce même Bien. Acquisition supplémentaire [Importante] L’ORGANISME PUBLIC peut, dans les CT - Durée de l'option d'acquisition supplémentaire mois suivant la date d’adjudication du Contrat, exercer une Option d’acquisition supplémentaire de Biens par l’émission de Bons de Commande, étant entendu que cette Option n’a pas pour effet d’octroyer une quelconque exclusivité au FOURNISSEUR pour la fourniture des Biens visés. Non-responsabilité [Importante] L’ORGANISME PUBLIC n’est pas responsable de tout dommage causé aux personnes ou aux Biens lors du transport ou de la livraison de ceux-ci. L’ORGANISME PUBLIC n’est également pas responsable des dommages causés aux biens du FOURNISSEUR lorsqu’ils se trouvent sur sa propriété. Cette stipulation de non-responsabilité ne s’applique pas aux biens que le FOURNISSEUR confie à l’ORGANISME PUBLIC lorsque ce dernier accepte d’en assumer la garde. Accès [Importante] L’ORGANISME PUBLIC s’engage, lorsque requis, à permettre l’accès à ses locaux et équipements aux représentants du FOURNISSEUR. Risques de perte [Importante] L’ORGANISME PUBLIC prend à sa charge tout risque de perte ou dommage du Bien à compter de sa livraison, à moins de signaler au FOURNISSEUR le dommage dans un délai raisonnable. Sans limiter ce qui précède et sujet à toute réclamation sous le régime de la garantie consentie par le fabricant, l’ORGANISME PUBLIC est responsable vis-à-vis des tiers, à compter du jour de la livraison du Bien, de toutes les obligations et responsabilités d’un propriétaire. Utilisation [Importante] L’ORGANISME PUBLIC doit se conformer aux instructions se trouvant à la Documentation d’Usager. Acceptation finale [Importante] Malgré l'acception de la livraison, le Bien reste assujetti à l’acceptation finale de l'ORGANISME PUBLIC. L’acceptation finale du Bien est signifiée par écrit par l’ORGANISME PUBLIC après que les étapes suivantes aient été franchies: le Bien est en opération depuis CT - Durée de l'acceptation finale ouvrables; durant la période indiquée ci-dessus, le Bien ne présente aucune anomalie, défectuosité ou déficience. Inspection [Importante] L’ORGANISME PUBLIC s’engage à effectuer, avec diligence, l’inspection des Biens une fois l’installation et la mise en marche effectuées et d’informer promptement le FOURNISSEUR de toute dérogation ou non-conformité des Biens inspectés. Travaux Préparation du site [Importante] L’ORGANISME PUBLIC, après avoir reçu du FOURNISSEUR les spécifications pour l’installation du Bien, convient d’effectuer les travaux requis pour que le site soit accessible et dans l’état requis au moment convenu. Acceptation [Importante] Acceptation provisoire L’acceptation provisoire des Travaux est signifiée par écrit par l’ORGANISME PUBLIC après que les étapes suivantes aient été franchies, à la satisfaction du requérant : le FOURNISSEUR démontre que le Bien est testé et qu’il est fonctionnel; un protocole de vérification de performance est complété; les interfaces sont opérationnelles et ont été testées dans le cadre d’un banc d’essai; l’échange d’information pour chaque interface est validé, testé et approuvé par l’ORGANISME PUBLIC; le personnel de l'ORGANISME PUBLIC, utilisateur et informatique, est formé; la Documentation d’Usager est livrée à l’ORGANISME PUBLIC; le Bien peut être mis en opération. Acceptation finale L’acceptation finale des Travaux est signifiée par écrit par l’ORGANISME PUBLIC après que les étapes suivantes aient été franchies, à la satisfaction l’ORGANISME PUBLIC: le Bien est en opération depuis CT - Durée de l'acceptation finale ouvrables; les anomalies, défectuosités, déficiences sont corrigées. Options Si les Travaux sont jugés non conformes aux critères d’acceptation finale, l’ORGANISME PUBLIC peut, à sa discrétion et sans préjudice à ses autres droits et recours, exiger du FOURNISSEUR ce qui suit : prendre toutes les mesures nécessaires afin que celui-ci se conforme aux critères d’acceptation; réduire le prix du Bien d’une somme mutuellement acceptable, convenue dans un délai maximal de CT - Délai maximal accordé à la réduction du prix de l'Ouvrage jours, étant entendu que si les PARTIES ne s’entendent pas sur un prix, l’option i) ci-dessus s’applique. Consommable en Consignation [Facultative] ([Clause liée - Consommable en Consignation - Poste contractuel 0.01]) Liste initiale Dès l’entrée en vigueur du Contrat, l’ORGANISME PUBLIC doit établir, d’un commun accord avec le FOURNISSEUR, une liste ainsi que la quantité et la valeur des Consommables à être livrés en consignation (ci-après dénommée «Liste Initiale»). La Liste Initiale correspond aux besoins estimés de l’ORGANISME PUBLIC, basée sur une évaluation raisonnable de l’utilisation de ces Consommables (niveau d’inventaire évalué à quatorze (14) jours maximum), qui doivent être maintenus en inventaire dans l’entrepôt de l’ORGANISME PUBLIC pendant la durée du Contrat. L’ORGANISME PUBLIC doit aviser le FOURNISSEUR de toute modification (ajout ou retrait) subséquente de la Liste Initiale en fonction de l’évolution de ses besoins. Bon de commande L’ORGANISME PUBLIC doit émettre un Bon de Commande correspondant à la Liste Initiale des Consommables en Consignation. Ce Bon de Commande indique la valeur des Consommables en Consignation ainsi commandés, basée sur la valeur de remplacement préalablement négociée de ceux-ci. Le cas échéant, toute modification (ajout ou retrait) sur la Liste Initiale des Consommables en Consignation doit émaner du service des approvisionnements de l’ORGANISME PUBLIC et a pour effet d’amender le Bon de Commande initial des Consommables en Consignation rétablissant ainsi la valeur totale consignée. Conservation L’ORGANISME PUBLIC doit assurer la conservation des Consommables en Consignation. Il assume le risque de perte de tout Consommable en Consignation tant et aussi longtemps que celui-ci est en sa possession. L’ORGANISME PUBLIC doit en outre veiller à l’intégrité de l’emballage initial jusqu’à l’utilisation du Consommable. Contrôle de l'inventaire L’ORGANISME PUBLIC accepte qu’un représentant du FOURNISSEUR ait accès, sur rendez-vous, dans ses locaux afin de vérifier l’état et la quantité des Consommables en Consignation. L’ORGANISME PUBLIC s’engage à collaborer avec le FOURNISSEUR afin d’effectuer une saine gestion de l’inventaire de Consommables en Consignation Utilisation L’ORGANISME PUBLIC doit lorsque possible de le faire, utiliser la méthode du premier entré premier sorti pour écouler l’inventaire de Consommables consignés étant entendu que le médecin traitant un patient bénéficie du pouvoir décisionnel ultime à cet égard. Fin du Contrat L’ORGANISME PUBLIC doit permettre au FOURNISSEUR de reprendre, à ses frais, tout Consommable en Consignation qu’il a en sa possession à la fin du Contrat. OBLIGATIONS DU FOURNISSEUR/PRESTATAIRE DE SERVICES/ENTREPRENEUR Défaut [Importante] Si, pour une raison quelconque, le FOURNISSEUR refuse ou néglige d’exécuter le Contrat, celui-ci est responsable envers l’ORGANISME PUBLIC de la différence entre le prix de sa Soumission et le prix plus élevé que l’ORGANISME PUBLIC doit payer par suite du défaut de ce FOURNISSEUR de remplir ses obligations, sans préjudice à tout autre droit ou recours de l'ORGANISME PUBLIC. Assurance responsabilité civile générale [Importante] (Détaillée) Preuve Le FOURNISSEUR doit détenir une assurance responsabilité générale couvrant, sans s’y limiter, les dommages corporels, matériels et contractuels, assurant toute personne impliquée dans l’exécution de ses obligations en vertu du Contrat. L’ORGANISME PUBLIC se réserve le droit d’exiger la preuve de telle couverture d’assurance. Montant Le montant minimum de couverture fourni par ces polices d’assurance doit être de CT - Montant minimum de couverture d'assurance. Émetteur Ces polices d’assurance doivent être souscrites auprès d’une compagnie d’assurances titulaire des permis appropriés et financièrement responsable et doivent prévoir un avis écrit d’au moins TRENTE (30) jours aux PARTIES en cas d’annulation ou de réduction de couverture. Étendue de la responsabilité Nonobstant ce qui précède, cette section ne limite pas la responsabilité du FOURNISSEUR au Contrat. Conformité à la CNESST [Facultative] Le FOURNISSEUR s’engage à fournir, sur demande, une attestation de conformité délivrée par la Commission des normes, de l’équité, de la santé et de la sécurité du travail (CNESST). Il autorise, en vertu des présentes, l’ORGANISME PUBLIC à demander en tout temps l’information sur son état de conformité. Il s’engage, sur demande, à produire une telle autorisation s’il y a lieu. Sous-contrat Autorisation [Essentielle] (Sous-contrat non permis) Le FOURNISSEUR ne peut sous-contracter les obligations et les responsabilités qui lui incombent en vertu du Contrat. Si l'ORGANISME PUBLIC lève cette interdiction en cours d’exécution du Contrat, le FOURNISSEUR doit respecter les exigences s’y rapportant, avec les adaptations nécessaires. OU (Sous-contrat permis - Avec autorisation préalable de l'ORGANISME PUBLIC) Le FOURNISSEUR ne peut sous-contracter les obligations et les responsabilités qui lui incombent en vertu du Contrat en tout ou en partie sans l’autorisation préalable et écrite de l'ORGANISME PUBLIC. Si l'ORGANISME PUBLIC autorise un sous-contrat, le FOURNISSEUR doit respecter les exigences s’y rapportant. OU (Sous-contrat permis - Sans autorisation préalable de l'ORGANISME PUBLIC) Le FOURNISSEUR peut sous-contracter les obligations et les responsabilités qui lui incombent en vertu du Contrat en tout ou en partie sans l’autorisation préalable et écrite de l'ORGANISME PUBLIC. Il doit, le cas échéant, respecter les exigences s’y rapportant. Exigences [Essentielle] Le FOURNISSEUR doit, avant de conclure tout sous-contrat requis pour l’exécution du Contrat, s’assurer que chacun de ses sous-contractants n’est pas inscrit au registre des entreprises non admissibles aux contrats publics (RENA) ou, s’il y est inscrit, que sa période d’inadmissibilité aux contrats publics est terminée. Liste Le FOURNISSEUR doit transmettre à l’ORGANISME PUBLIC, avant que l’exécution du Contrat ne débute, une liste indiquant, le cas échéant, pour chaque sous-contrat, les informations suivantes : le nom et l’adresse du principal établissement du sous-contractant; le montant et la date du sous-contrat; Le FOURNISSEUR qui, pendant l’exécution du Contrat, conclut un sous-contrat relié directement au Contrat doit, avant que ne débute l’exécution du sous-contrat, produire une liste modifiée. Le FOURNISSEUR peut, le cas échéant, utiliser l’annexe 10.04.02 des présentes pour soumettre la liste de ses sous-contractants. Autorisation de contracter [Importante] (Bonne pratique recommandée par le SCT) En cours d’exécution du Contrat, l'ORGANISME PUBLIC peut, sur autorisation du gouvernement et à l'intérieur des délais et selon les modalités particulières déterminés par le gouvernement, obliger le FOURNISSEUR et, dans le cas d’un consortium, chacune des entreprises le composant, ainsi que les entreprises parties à un sous-contrat rattaché directement ou indirectement au présent Contrat à obtenir une autorisation de contracter de l’Autorité des marchés publics. Quantité [Importante] Le FOURNISSEUR reconnaît que les quantités de Biens indiquées au Devis ne sont qu’à titre indicatif seulement et que l’ORGANISME PUBLIC ne s’engage pas à acquérir la totalité de ceux-ci. Il renonce en conséquence à toute poursuite, réclamation ou demande découlant de la transmission par l’ORGANISME PUBLIC de tels renseignements, données ou estimations. Qualité [Importante] Vices Le FOURNISSEUR s’engage à fournir à l’ORGANISME PUBLIC des Biens exempts de tous vices de conception ou de fabrication, aptes à servir à l’usage auxquels ils sont destinés et conformes au Devis. Refus de Bien Reprise En cas de vice ou de non-conformité quelconque d'un Bien, l’ORGANISME PUBLIC se réserve le droit de refuser la livraison ou de retourner le Bien. Le cas échéant, le FOURNISSEUR s’engage à reprendre le Bien à ses frais. Remplacement Le FOURNISSEUR doit, à la discrétion de l’ORGANISME PUBLIC et sans frais additionnel, soit effectuer la réparation du Bien défectueux, soit remplacer le Bien défectueux, à l’intérieur d’un délai raisonnable ne dépassant pas DIX (10) jours ouvrables. Remplacement d’un Bien [Essentielle] Si le FOURNISSEUR décide de remplacer un Bien, il doit en aviser l’ORGANISME PUBLIC le plus rapidement possible en faisant parvenir à ce dernier un avis écrit indiquant les motifs de remplacement du Bien en question de même que les spécifications du Bien de remplacement. L’ORGANISME PUBLIC se réserve le droit de refuser ce nouveau produit s’il n’est pas équivalant à celui remplacé. Si l’ORGANISME PUBLIC décide d’accepter le nouveau produit, ce dernier doit être soumis au même prix ou à un prix inférieur à celui du Bien remplacé. Production Commande excédentaire [Facultative] (Si volumes garantis mentionnés et définis aux Documents d'Appel d'Offres) Si les prévisions et besoins de l’ORGANISME PUBLIC excèdent les volumes garantis par le FOURNISSEUR tel que mentionné et défini aux Documents d'Appels d'Offres, le FOURNISSEUR doit aviser l’ORGANISME PUBLIC par écrit dans les CT - Nombre de jours suivant la réception de la commande excédentaire suivant la réception de la commande excédentaire de l’ORGANISME PUBLIC, des possibilités ou non de répondre aux besoins accrus de l’ORGANISME PUBLIC. Contrôles et essais [Facultative] Le FOURNISSEUR doit, lors de la production des Biens, effectuer tous les contrôles et essais nécessaires pour assurer leur conformité aux exigences du Devis. Il doit, si l’ORGANISME PUBLIC en fait la demande, communiquer à ce dernier les procédures suivies à cet égard et traiter diligemment toute demande d’amélioration de ces procédures, le cas échéant. Interruption [Importante] Si le FOURNISSEUR entrevoit une interruption quelconque dans la production des Biens de nature à compromettre sa capacité de produire ou de livrer les Biens, il doit aviser promptement l’ORGANISME PUBLIC d’une telle situation afin de permettre à celui-ci de réduire au minimum les conséquences d’une telle interruption. Biens supprimés [Importante] Si un Bien n’est plus disponible, le FOURNISSEUR doit en aviser l’ORGANISME PUBLIC le plus rapidement possible en faisant parvenir à ce dernier un avis écrit indiquant les motifs et la date du retrait du Bien en question de même que les spécifications du Bien de remplacement. L’ORGANISME PUBLIC se réserve le droit de refuser ce nouveau produit s’il n’est pas équivalant à celui supprimé. Si l’ORGANISME PUBLIC décide d’accepter le nouveau produit, ce dernier doit être soumis au même prix ou à un prix inférieur à celui du Bien supprimé. Incapacité [Importante] Le FOURNISSEUR reconnaît et accepte que s’il est incapable de fournir le volume convenu de Biens, conformément aux exigences énoncées aux Documents d'Appel d'Offres, l'ORGANISME PUBLIC peut exceptionnellement s’approvisionner auprès d’un autre fournisseur et, advenant une différence de prix des Biens, le FOURNISSEUR doit payer à l’ORGANISME PUBLIC cette différence. Retrait [Importante] Si la rupture d’approvisionnement d'un Bien est supérieure à QUATRE-VINGT-DIX (90) jours ou si elle se produit à plus de DEUX (2) reprises, l’ORGANISME PUBLIC se réserve le droit de retirer ce Bien du Contrat. Retour d'un Bien [Importante] Rejet L’ORGANISME PUBLIC se réserve le droit de rejeter, pendant la première année de garantie, tout Bien ou toute partie de celui-ci jugé non conforme aux critères de performance ou aux exigences requises dans le Devis. Évaluation Le cas échéant, le FOURNISSEUR peut se prévaloir d'une expertise indépendante, acceptée par les deux parties, pour l'évaluation de la conformité aux critères de performance et aux exigences requises. Remboursement Le retour d’un Bien s’effectue sans frais pour l’ORGANISME PUBLIC et, sauf entente préalable par écrit, le FOURNISSEUR est tenu au remboursement complet des sommes déjà perçues pour le Bien retourné. Langue d'usage [Importante] Sauf les cas d’exceptions permis par les lois applicables, les bons de livraison et autres documents qui accompagnent les Biens livrés doivent être en français. Il en va de même pour les inscriptions qui apparaissent sur les Biens livrés, sur leur contenant et sur leur emballage. De plus, à moins que l’ORGANISME PUBLIC ne l’autorise, lorsque l'emploi d'un Bien implique une forme quelconque d’affichage d’instructions ou de saisie de renseignements, cet affichage ou saisie doit s’effectuer en français. Conformité [Importante] Les Biens livrés doivent être conformes aux exigences établies au Devis ou encore aux échantillons fournis, aux fiches techniques déposées ou aux numéros de catalogue identifiés à la Soumission. Transfert de propriété [Importante] Le FOURNISSEUR reconnaît que les Biens deviennent la propriété de l’ORGANISME PUBLIC dès le déchargement de ceux-ci à la destination. Perte [Importante] Toute perte de Biens résultant de quelque cause que ce soit avant qu’ils ne deviennent la propriété de l’ORGANISME PUBLIC est à la charge du FOURNISSEUR. Santé et sécurité [Importante] Consignes À des fins de protection de la santé et sécurité des personnes, le FOURNISSEUR doit, lorsque certains Biens fournis constituent des biens contrôlés au sens de la loi, fournir à l’ORGANISME PUBLIC, sous forme d'étiquettes et de fiches de données de sécurité, les consignes de sécurité à suivre lors de la manipulation, de l’utilisation et de l’entreposage de tels Biens. Mise à jour Le FOURNISSEUR doit, lorsque l’avancement des connaissances sur un Bien fourni révèle un quelconque danger, jusqu’alors inconnu, pour la santé et la sécurité des personnes, dès que possible après en avoir été informé, mettre à jour les consignes de sécurité sur les Biens fournis. Matières dangereuses Les fiches de données de sécurité des produits visés par le SIMDUT (Système d'information sur les matières dangereuses utilisées au travail) doivent être incluses à la livraison. Livraison [Importante] Délais et fréquence Le FOURNISSEUR s’engage à livrer les Biens en respectant le délai de livraison auquel il s’est engagé lors du dépôt de sa Soumission. Si le FOURNISSEUR ne peut respecter une date de livraison établie par l’ORGANISME PUBLIC, il doit en faire part à l’ORGANISME PUBLIC par le biais d’un préavis écrit 10.09.01 - CT - Livraison - Délais de préavis avant la date de livraison. À défaut d’avis, le FOURNISSEUR peut se voir contraint de dédommager l’ORGANISME PUBLIC pour tout préjudice subi, suite à ce retard. Lieu Le FOURNISSEUR s’engage à livrer les Biens selon les adresses identifiées au Devis. Emballage Les emballages doivent être suffisamment résistants pour répondre aux exigences du transport et à la conservation du contenu en bon état et s’il y a lieu, à toutes spécifications particulières requises. Le FOURNISSEUR doit apposer sur l’emballage une copie du bon de livraison avec le numéro de commande, la description, l’origine des Biens et, s’il y a lieu, le numéro de Contrat. Responsabilité Le FOURNISSEUR est responsable de s’assurer que tous les documents reliés à la transaction soient dûment complétés. Dans le cas où l’information incomplète a pour résultat des sanctions ou des pénalités conformément au Régime de sanctions administratives pécuniaires (RSAP) de l’Agence des services frontaliers du Canada (ASFC), ces sanctions ou pénalités sont à la charge du FOURNISSEUR. Documentation d'Usager [Importante] Le FOURNISSEUR s’engage, en outre, à fournir sans autre frais la Documentation d’Usager se rapportant aux Biens. Rehaussement et mises à jour [Facultative] Avant la livraison Le FOURNISSEUR doit aviser l’ORGANISME PUBLIC de tout rehaussement, modification ou substitution du Bien ou des logiciels acquis avant la date de livraison prévue. Le FOURNISSEUR s’engage à livrer la dernière version du Bien, tant au niveau matériel que logiciel. Après la livraison Les rehaussements de logiciels d’origine ou toute autre amélioration technique ou plate-forme informatique, excluant le matériel, doivent être offerts gratuitement pendant la période de garantie et tant et aussi longtemps que le FOURNISSEUR assure les Services prévus au Devis, en autant que la plate-forme matérielle le permette. Formation Formation de base [Importante] Le FOURNISSEUR offre, sans frais, au besoin, jusqu’à l’expiration de la garantie, le matériel didactique, le soutien technique ainsi que la formation du personnel de l’ORGANISME PUBLIC pour assurer l’utilisation optimale du Bien. La formation doit être conforme au plan de formation déposé avec le Formulaire de Soumission. Formation additionnelle [Importante] Le FOURNISSEUR s’engage à dispenser toute formation additionnelle requise par les préposés de l’ORGANISME PUBLIC pour assurer l’utilisation efficace du Bien, le tout selon le Devis et la grille tarifaire indiquée dans le Bordereau de Prix. Diligence [Importante] Le FOURNISSEUR convient de faire preuve de diligence dans l’exécution du Contrat. Préavis d'intervention [Essentielle] Le FOURNISSEUR doit informer l’ORGANISME PUBLIC suffisamment à l’avance du moment et de la durée de chaque entretien préventif, installation, rehaussement ou mise à jour de Logiciel. Si une intervention requise par le FOURNISSEUR implique un arrêt des fonctionnalités du Bien, à moins d’entente entre les PARTIES, l’intervention doit se dérouler en dehors des heures normales travaillées ou durant des journées ou le personnel de l’ORGANISME PUBLIC est en congé, et cela, sans frais additionnels pour l’ORGANISME PUBLIC. Garantie [Importante] Étendue Le FOURNISSEUR garantit les Biens contre tout défaut de conception, de fabrication, d’installation et de matériaux. La garantie couvre les pièces de remplacement, la main-d’œuvre, les frais de transport, d’assurance, la disponibilité du personnel technique aux heures ouvrables et tous les autres frais relatifs au service, à l’entretien, à la réparation, à la modification ou au rehaussement ou remplacement des Biens. L’exécution de cette garantie est à la charge du FOURNISSEUR. Durée Cette garantie est valide pendant une période minimale CT - Durée de validité de la garantie2 à partir de la date CT - Date de début de la garantie des Biens. Délai de réparation Si le FOURNISSEUR reçoit un avis de défectuosité de la part de l'ORGANISME PUBLIC, il doit effectuer un suivi auprès de ce dernier dans un délai CT - Délai maximal de réponse heure(s), à compter de l'expédition de cet avis. Le FOURNISSEUR doit aussi, s'il y a lieu, réparer le Bien défectueux dans un délai CT - Délai maximal de réparation jour(s), à compter de la date d'expédition de l'avis, à défaut de quoi celui-ci doit remplacer temporairement le Bien défectueux pour la durée de la réparation. Garantie du droit de propriété [Importante] Le FOURNISSEUR convient que les Biens livrés sont libres de toute Charge et ne sont sujets à aucune réclamation de la part d’une tierce partie. Le cas échéant, l’ORGANISME PUBLIC se réserve le droit de payer toute réclamation à l’encontre des Biens. Le paiement ainsi fait est réduit du montant dû et payable par l’ORGANISME PUBLIC au FOURNISSEUR. Consommables Disponibilité [Importante] Le FOURNISSEUR s’engage à maintenir pendant toute la période de la garantie et du contrat de Service, s’il y a lieu, un inventaire des Consommables dédiés requis pour le fonctionnement du Bien. Consommable en Consignation [Facultative] ([Clause liée -Consommable en Consignation - Poste contractuel 0.01]) Liste Initiale Le FOURNISSEUR doit collaborer avec l’ORGANISME PUBLIC dans l’établissement de la Liste Initiale telle que définie précédemment. Il doit, lorsqu’il constate une variation dans les besoins de l’ORGANISME PUBLIC, recommander tout ajustement qui s’impose à cette Liste Initiale, pour assurer la disponibilité d’un Consommable en temps opportun étant entendu que la décision finale à cet égard appartient à l’ORGANISME PUBLIC. Livraison et remplacement Une fois la Liste Initiale et la valeur des Consommables en Consignation établies, le FOURNISSEUR doit, dans un délai raisonnable, livrer à ses frais les Consommables en Consignation figurant sur la Liste Initiale. Une fois cette première livraison effectuée, le FOURNISSEUR doit, sujet à toute modification subséquente de la Liste Initiale, prendre les mesures nécessaires pour maintenir cet inventaire aux niveaux et valeurs indiqués sur cette dernière en procédant diligemment au remplacement de tout Consommable en Consignation utilisé par l’ORGANISME PUBLIC. Entreposage Le FOURNISSEUR doit si l’ORGANISME PUBLIC le requiert, effectuer l’étiquetage, la mise en tablette ainsi que la mise à jour des Consommables en Consignation. Utilisation Le FOURNISSEUR doit faire en sorte que tout Consommable en Consignation soit en bon état et apte à l’usage auquel il est destiné. Il doit aussi, le cas échéant, effectuer une saine gestion des dates de péremption des Consommables en Consignation. Le FOURNISSEUR doit aussi, le cas échéant, fournir à l’ORGANISME PUBLIC la procédure de nettoyage (stérilisation) de tout Consommable en Consignation. Vérification Le FOURNISSEUR doit procéder à une vérification/inspection périodique de l’inventaire des Consommables en Consignation et remplacer tout Consommable périmé ou sur le point de le devenir ainsi que tout Consommable défectueux. Contrôle de l'inventaire Une prise d’inventaire doit être effectuée au minimum QUATRE (4) fois par année par le FOURNISSEUR. Ce dernier doit alors fournir à l’ORGANISME PUBLIC un relevé indiquant la valeur consignée au sein de l'ORGANISME PUBLIC (copie au service des approvisionnements). S’il manque un Consommable quelconque apparaissant sur la liste des Consommables en consignation, le FOURNISSEUR doit vérifier si ce Consommable a été utilisé par l’ORGANISME PUBLIC et en faire part dans le rapport à l'ORGANISME PUBLIC. Reddition de compte Le rapport de consommation trimestrielle des Consommables en Consignation à être produit par le FOURNISSEUR doit être envoyé par courriel à l'ORGANISME PUBLIC accompagné de toute recommandation qui s’impose à la lumière du rapport soumis pour améliorer le processus de consignation. Fin du contrat Le FOURNISSEUR doit reprendre tout Consommable en Consignation lui appartenant au plus tard trente (30) jours après la fin du Contrat pour quelque motif que ce soit. Il doit remettre au préposé de l’ORGANISME PUBLIC qui est responsable de l’entrepôt un accusé de réception constatant le numéro de référence de chaque Consommable ainsi repris et la quantité s’y rapportant. À moins d’indication sur l’accusé de réception, tout Consommable en Consignation ainsi repris est présumé avoir été remis en bon état au moment de la reprise. Application [Importante] Outre les dispositions prévues dans cette section, toutes les obligations du FOURNISSEUR relativement aux Biens s’appliquent aux Consommables, lorsqu’elles ne sont pas contradictoires, en tenant compte des adaptations nécessaires. Travaux Échéancier [Importante] Remise Sauf s’il a remis l’Échéancier avec sa Soumission conformément aux Document d’Appel d’Offres, le FOURNISSEUR doit fournir, dans les CT - Délai remise échéancier jours de l'entrée en vigueur du Contrat, un Échéancier à l'ORGANISME PUBLIC indiquant la durée des Travaux. Respect Le FOURNISSEUR s’engage à respecter chacune des étapes de l’Échéancier et à aviser l’ORGANISME PUBLIC par écrit, le cas échéant, dès qu’il a connaissance d’un manquement possible à cet égard. Pénalité Si le FOURNISSEUR ne rencontre pas la date ultime prévue à l’Échéancier pour la fin des Travaux, il doit payer à l’ORGANISME PUBLIC une pénalité CT - Pénalité par jour ouvrable de retard - Pourcentage par jour ouvrable de retard, sans préjudice au droit de l’ORGANISME PUBLIC d’exercer tout autre droit qu’il peut avoir. Installation [Importante] Les Biens doivent être installés au(x) lieu(x) de livraison ou à tout autre endroit convenu et ce, pendant les heures normales de travail, soit du lundi au vendredi, de CT - Horaire de travail. Collaboration [Importante] Le FOURNISSEUR s'engage à collaborer avec l'ORGANISME PUBLIC, ou ses conseillers techniques (architectes ou ingénieurs), lors de la conception, la planification et l'aménagement des espaces où doivent être installés les Biens, et ce, afin de satisfaire à ses exigences. Récupération [Importante] Le FOURNISSEUR s'engage à récupérer, à ses frais, tout le matériel d'emballage des Biens. Mise en marche [Importante] Le FOURNISSEUR doit procéder à la mise en marche du Bien et démontrer que celui-ci rencontre les critères de performance et les spécifications exigés dans le Devis. Les fournitures et le matériel requis pour la mise en marche du Bien sont à la charge du FOURNISSEUR. Aux fins de cette présente, la mise en marche est considérée comme effective à compter de la date de l'acceptation finale des Travaux par l'ORGANISME PUBLIC. Ressources humaines [Importante] Main-d'oeuvre Le FOURNISSEUR est tenu de fournir toute la main-d’œuvre nécessaire à l'exécution des Travaux. Autorité Le FOURNISSEUR est la seule partie patronale à l’égard des ressources affectées à l’exécution du présent Contrat et il doit en assumer tous les droits, obligations et responsabilités. Le FOURNISSEUR doit notamment se conformer à la législation régissant les accidents de travail ainsi que les normes du travail. Employés Le FOURNISSEUR est responsable des actes et omissions de ses employés et de ses représentants autorisés dans l’accomplissement des obligations qui leur incombent en vertu du Contrat et aucune disposition du Contrat ne peut être interprétée de manière à libérer le FOURNISSEUR d’une quelconque responsabilité lui incombant. Embauche Le FOURNISSEUR s’engage à ne pas embaucher ou retenir les services d’un employé de l’ORGANISME PUBLIC ou ayant été à l’emploi de l’ORGANISME PUBLIC, aux fins de l’assigner directement ou indirectement à l’exécution du présent Contrat, à moins d’avoir obtenu l’autorisation préalable de l’ORGANISME PUBLIC. Ce dernier peut refuser de donner son autorisation s’il juge que les informations confidentielles ou stratégiques que cette personne a pu obtenir dans le cadre de son emploi chez l’ORGANISME PUBLIC risquent de lui être préjudiciables. Entrée et sortie Chaque employé doit signer un registre de présence au poste de contrôle de l'édifice de l’ORGANISME PUBLIC et ce à chaque fois qu'il entre ou sort de l'édifice. Identification Le personnel du FOURNISSEUR doit porter en tout temps des papiers officiels d'identification personnelle et d'identification du FOURNISSEUR. Conduite Le FOURNISSEUR doit, en tout temps, faire preuve de diligence, d'intégrité, de probité et de bonne foi à l'endroit des personnes qu’il sollicite pour intervenir dans le cadre de l’exécution des Travaux. Il doit en outre s'assurer de la bonne tenue de ses employés et limiter leurs déplacements dans l'édifice aux exigences particulières des travaux à effectuer. Sous-contractants Tout défaut d’un sous-contractant en regard de l’une quelconque des obligations imparties au Contrat est réputé être le défaut du FOURNISSEUR. Conflits d'intérêts [Importante] Engagement d'éviter Le FOURNISSEUR doit éviter toute situation qui mettrait en conflit soit son intérêt propre, soit d’autres intérêts, notamment, mais sans limiter la généralité de ce qui précède, l’intérêt d’une de ses ressources, d’une de ses filiales ou d’une Personne Liée avec l’intérêt de l’ORGANISME PUBLIC. Avis Si une telle situation se présente ou est susceptible de se présenter, le FOURNISSEUR doit immédiatement en informer l’ORGANISME PUBLIC qui pourra, à sa seule discrétion, émettre une directive indiquant au FOURNISSEUR comment remédier à ce conflit d’intérêts. Portée La présente clause ne s’applique pas à un conflit pouvant survenir sur l’interprétation ou l’application du Contrat. Engagement de confidentialité [Facultative] Le FOURNISSEUR s’engage à ne révéler ni ne faire connaître, sans y être dûment autorisé par l’ORGANISME PUBLIC, quoi que ce soit en regard des Renseignements Personnels et Confidentiels dont il aurait eu connaissance dans l’exécution du Contrat. Il s’engage en particulier à respecter chacune des dispositions applicables aux Renseignements Personnels et Confidentiels ci-dessous énumérées; que ces renseignements lui soient communiqués dans le cadre de la réalisation du Contrat ou soient générés à l’occasion de sa réalisation : utiliser les Renseignements Personnels et Confidentiels divulgués uniquement aux fins pour lesquelles ils ont été divulgués; ne pas permettre à un tiers d’avoir accès à ces Renseignements Personnels et Confidentiels sauf si une divulgation de ceux-ci s’avère nécessaire à la réalisation de l’objet de sa divulgation; prendre toutes les mesures appropriées, lorsque la divulgation de Renseignements Personnels et Confidentiels à un tiers devient nécessaire, afin de protéger la confidentialité de ceux-ci en requérant de la part du tiers un engagement de confidentialité visant à assurer le même régime de protection de cette information que celui prévu aux présentes; prendre tous les moyens raisonnables appropriés pour limiter l’accès auxdits Renseignements Personnels et Confidentiels; aviser l’ORGANISME PUBLIC de tout accès non autorisé ou tout usage non autorisé des Renseignements Personnels et Confidentiels par un tiers; assister l’ORGANISME PUBLIC dans le cadre de poursuites ou procédures légales visant à protéger les Renseignements Personnels et Confidentiels; faire signer aux membres de son personnel, préalablement à l’accès à des Renseignements Personnels et des Renseignements Confidentiels, des engagements au respect de la confidentialité de ces renseignements selon le formulaire prévu à l'annexe 10.27 A des présentes et les transmettre aussitôt à l’ORGANISME PUBLIC, sous peine de se voir refuser l’accès aux locaux, à l’équipement de l’ORGANISME PUBLIC ou aux données à être transmises par celui-ci, le cas échéant; confier la destruction des Renseignements Personnels et Confidentiels à une entreprise de récupération, laquelle s’engage contractuellement à se conformer à la fiche d’information sur la destruction des documents contenant des renseignements personnels de la Commission d’accès à l’information du Québec joint en annexe 10.27 B ainsi qu’aux directives de l’ORGANISME PUBLIC. Le FOURNISSEUR doit alors, dans les SOIXANTE (60) jours suivant la fin du contrat de récupération, remettre à l’ORGANISME PUBLIC l’Attestation de destruction des Renseignements Personnels et Confidentiels jointe en annexe 10.27 C, signée par le responsable autorisé de cette entreprise. Services Ressources [Importante] Le FOURNISSEUR s’engage à mettre en place et à maintenir les personnes ressources requises pour assurer la bonne exécution des Services. Diligence [Importante] Le FOURNISSEUR convient de faire preuve de diligence dans l’exécution des Services. Soutien téléphonique [Importante] Le FOURNISSEUR s’engage à maintenir en service pour toute la durée des Services une ligne téléphonique sans frais couvrant tout le territoire du Québec, étant entendu que le service de soutien téléphonique est disponible de 7 h 00 à 18 h 00 (heure locale) du lundi au vendredi, excluant les jours fériés. Modalités d’intervention [Importante] Le FOURNISSEUR s’engage à respecter les modalités d’intervention contenues à l’annexe 10.28.04 des présentes. Maintien du système d'assurance de la qualité [Facultative] (Sans réduction indue de la concurrence par l'imposition d'une norme ISO ou autre [Clause liée - Système d'assurance qualité - Poste contractuel 1.00 - Régie]) Le FOURNISSEUR doit maintenir son enregistrement à un système d’assurance de la qualité durant toute la durée du Contrat. S’il le perd, il doit en aviser l’ORGANISME PUBLIC qui peut alors mettre fin au Contrat conformément à la clause 13.03 et réclamer les frais de transition correspondant à la différence entre le prix qui aurait été payé au FOURNISSEUR et celui qui doit être payé à tout nouveau fournisseur qui est appelé à exécuter le Contrat ainsi que tout coût raisonnable occasionné à l’ORGANISME PUBLIC. OU (Si réduction indue de la concurrence par l'imposition de la norme ISO [Clause liée - Système d'assurance qualité - Poste contractuel 1.00 - Régie]) Si le FOURNISSEUR possède un enregistrement à un système d’assurance de la qualité, il doit le maintenir durant toute la durée du Contrat. S’il le perd, il doit en aviser l’ORGANISME PUBLIC qui peut alors mettre fin au Contrat conformément à la clause et réclamer les frais de transition correspondant à la différence entre le prix qui aurait été payé au FOURNISSEUR et celui qui doit être payé à tout nouveau fournisseur qui est appelé à exécuter le Contrat ainsi que tout coût raisonnable occasionné à l’ORGANISME PUBLIC. Pièces de rechange [Facultative] Le FOURNISSEUR s’engage à rendre disponible, pendant un minimum CT - Période du maintien de l'inventaire après la fin de la production du Bien an(s) après la fin de production du Bien, un inventaire de pièces de rechange afin de maintenir son bon fonctionnement. Lorsque requis, le FOURNISSEUR doit aussi fournir, pendant cette même période, la main-d’œuvre nécessaire à l’installation de toute pièces de rechange. Indemnisation [Importante] « Perte » Dans cette section, le terme Perte désigne tout dommage direct, amende, frais, pénalité, passif, perte de revenus et dépense, incluant, sans être limitatif, les intérêts, les dépenses raisonnables d’enquête, les frais judiciaires, les frais et dépenses raisonnables pour les services d’un avocat, comptable ou autre expert ou autres dépenses liées à une poursuite judiciaire ou autres procédures ou autre type de requête, défaut ou cotisation engagés pour : contester, le cas échéant, toute réclamation d’une tierce partie; ou exercer ou contester tout droit découlant du Contrat; mais ne comprend pas tout dommage punitif indirect ou incident suite à un manquement au Contrat. Portée Le FOURNISSEUR s’engage, en plus de prendre fait et cause pour l'ORGANISME PUBLIC lorsqu'il s'agit d'une réclamation impliquant celui-ci, à indemniser l'ORGANISME PUBLIC de toute Perte subie par ce dernier pour : toute attestation fausse, inexacte ou erronée faite par le FOURNISSEUR dans le Contrat; toute négligence, faute ou action ou omission volontaire par le FOURNISSEUR ou ses préposés lorsqu’ils agissent en son nom; toute inexécution de ses obligations découlant du Contrat, y compris le rappel de tout Bien par le fabricant; toute atteinte à la Propriété Intellectuelle d’une tierce partie causée par le FOURNISSEUR ou ses préposés lorsqu’ils agissent en son nom; toute dérogation, par le FOURNISSEUR ou ses préposés agissant en son nom, à une loi applicable dans le cadre du Contrat. Procédure Dans l’éventualité d’une réclamation, l’ORGANISME PUBLIC doit : envoyer un avis écrit de la réclamation au FOURNISSEUR à l’intérieur d’un délai raisonnable; coopérer avec le FOURNISSEUR, aux frais de ce dernier, dans le cadre des poursuites intentées en raison de la réclamation; et permettre au FOURNISSEUR de contrôler la défense et le règlement de la réclamation, sujet toutefois à ce que le FOURNISSEUR ne convienne pas d’un règlement sans avoir, au préalable, obtenu l’autorisation écrite de l’ORGANISME PUBLIC, laquelle ne peut être retenue, assortie de conditions ou retardée sans motif sérieux. Limite Nonobstant ce qui précède, la responsabilité du FOURNISSEUR en vertu du Contrat est toutefois limitée à CINQ (5) fois sa valeur jusqu’à concurrence de TROIS MILLIONS DE DOLLARS (3 000 000 $) ou à la valeur du Contrat pour les contrats de TROIS MILLIONS DE DOLLARS (3 000 000 $) et plus. Cette limite financière de responsabilité ne s’applique pas dans les cas prévus à l’article 1474 du Code civil du Québec. DISPOSITIONS PARTICULIÈRES Cession sujette à autorisation [Importante] Les droits et obligations issus du Contrat ne peuvent être cédés par le FOURNISSEUR à une autre Personne sans le consentement écrit préalable de l’ORGANISME PUBLIC, lequel ne peut être refusé sans motif sérieux. Le cessionnaire soumis à un tel consentement doit notamment respecter les critères suivants : ne pas avoir, dans le cadre d’un contrat antérieur avec un organisme public du Québec, fait l’objet d’une évaluation de rendement insatisfaisant de la part de cet organisme public; ne pas faire l’objet d’une requête en faillite volontaire ou involontaire ou de toute autre procédure relative à l’insolvabilité ou à la mise sous séquestre; ne pas faire l’objet d’actions, de poursuites ou de procédures judiciaires susceptibles d’avoir un impact défavorable sur l’ORGANISME PUBLIC ou l’exécution du Contrat; ne pas être en contravention d’une loi applicable lorsqu’une telle contravention est susceptible d’avoir un impact défavorable sur l’ORGANISME PUBLIC ou l’exécution du Contrat; ne pas être l’objet de réclamations administratives ou gouvernementales en cours alléguant de telles contraventions ou d’avis, d’ordres ou de demandes d’informations relatives à de telles contraventions. Toute cession des droits ou obligations créés par le Contrat n’ayant pas fait l’objet d’un tel consentement est nulle et sans effet. Cession préautorisée [Importante] Nonobstant ce qui précède, le FOURNISSEUR peut, moyennant un préavis à cet effet à l’ORGANISME PUBLIC, céder tous ses droits et obligations dans le Contrat à une personne morale dont elle doit détenir en tout temps le contrôle, sujet toutefois à ce que le FOURNISSEUR demeure responsable envers l’ORGANISME PUBLIC de l’exécution complète de ses obligations en vertu du Contrat. Évaluation du rendement [Facultative] Sous réserve des dispositions concernant l’évaluation du rendement prescrites à la section II du chapitre VIII prévues au Règlement sur certains contrats d'approvisionnement des organismes publics (chapitre C-65.1, r. 2), l’ORGANISME PUBLIC peut évaluer le rendement du FOURNISSEUR et en transmettre les résultats à celui-ci dans les SOIXANTE (60) jours suivant la fin du Contrat. Le FOURNISSEUR s’engage à collaborer au processus d’évaluation de rendement et à la préparation du bilan de fin d’étape. DISPOSITIONS GÉNÉRALES Avis [Essentielle] (Signification personnelle) Tout avis formel requis par le Contrat doit, pour être considéré comme étant légalement donné, être signifié personnellement au destinataire par écrit. Il est de la responsabilité du FOURNISSEUR de fournir les coordonnées de la personne compétente à recevoir un tel avis, dans les TRENTE (30) jours de l’entrée en vigueur du Contrat, lorsque celle-ci n’est pas la personne autorisée identifiée dans le Formulaire de Soumission. OU (Tout mode de communication) Tout avis émis par l’une ou l’autre des PARTIES en vertu des présentes est suffisant s’il est consigné dans un écrit et expédié par un mode de communication qui permet à la partie expéditrice de prouver que l'avis a effectivement été livré à la partie destinataire à l’adresse indiquée au début du Contrat ou à toute autre adresse que celle-ci peut faire connaître en conformité avec le présent article. Résolution de différends Négociations de bonne foi [Essentielle] S’il survient un différend se rapportant à l’interprétation, l’exécution ou l’annulation du Contrat, les PARTIES doivent se rencontrer et négocier de bonne foi dans le but de résoudre ce conflit. Médiation [Importante] Règles Si le différend ne peut être résolu par la voie d’une négociation de bonne foi entre les PARTIES à l’intérieur d’un délai raisonnable, les PARTIES conviennent de soumettre leur différend à la médiation entre les PARTIES en conflit conformément aux règles de médiation de l’instance choisie par l’ORGANISME PUBLIC. Règlement Tout règlement d’un tel différend par voie de médiation par les PARTIES doit être documenté par écrit. Si ce règlement modifie les termes du Contrat, cette modification doit être documentée dans un écrit signé par les deux PARTIES et annexé au Contrat. Arbitrage [Facultative] (Individuel - Facultative) Juridiction Si le différend ne peut être résolu par voie de médiation dans les TRENTE (30) jours, à compter du début du processus de médiation, les PARTIES peuvent convenir de procéder par la voie d’un arbitrage, à l’exclusion des tribunaux de droit commun, conformément aux dispositions du Code de procédure civile du Québec, étant entendu que celui-ci doit se dérouler dans le district judiciaire du siège social de l’ORGANISME PUBLIC. Le tribunal d’arbitrage, constitué à cette fin, est composé CT - Nombre d'arbitres arbitre(s). Décision Tout jugement ou décision rendu par le tribunal d’arbitrage conformément à la présente section : est final avec effet obligatoire entre les PARTIES; est immédiatement exécutoire sujet à son homologation par un tribunal compétent ayant juridiction en la matière; est strictement confidentiel, en ce qu’il ne peut pas être divulgué à des tiers à moins qu’une telle divulgation ne soit requise par la Loi aux fins d’exécution de la décision ou pour d’autres fins. Frais Les frais de l’arbitrage y compris les honoraires et les débours des PARTIES sont attribués par l’arbitre de la manière qu’il juge à propos dans les circonstances. OU (Mandataire - Facultative) Juridiction Si le différend ne peut être résolu par voie de médiation dans les TRENTE (30) jours, à compter du début du processus de médiation, les PARTIES peuvent convenir de procéder par la voie d’un arbitrage, à l’exclusion des tribunaux de droit commun, conformément aux dispositions du Code de procédure civile du Québec, étant entendu que celui-ci doit se dérouler, selon le cas, dans le district judiciaire du siège social du seul Établissement Participant impliqué ou, lorsqu’il y a plus qu’un Établissement Participant impliqué, celui de l’ORGANISME PUBLIC. Le tribunal d’arbitrage, constitué à cette fin, est composé CT - Nombre d'arbitres arbitre(s). Décision Tout jugement ou décision rendu par le tribunal d’arbitrage conformément à la présente section : est final avec effet obligatoire entre les PARTIES; est immédiatement exécutoire sujet à son homologation par un tribunal compétent ayant juridiction en la matière; est strictement confidentiel, en ce qu’il ne peut pas être divulgué à des tiers à moins qu’une telle divulgation ne soit requise par la Loi aux fins d’exécution de la décision ou pour d’autres fins. Frais Les frais de l’arbitrage y compris les honoraires et les débours des PARTIES sont attribués par l’arbitre de la manière qu’il juge à propos dans les circonstances. Élection [Essentielle] (Individuel) Les PARTIES conviennent que toute réclamation ou poursuite judiciaire pour quelque motif que ce soit relativement au Contrat soit soumise à la juridiction exclusive des tribunaux du Québec. Dans les limites permises par la Loi, elles conviennent de choisir le district judiciaire du siège social de l’ORGANISME PUBLIC, comme le lieu approprié pour l’audition de ces réclamations ou poursuites judiciaires, à l'exclusion de tout autre district judiciaire qui peut avoir juridiction sur un tel litige. OU (Mandataire) Les PARTIES conviennent que toute réclamation ou poursuite judiciaire pour quelque motif que ce soit relativement au Contrat soit soumise à la juridiction exclusive des tribunaux du Québec. Dans les limites permises par la Loi, elles conviennent de choisir, selon le cas, le district judiciaire du siège social du seul Établissement Participant impliqué ou, lorsqu’il y a plus qu’un Établissement Participant impliqué, celui de l’ORGANISME PUBLIC, comme le lieu approprié pour l’audition de ces réclamations ou poursuites judiciaires, à l'exclusion de tout autre district judiciaire qui peut avoir juridiction sur un tel litige. Modification [Essentielle] Le Contrat peut être modifié en tout temps d’un commun accord entre les PARTIES. Toute modification doit toutefois être consignée par écrit et signée par chacune des PARTIES au Contrat. Elle est présumée prendre effet le jour où elle est consignée dans un écrit dûment signé par les PARTIES. Non-renonciation [Importante] Le silence, la négligence ou le retard d’une PARTIE à exercer un droit ou un recours prévu aux présentes ne doit, en aucune circonstance, être interprété ou compris comme une renonciation par cette PARTIE à ses droits et recours. Toutefois, l'exercice d'un tel droit ou recours est assujetti à la prescription conventionnelle ou légale. FIN DU CONTRAT De gré à gré [Essentielle] Les PARTIES peuvent en tout temps mettre fin au Contrat d’un commun accord. Sans préavis [Essentielle] Dans les limites prévues par les lois applicables, le Contrat se termine, sans préavis, si l’un des événements suivants se produit : le FOURNISSEUR devient insolvable, s’il fait cession de ses biens suite au dépôt d’une requête en faillite, s’il devient failli suite au refus d’une proposition concordataire, ou s’il est déclaré failli par un tribunal compétent; le FOURNISSEUR, autrement que dans le cadre d'une réorganisation d’entreprise autorisée par l’ORGANISME PUBLIC, procède à la liquidation de son entreprise ou de la totalité ou d'une partie substantielle de ses biens ou à la dissolution de sa personnalité morale; un créancier prend possession de l'entreprise du FOURNISSEUR ou de la totalité ou d'une partie substantielle de ses biens ou si cette entreprise ou ces biens sont mis sous séquestre, ou si un liquidateur est nommé à son égard pour administrer ou liquider son entreprise ou la totalité ou une partie substantielle de ses biens et si cette prise de possession, cette mise sous séquestre ou cette nomination d'un liquidateur n’est pas annulée dans un délai de TRENTE (30) jours, à compter de la réalisation de l’un ou l’autre de ces événements; les opérations du FOURNISSEUR sont interrompues, pour quelque motif que ce soit, pour une période d’au moins CINQ (5) jours consécutifs. Avec préavis [Essentielle] Le Contrat peut être résilié par l’ORGANISME PUBLIC sur préavis écrit, sans préjudice à tous ses droits et recours, dans l'un ou l'autre des cas suivants : si l'une des attestations du FOURNISSEUR est fausse, inexacte ou trompeuse ; si le FOURNISSEUR ne respecte pas l'une des obligations du Contrat et que tel défaut n'est pas corrigé dans 13.03 - CT - Délai de correction alloué jour(s) suivant un avis écrit décrivant la violation ou le défaut; si le FOURNISSEUR devient inadmissible aux contrats publics en vertu du chapitre V.1 de la Loi sur les contrats des organismes publics (RLRQ, c. C-65.1); sans motif après un préavis de 13.03 - CT - Délai de préavis pour la résiliation du contrat jours. Changement de Contrôle [Importante] L’ORGANISME PUBLIC peut, sur envoi d’un avis écrit, mettre fin au Contrat si le FOURNISSEUR fait l’objet d’un Changement de Contrôle non autorisé par l’ORGANISME PUBLIC, dans la mesure où celui-ci, agissant raisonnablement, estime qu’un tel Changement de Contrôle lui est préjudiciable. Effets de la résiliation [Importante] Advenant une résiliation, le FOURNISSEUR a droit aux frais, déboursés et sommes représentant la valeur des Biens livrés jusqu’à la date de la résiliation du Contrat, conformément aux modalités s’y rapportant, sans autre compensation ni indemnité que ce soit. En outre, si le FOURNISSEUR a obtenu une avance monétaire, il doit la restituer dans son entier. Travaux [Importante] Les dispositions prévues dans cette section pour les Biens s’appliquent aux Travaux, lorsqu’elles ne sont pas contradictoires, en tenant compte des adaptations nécessaires. Consommables [Importante] Les dispositions prévues dans cette section pour les Biens s’appliquent aux Consommables, lorsqu’elles ne sont pas contradictoires, en tenant compte des adaptations nécessaires. Services [Importante] Les dispositions prévues dans cette section pour les Biens s’appliquent aux Services, lorsqu’elles ne sont pas contradictoires, en tenant compte des adaptations nécessaires. ENTRÉE EN VIGUEUR Le Contrat entre en vigueur à la date mentionnée à l'Avis d'Adjudication ou à défaut, le jour de l’émission de l’Avis d’Adjudication au FOURNISSEUR par l’ORGANISME PUBLIC, sans autre avis ni formalité. DURÉE. Biens Expiration [Importante] (Durée déterminée - À commande) L'entente sur l'acquisition des Biens expire après une période CT - Durée du Contrat - 5 ans max an(s) à compter de son entrée en vigueur, à moins qu’il y soit mis fin prématurément conformément aux autres dispositions du Contrat. OU (Durée déterminée - À commande - En mois) L'entente sur l'acquisition des Biens expire après une période CT - Durée initiale du Contrat en mois mois, à compter de son entrée en vigueur, à moins qu’il y soit mis fin prématurément conformément aux autres dispositions du Contrat. OU (Durée déterminée - Exécution instantanée complète) Eu égard à la nature du Contrat, celui-ci demeure en vigueur tant et aussi longtemps que le FOURNISSEUR n’a pas livré les Biens à la satisfaction de l’ORGANISME PUBLIC ou qu’il subsiste des obligations de garantie de ceux-ci à respecter. Renouvellement [Importante] ([Clause liée - Renouvellement - Poste contractuel 2.00 du Contrat]) Le FOURNISSEUR consent CT - Nombre d'options de renouvellement Option(s) de renouvellement du Contrat quant à l'acquisition des Biens pour une durée supplémentaire CT - Durée de l'option de renouvellement an(s) Ajout facultatif - « chacune », à moins que, eu égard à la nature du Contrat, l’acquisition des Biens ne s'exécute qu’en une seule et même fois. Afin de se prévaloir d’une Option de renouvellement, l’ORGANISME PUBLIC doit faire parvenir au FOURNISSEUR un avis d’exercice de cette Option au moins 15.03 - CT - Délai d'envoi de l'avis d'exercice de l'option jours avant l’expiration de la durée initiale ou renouvelée prévue pour l'acquisition des Biens. Travaux [Importante] Les modalités du Contrat relatives aux Travaux demeurent en vigueur tant et aussi longtemps que les Travaux ne sont pas complétés. Consommables Expiration [Importante] (Date fixe) L'entente sur l'acquisition des Consommables expire le CT - Durée initiale du Contrat - Date fixe - Consommables à moins qu’il y soit mis fin prématurément conformément aux dispositions prévues à la partie 13.00 des présentes. OU (Durée déterminée - En année) L'entente sur l'acquisition des Consommables expire après une période CT - Durée initiale du Contrat - 2 an(s) à compter de son entrée en vigueur, à moins qu’il y soit mis fin prématurément conformément aux dispositions prévues à la partie 13.00 des présentes. OU (Durée déterminée - En mois) L'entente sur l'acquisition des Consommables expire après une période CT - Durée initiale du Contrat en mois - 3 mois à compter de son entrée en vigueur, à moins qu’il y soit mis fin prématurément conformément aux dispositions prévues à la partie 13.00 des présentes. Renouvellement [Importante] ([Clause liée - Renouvellement - Poste contractuel 2.00 du Contrat]) Le FOURNISSEUR consent CT - Nombre d'options de renouvellement - 3 Option(s) de renouvellement du Contrat quant à l'acquisition des Consommables pour une durée supplémentaire CT - Durée de l'option de renouvellement - 3 an(s) Ajout facultatif - « chacune ». Afin de se prévaloir d’une Option de renouvellement, l’ORGANISME PUBLIC doit faire parvenir au FOURNISSEUR un avis d’exercice de cette Option au moins 15.03 - CT - Délai d'envoi de l'avis d'exercice de l'option-3 jours avant l’expiration de la durée initiale ou renouvelée prévue pour l'acquisition des Consommables. Services Expiration [Importante] (Date fixe) L'entente sur les prestations de Services expire le CT - Durée initiale du Contrat - Date fixe à moins qu’il y soit mis fin prématurément conformément aux dispositions prévues à la partie 13.00 des présentes. OU (Durée déterminée - En année ) L'entente sur la prestation des Services expire après une période CT - Durée initiale du Contrat an(s), à compter de la fin de la garantie des Biens prévue à la clause 10.22.02 des présentes, à moins qu’il y soit mis fin prématurément conformément aux dispositions prévues à la partie 13.00 des présentes. OU (Durée déterminée - En mois ) L'entente sur la prestation des Services expire après une période CT - Durée initiale du Contrat en mois - 2 mois, à compter de la fin de la garantie des Biens prévue à la clause 10.22.02 des présentes, à moins qu’il y soit mis fin prématurément conformément aux dispositions prévues à la partie 13.00 des présentes. Renouvellement [Importante] ([Clause liée - Renouvellement - Poste contractuel 2.00 du Contrat]) Le FOURNISSEUR consent CT - Nombre d'options de renouvellement - 2 Option(s) de renouvellement du Contrat quant à l'acquisition des Services pour une durée supplémentaire CT - Durée de l'option de renouvellement - 2 an(s) Ajout facultatif - « chacune ». Afin de se prévaloir d’une Option de renouvellement, l’ORGANISME PUBLIC doit faire parvenir au FOURNISSEUR un avis d’exercice de cette Option au moins 15.03 - CT - Délai d'envoi de l'avis d'exercice de l'option-2 jours avant l’expiration de la durée initiale ou renouvelée prévue pour les Services. Survie [Importante] La fin du Contrat ne met pas fin à toute disposition de ce dernier qui, implicitement ou explicitement, doit demeurer en vigueur malgré la fin du Contrat. Non-reconduction [Importante] La continuation des relations commerciales entre les PARTIES, après l'expiration de la durée initiale ou renouvelée du Contrat, ne doit aucunement être considérée comme une reconduction, un renouvellement, une prolongation ou une continuation de celui-ci. PORTÉE (Individuel) Le Contrat, lie et est au bénéfice des PARTIES et de leurs Représentants Légaux. OU (Regroupement de membres) Nonobstant ce qui précède, l’ORGANISME PUBLIC peut, sur avis écrit au FOURNISSEUR pendant la durée du Contrat, sujet à l'accord de ce dernier qui ne peut s’y opposer sans motif sérieux, ajouter, aux mêmes termes et conditions, d’autres établissements membres de son organisme parmi ceux indiqués à l’annexe A - Liste des Établissements Participants, dans la section «Établissements membres intéressés». SIGNATURE LES PARTIES SONT RÉPUTÉES AVOIR SIGNÉ LE CONTRAT RESPECTIVEMENT AU MOMENT DU DÉPÔT DE LA SOUMISSION EN CE QUI CONCERNE LE FOURNISSEUR ET, QUANT À L’ORGANISME PUBLIC, AU MOMENT DE L’ÉMISSION PAR CE DERNIER DE L’AVIS D’ADJUDICATION DU FOURNISSEUR. ANNEXE A - LISTE DES ÉTABLISSEMENTS PARTICIPANTS [Importante] (Mandataire - Regroupement) (Inscrire sous forme de listes distinctes le nom de chacun des Établissements Participants et, le cas échéant, le nom de tous les établissements membres intéressés à se prévaloir ultérieurement du droit d'adhérer au Contrat ainsi que leurs besoins) ANNEXE 0.01.14 - ÉCHÉANCIER [Importante] ANNEXE 0.01.11 - DEVIS [Importante] (Sous forme de fichier Excel, ou autre, séparé, que vous annexerez à votre documentation d'appel d'offres) Le contenu de cette annexe se retrouve dans un document PDF, Excel, ou autre nommé «Devis», annexé en fichier séparé à la documentation d'appel d'offres. ANNEXE 4.01 - CAUTIONNEMENT D'EXÉCUTION [Essentielle] (Affirmative - Forfaitaire) La ..................., dont le principal établissement est situé à ........................................................., ici représentée par ......................................, dûment autorisé(e), (ci-après appelée la Caution), après avoir pris connaissance de la soumission et du contrat dûment octroyé par Dénomination sociale (ci-après appelé l’Organisme public), pour l'acquisition Biens visés et au nom de : ......................................................... (Nom du fournisseur) dont le principal établissement est situé à ...................................... ici représentée par ..................., dûment autorisé(e) (ci-après appelée le Fournisseur), s'oblige conjointement et solidairement avec le Fournisseur envers l’Organisme public à livrer les biens ci-haut décrits conformément à l'appel d'offres et au contrat, la Caution ne pouvant en aucun cas être appelée à payer plus de Montant forfaitaire de la garantie d'exécution. La Caution consent à ce que l’Organisme public et le Fournisseur puissent en tout temps faire des modifications au contrat, sous réserve du droit de la Caution d'en être informée, sur demande, et elle consent également à ce que l’Organisme public accorde tout délai nécessaire à l'exécution du contrat. Au cas d'inexécution du contrat par le Fournisseur, y compris les travaux relevant des garanties, la Caution assume les obligations du Fournisseur et, le cas échéant, entreprend et poursuit l'exécution du contrat dans un délai de CT - Demande d'exécution jours de l’avis écrit qui lui est donné à cet effet par l’Organisme public, à défaut de quoi l’Organisme public peut faire exécuter le contrat et la Caution doit lui payer tout excédent du prix arrêté avec le Fournisseur pour l’exécution du contrat. Ce cautionnement est régi par le droit applicable au Québec et, en cas de contestation, les tribunaux du Québec seront seuls compétents. Le Fournisseur intervient aux présentes pour y consentir et, à défaut par lui de ce faire, la présente obligation est nulle et de nul effet. EN FOI DE QUOI, LA CAUTION ET LE FOURNISSEUR PAR LEURS REPRÉSENTANTS DÛMENT AUTORISÉS, ONT SIGNÉ LES PRÉSENTES À ............................, CE …E JOUR DE ............................ 20… . CAUTION _________________________ Par: _________________________ Témoin ......................... FOURNISSEUR _________________________ Par: _________________________ Témoin ......................... (Affirmative - Pourcentage) La ..................., dont le principal établissement est situé à ........................................................., ici représentée par ......................................, dûment autorisé(e), (ci-après appelée la Caution), après avoir pris connaissance de la soumission et du contrat dûment octroyé par Dénomination sociale (ci-après appelé l’Organisme public), pour l'acquisition Biens visés et au nom de : ......................................................... (Nom du fournisseur) dont le principal établissement est situé à ...................................... ici représentée par ..................., dûment autorisé(e), (ci-après appelée le Fournisseur), s'oblige conjointement et solidairement avec le Fournisseur envers l’Organisme public à livrer les biens ci-haut décrits conformément à l'appel d'offres et au contrat, la Caution ne pouvant en aucun cas être appelée à payer un montant équivalant à plus de Pourcentage du montant du Contrat pour la garantie d'exécution du Contrat. La Caution consent à ce que l’Organisme public et le Fournisseur puissent en tout temps faire des modifications au contrat, sous réserve du droit de la Caution d'en être informée, sur demande, et elle consent également à ce que l’Organisme public accorde tout délai nécessaire à l'exécution du contrat. Au cas d'inexécution du contrat par le Fournisseur, y compris les travaux relevant des garanties, la Caution assume les obligations du Fournisseur et, le cas échéant, entreprend et poursuit l'exécution du contrat dans un délai de CT - Demande d'exécution jours de l’avis écrit qui lui est donné à cet effet par l’Organisme public, à défaut de quoi l’Organisme public peut faire exécuter le contrat et la Caution doit lui payer tout excédent du prix arrêté avec le Fournisseur pour l’exécution du contrat. Ce cautionnement est régi par le droit applicable au Québec et, en cas de contestation, les tribunaux du Québec seront seuls compétents. Le Fournisseur intervient aux présentes pour y consentir et, à défaut par lui de ce faire, la présente obligation est nulle et de nul effet. EN FOI DE QUOI, LA CAUTION ET LE FOURNISSEUR PAR LEURS REPRÉSENTANTS DÛMENT AUTORISÉS, ONT SIGNÉ LES PRÉSENTES À ............................, CE …E JOUR DE ............................ 20… . CAUTION _________________________ Par: _________________________ Témoin ......................... FOURNISSEUR _________________________ Par: _________________________ Témoin ......................... ANNEXE 10.04.02 - LISTE DES SOUS-CONTRACTANTS [Essentielle] Titre : Titre de l'appel d'offres Numéro : Numéro de l'appel d'offres Instructions Le contractant est soumis à l'obligation contractuelle de transmettre à l'ORGANISME PUBLIC, avant que l’exécution du Contrat ne débute, une liste indiquant, pour chaque sous-contrat, les informations demandées ci-dessous. Lorsque, pendant l’exécution du Contrat qu’il a conclu avec l'ORGANISME PUBLIC, le contractant conclut un nouveau sous-contrat, il doit, avant que ne débute l’exécution de ce nouveau sous-contrat, en aviser l'ORGANISME PUBLIC en produisant une liste modifiée. Pour tous les sous-contrats (approvisionnement, services et travaux de construction), le contractant doit remplir le tableau. À remplir pour tout sous-contrat Nom du sous-contractant NEQ du sous-contractant Adresse du sous-contractant Montant du sous-contrat Date du sous-contrat Signé à ......................... ce ......................... ___________________________________________ Signature du représentant autorisé du contractant ___________________________________________ Nom du représentant (en lettres moulées) ANNEXE 10.28.04 – MODALITÉS D’INTERVENTION [Importante] Niveaux de priorité Les niveaux de priorité, pour toute demande d’intervention de l’ORGANISME PUBLIC, sont assignés par le service de soutien technique en fonction de la gravité et de l’impact du problème. Si l’ORGANISME PUBLIC souhaite contester le niveau de priorité qui lui est attribué, il doit contacter le directeur du service de soutien technique sur-le-champ. Les niveaux de priorité sont attribués comme suit : Niveau 1 pour tout problème ayant pour effet : a) de rendre inopérant le Bien; ou b) de compromettre l’intégrité des données requises à l’exploitation du Bien; Niveau 2 pour tout problème ayant pour effet : a) de rendre inopérant une fonctionnalité ou un module essentiel du Bien créant ainsi un inconvénient majeur à l’ORGANISME PUBLIC; ou b) de nuire aux fonctions de sauvegarde et de recouvrement des données du Bien; Niveau 3 pour tout problème ayant pour effet de rendre inopérante ou non conforme à la documentation ou aux spécifications une fonction non essentielle du Bien se rapportant à l’exploitation pour laquelle une solution manuelle peut servir d’alternative acceptable aux PARTIES; Niveau 4 pour tout problème non relié à l’exploitation ou toute demande d’information. Urgences Seules les interventions de niveau 1 et 2 sont considérées comme des urgences aux fins des Services, donnant droit à des interventions en dehors des heures d’affaires. Délais d’intervention Le FOURNISSEUR convient que les délais d’intervention lors de la survenance d’un problème sont les suivants : Priorité Délai de réponse Délai de résolution 1 1 heure pendant les heures d'affaires 2 heures en dehors des heures d'affaires 8 heures 2 2 heures pendant les heures d'affaires 24 heures 3 4 heures pendant les heures d'affaires 14 jours 4 48 heures pendant les heures d'affaires 30 jours Délai de réponse Pour les fins de la présente clause, le délai de réponse se veut le délai maximum de temps entre la réception d’une demande d’assistance complète par l’ORGANISME PUBLIC au service de soutien technique décrivant suffisamment le problème de façon à orienter l’intervention requise et le retour d’appel du technicien habilité à résoudre le problème ainsi décrit. Délai de résolution Pour les fins de la présente clause, le délai de résolution se veut le délai maximum de temps entre le retour d’appel du technicien et la résolution du problème de l’ORGANISME PUBLIC de façon à rendre le Système opérant, étant entendu que la résolution du problème peut prendre l’une ou l’autre des formes suivantes : le FOURNISSEUR fournit une correction qui règle le problème; le FOURNISSEUR fournit une solution de contournement du problème ayant pour effet d’atténuer les impacts de celui-ci de manière acceptable à l’ORGANISME PUBLIC; le FOURNISSEUR confirme qu’il s’agit d’un problème de niveau 3 ou 4 et il informe l’ORGANISME PUBLIC que celui-ci doit être résolu avant une date précise. ANNEXE 10.27 A - ENGAGEMENT DE CONFIDENTIALITÉ [Facultative] Je, soussigné(e), ………………. (nom de la personne), exerçant mes fonctions au sein de ………………. (nom du fournisseur), déclare formellement ce qui suit. Je suis un(e) employé(e) de cette entreprise et, à ce titre, j’ai été affecté(e) à l’exécution du contrat concernant ………………. (identifier l’objet du contrat intervenu) entre ………………. (identifier l’organisme public)et mon employeur en date du ………………. (compléter). Je m’engage, sans limite de temps, à garder le secret le plus entier, à ne pas communiquer ni permettre que soit communiqué à quiconque quelque renseignement ou document, quel qu’en soit le support, qui me sera communiqué ou dont je prendrai connaissance dans l’exercice ou à l’occasion de l’exécution de mes fonctions, à moins d’avoir été dûment autorisé à ce faire par ………………. (identifier l’organisme public) ou par l’un de ses représentants autorisés. Je m’engage également, sans limite de temps, à ne pas faire usage d’un tel renseignement ou document à une fin autre que celle s’inscrivant dans le cadre des rapports contractuels entretenus entre mon employeur et ………………. (identifier l’organisme public). J’ai été informé que le défaut par le (la) soussigné(e) de respecter tout ou partie du présent engagement de confidentialité m’expose ou expose mon employeur à des recours légaux, des réclamations, des poursuites et toutes autres procédures en raison du préjudice causé pour quiconque est concerné par le contrat précité. Je confirme avoir lu les termes du présent engagement et en avoir saisi toute la portée. ET J’AI SIGNÉ À ………………., CE …E JOUR DU MOIS DE ………………., DE L’AN ……. __________________________________________________ (Signature du déclarant ou de la déclarante) ANNEXE 10.27 B - FICHE D'INFORMATION SUR LA DESTRUCTION DES DOCUMENTS CONTENANT DES RENSEIGNEMENTS PERSONNELS [Facultative] Tout organisme public ou toute entreprise privée qui recueillent, détiennent, utilisent ou communiquent des renseignements personnels doivent mettre en place des mesures de sécurité propres à préserver le caractère confidentiel de ces données. Cette obligation découle à la fois de la Loi sur l'accès aux documents des organismes publics et sur la protection des renseignements personnels et de la Loi sur la protection des renseignements personnels dans le secteur privé. À la suite d'incidents majeurs qui lui ont été signalés, la Commission d'accès à l'information a réfléchi sur les moyens à prendre pour assurer la protection du caractère confidentiel des renseignements personnels au moment de leur destruction. Au sein de l’organisme ou de l’entreprise, il est important que chaque employé, à son poste de travail, se sente responsable d’assurer la protection des renseignements personnels qu’il traite. C’est ainsi qu’il ne doit pas jeter au rebut les documents, cartes de mémoire flash, clés USB, disques durs d’ordinateur, CD, DVD, etc. qui en contiennent, sans s’être assuré au préalable que leur contenu ne peut être reconstitué. La Commission suggère aux organismes et entreprises de désigner une personne qui sera responsable de mettre en place et de surveiller l'application d'une politique sur la destruction de documents contenant des renseignements personnels. Le déchiquetage de documents sur support papier, le formatage de médias numériques réutilisables et la destruction physique de médias numériques non réutilisables demeurent les meilleures méthodes de destruction des documents confidentiels. Si les spécifications techniques de la déchiqueteuse de l’entreprise ne répondent pas au volume des documents sur support papier à détruire, il faut les entreposer dans un endroit fermé à clef avant de les confier à une entreprise spécialisée de récupération de papier. La Commission voit mal comment la destruction des documents contenant des renseignements personnels puisse s'effectuer sur la foi d'une simple entente verbale. Aussi, un contrat en bonne et due forme concernant la destruction des documents devrait contenir au moins des clauses spécifiant: le procédé utilisé pour la destruction des documents; la nécessité d'un accord préalable entre les parties avant de confier la destruction des documents confidentiels à un sous-contractant; les pénalités aux dépens de l’entreprise de récupération si elle ne respecte pas ses engagements. En outre, dans ce même contrat, la Commission est d’avis que l’entreprise de récupération devrait : reconnaître que les renseignements personnels contenus dans les documents sont de nature confidentielle; faire signer un engagement à la confidentialité à toute personne qui aura à manipuler ces documents; s’engager à ce que les documents soient entreposés dans des locaux sécuritaires et qu’ils soient toujours sous bonne garde jusqu’à leur destruction; veiller à limiter de façon très stricte l’accès aux lieux où les documents sont entreposés ou transformés; s’engager à ne pas céder les documents en sa possession à des tiers à des fins autres que la transformation du papier préalablement et obligatoirement déchiqueté; assurer à son client le droit d’avoir accès en tout temps à ses installations, toute la durée du contrat; voir à la destruction totale des documents qui ne font pas l’objet d’une transformation; faire rapport à son client lors de la destruction des documents reçus. ANNEXE 10.27 C - ATTESTATIONS DE DESTRUCTION DES RENSEIGNEMENTS PERSONNELS ET CONFIDENTIELS [Facultative] Je, soussigné(e), ………………., (prénom et nom de l’employé(e)) exerçant mes fonctions au sein de ………………., dont le bureau principal est situé à l’adresse ……………….……………….……….., déclare solennellement que je suis dûment autorisé(e) pour certifier que les renseignements personnels et confidentiels communiqués par l’organisme public ou toute autre personne dans le cadre du projet octroyé à ……………….………………. (Nom du fournisseur, prestataire de services ou entrepreneur) et qui prend fin le………………., ont été détruits selon les méthodes suivantes : Date : ………………., (Cochez les cases appropriées) ☐ par déchiquetage : renseignements sur support papier ☐ par destruction logique et effacement physique en utilisant un logiciel de réécriture : renseignements sur support informatique ☐ par un autre mode de destruction : préciser le support et le mode de destruction : EN FOI DE QUOI J’AI SIGNÉ À ………………., CE …E JOUR DU MOIS DE ………………., DE L’AN … ........................................................................ (Signature de l’employé) DOCUMENT NO H01.500 - 2 - ÉDILEX INC. 2006 DOCUMENT NO G01.200 FORMULAIRE DE DROIT COMMERCIAL COLLECTION GESTION JURIDIQUE D’ENTREPRISE Loi sur les contrats des organismes publics Général DATE D’IMPRESSION : 19-12-20 2:11 PM - 4 - CONTRAT A - RÉGIE Loi sur les contrats des organismes publics Général - Page 69 de 69 - DATE D’IMPRESSION : 19-12-20 2:11 PM - 48 - CONTRAT A - RÉGIE\""
      ]
     },
     "execution_count": 15,
     "metadata": {},
     "output_type": "execute_result"
    }
   ],
   "source": [
    "data"
   ]
  },
  {
   "cell_type": "markdown",
   "metadata": {},
   "source": [
    "### Clean text and transform into tokens"
   ]
  },
  {
   "cell_type": "code",
   "execution_count": 17,
   "metadata": {},
   "outputs": [],
   "source": [
    "def clean_text(doc):\n",
    "    tokens = doc.split()\n",
    "    table = str.maketrans('','',string.punctuation)        # make a translation table\n",
    "    tokens = [(w.translate(table)) for w in tokens]        # remove punctuation\n",
    "    tokens = [word for word in tokens if word.isalpha()]   # remove non-alphanumeric special characters\n",
    "    tokens = [word.lower() for word in tokens]             # convert into lowercase letters\n",
    "    tokens = [word for word in tokens if word != 'essentielle']\n",
    "    tokens = [word for word in tokens if word != 'importante']\n",
    "    tokens = [word for word in tokens if word != 'facultative']\n",
    "    return tokens\n",
    "\n",
    "def clean_text_properly(doc):\n",
    "    tokens = doc.split()\n",
    "    tokens = [word for word in tokens if word != '[Essentielle]']\n",
    "    tokens = [word for word in tokens if word != '[Importante]']\n",
    "    tokens = [word for word in tokens if word != '[Facultative]']\n",
    "    table = str.maketrans('','',string.punctuation)        # make a translation table\n",
    "    tokens = [(w.translate(table)) for w in tokens]        # remove punctuation\n",
    "    tokens = [word for word in tokens if word.isalpha()]   # remove non-alphanumeric special characters\n",
    "    tokens = [word.lower() for word in tokens]             # convert into lowercase letters\n",
    "    return tokens"
   ]
  },
  {
   "cell_type": "code",
   "execution_count": 18,
   "metadata": {},
   "outputs": [],
   "source": [
    "tokens = clean_text_properly(data)"
   ]
  },
  {
   "cell_type": "code",
   "execution_count": 20,
   "metadata": {},
   "outputs": [
    {
     "name": "stdout",
     "output_type": "stream",
     "text": [
      "['appel', 'no', 'document', 'sans', 'contrat', 'intégré', 'page', 'de', 'contrat', 'biens', 'techniques', 'équipement', 'version', 'détaillée', 'appel', 'no', 'documentation', 'appel', 'no', 'documentation', 'biens', 'techniques', 'équipement', 'contrat', 'version', 'détaillée', 'table', 'des', 'matières', 'page', 'préambule', 'interprétation', 'terminologie', 'appel', 'doffres', 'avis', 'dadjudication', 'bien', 'bon', 'de', 'commande', 'bordereau', 'de', 'prix', 'changement', 'de', 'contrôle', 'charge', 'consommable', 'consommable', 'en', 'consignation', 'contrat', 'devis', 'documentation', 'dusager', 'documents', 'dappel', 'doffres', 'échéancier', 'établissement', 'participant', 'formulaire', 'de', 'soumission', 'institution', 'financière', 'option', 'organisme', 'public', 'partie', 'personne', 'personne', 'liée', 'renseignement', 'confidentiel', 'renseignement', 'personnel', 'représentants', 'légaux', 'service', 'soumission', 'travaux', 'primauté', 'droit', 'applicable', 'généralités', 'dates', 'et', 'délais', 'a', 'de', 'rigueur', 'b', 'calcul', 'références', 'financières', 'consentement', 'objet', 'biens', 'travaux', 'consommables', 'services', 'contrepartie', 'biens', 'prix', 'acquisition', 'supplémentaire', 'renouvellement', 'ajustement', 'travaux', 'consommables', 'prix', 'renouvellement', 'ajustement', 'services', 'prix', 'renouvellement', 'ajustement', 'modification', 'prix', 'cas', 'permis', 'avis', 'aux', 'autres', 'fournisseurs', 'cas', 'permis', 'avis', 'aux', 'autres', 'fournisseurs', 'transition', 'modalités', 'de', 'paiement', 'facturation', 'biens', 'travaux', 'consommables', 'services', 'lieu', 'vérification', 'compensation', 'fiscale', 'réquisition', 'du', 'ministre', 'du', 'revenu', 'effet', 'de', 'la', 'remise', 'renonciation', 'intérêt', 'sûretés', 'garantie', 'dexécution', 'constitution', 'maintien', 'constitution', 'maintien', 'constitution', 'maintien', 'constitution', 'maintien', 'constitution', 'maintien', 'constitution', 'maintien', 'appropriation', 'préavis', 'à', 'la', 'caution', 'demande', 'dexécution', 'indemnisation', 'attestations', 'réciproques', 'attestations', 'de', 'lorganisme', 'public', 'attestations', 'du', 'fournisseurprestataire', 'de', 'servicesentrepreneur', 'statut', 'capacité', 'divulgation', 'obligations', 'réciproques', 'gestion', 'du', 'regroupement', 'obligation', 'des', 'établissements', 'participants', 'interdiction', 'ajout', 'dun', 'établissement', 'a', 'avis', 'b', 'délai', 'a', 'avis', 'b', 'délai', 'collaboration', 'information', 'confidentielle', 'remplacement', 'dun', 'représentant', 'exécution', 'complète', 'obligations', 'de', 'lorganisme', 'public', 'chargé', 'de', 'projet', 'bon', 'de', 'commande', 'acquisition', 'supplémentaire', 'nonresponsabilité', 'accès', 'risques', 'de', 'perte', 'utilisation', 'acceptation', 'finale', 'inspection', 'travaux', 'préparation', 'du', 'site', 'acceptation', 'a', 'acceptation', 'provisoire', 'b', 'acceptation', 'finale', 'c', 'options', 'consommable', 'en', 'consignation', 'liste', 'initiale', 'bon', 'de', 'commande', 'conservation', 'contrôle', 'de', 'linventaire', 'utilisation', 'fin', 'du', 'contrat', 'obligations', 'du', 'fournisseurprestataire', 'de', 'servicesentrepreneur', 'défaut', 'assurance', 'responsabilité', 'civile', 'générale', 'preuve', 'montant', 'émetteur', 'étendue', 'de', 'la', 'responsabilité', 'conformité', 'à', 'la', 'cnesst', 'souscontrat', 'autorisation', 'exigences', 'a', 'liste', 'autorisation', 'de', 'contracter', 'quantité', 'qualité', 'vices', 'refus', 'de', 'bien', 'a', 'reprise', 'b', 'remplacement', 'remplacement', 'bien', 'production', 'commande', 'excédentaire', 'contrôles', 'et', 'essais', 'interruption', 'biens', 'supprimés', 'incapacité', 'retrait', 'retour', 'dun', 'bien', 'rejet', 'évaluation', 'remboursement', 'langue', 'dusage', 'conformité', 'transfert', 'de', 'propriété', 'perte', 'santé', 'et', 'sécurité', 'consignes', 'mise', 'à', 'jour', 'matières', 'dangereuses', 'livraison', 'délais', 'et', 'fréquence', 'lieu', 'emballage', 'responsabilité', 'documentation', 'dusager', 'rehaussement', 'et', 'mises', 'à', 'jour', 'avant', 'la', 'livraison', 'après', 'la', 'livraison', 'formation', 'formation', 'de', 'base', 'formation', 'additionnelle', 'diligence', 'préavis', 'dintervention', 'garantie', 'étendue', 'durée', 'délai', 'de', 'réparation', 'garantie', 'du', 'droit', 'de', 'propriété', 'consommables', 'disponibilité', 'consommable', 'en', 'consignation', 'a', 'liste', 'initiale', 'b', 'livraison', 'et', 'remplacement', 'c', 'entreposage', 'd', 'utilisation', 'e', 'vérification', 'f', 'contrôle', 'de', 'linventaire', 'g', 'reddition', 'de', 'compte', 'h', 'fin', 'du', 'contrat', 'application', 'travaux', 'échéancier', 'a', 'remise', 'b', 'respect', 'c', 'pénalité', 'installation', 'collaboration', 'récupération', 'mise', 'en', 'marche', 'ressources', 'humaines', 'a', 'maindoeuvre', 'b', 'autorité', 'c', 'employés', 'd', 'embauche', 'e', 'entrée', 'et', 'sortie', 'f', 'identification', 'g', 'conduite', 'h', 'souscontractants', 'conflits', 'dintérêts', 'engagement', 'déviter', 'avis', 'portée', 'engagement', 'de', 'confidentialité', 'services', 'ressources', 'diligence', 'soutien', 'téléphonique', 'modalités', 'maintien', 'du', 'système', 'dassurance', 'de', 'la', 'qualité', 'pièces', 'de', 'rechange', 'indemnisation', 'perte', 'portée', 'procédure', 'limite', 'dispositions', 'particulières', 'cession', 'sujette', 'à', 'autorisation', 'cession', 'préautorisée', 'évaluation', 'du', 'rendement', 'dispositions', 'générales', 'avis', 'résolution', 'de', 'différends', 'négociations']\n"
     ]
    }
   ],
   "source": [
    "print(tokens[:500])"
   ]
  },
  {
   "cell_type": "code",
   "execution_count": 21,
   "metadata": {},
   "outputs": [
    {
     "data": {
      "text/plain": [
       "16294"
      ]
     },
     "execution_count": 21,
     "metadata": {},
     "output_type": "execute_result"
    }
   ],
   "source": [
    "len(tokens)"
   ]
  },
  {
   "cell_type": "code",
   "execution_count": 22,
   "metadata": {},
   "outputs": [
    {
     "data": {
      "text/plain": [
       "2023"
      ]
     },
     "execution_count": 22,
     "metadata": {},
     "output_type": "execute_result"
    }
   ],
   "source": [
    "len(set(tokens))  # number of unique words"
   ]
  },
  {
   "cell_type": "markdown",
   "metadata": {
    "colab_type": "text",
    "id": "dLNvTTO7TZFb"
   },
   "source": [
    "# 2. Create text sequences \n",
    "\n",
    "The number of tokens in a sequence depends on the nature of the document. For legal documents, we'll start with 25 words that should be enough to capture the context of the sentence. "
   ]
  },
  {
   "cell_type": "code",
   "execution_count": 23,
   "metadata": {
    "colab": {},
    "colab_type": "code",
    "id": "fXLYToH6TVy3"
   },
   "outputs": [],
   "source": [
    "train_len = 25+1    # 25 training words and one target word\n",
    "\n",
    "# Make an empty list of sequences\n",
    "lines = []\n",
    "\n",
    "for i in range(train_len, len(tokens)):   # from 0 to 25\n",
    "    seq = tokens[i-train_len:i]           # create a sequence of 26 tokens \n",
    "    line = ' '.join(seq)                  # join tokens to create a line\n",
    "    lines.append(line)\n",
    "    if i > 100000:                        # take 100k words to train the model, to reduce the resources\n",
    "        break"
   ]
  },
  {
   "cell_type": "code",
   "execution_count": 24,
   "metadata": {},
   "outputs": [
    {
     "data": {
      "text/plain": [
       "16268"
      ]
     },
     "execution_count": 24,
     "metadata": {},
     "output_type": "execute_result"
    }
   ],
   "source": [
    "len(lines)"
   ]
  },
  {
   "cell_type": "code",
   "execution_count": 25,
   "metadata": {},
   "outputs": [
    {
     "data": {
      "text/plain": [
       "'appel no document sans contrat intégré page de contrat biens techniques équipement version détaillée appel no documentation appel no documentation biens techniques équipement contrat version détaillée'"
      ]
     },
     "execution_count": 25,
     "metadata": {},
     "output_type": "execute_result"
    }
   ],
   "source": [
    "lines[0]"
   ]
  },
  {
   "cell_type": "code",
   "execution_count": 26,
   "metadata": {},
   "outputs": [
    {
     "data": {
      "text/plain": [
       "('appel', 'détaillée')"
      ]
     },
     "execution_count": 26,
     "metadata": {},
     "output_type": "execute_result"
    }
   ],
   "source": [
    "tokens[0], tokens[25]"
   ]
  },
  {
   "cell_type": "code",
   "execution_count": 27,
   "metadata": {},
   "outputs": [
    {
     "data": {
      "text/plain": [
       "'no document sans contrat intégré page de contrat biens techniques équipement version détaillée appel no documentation appel no documentation biens techniques équipement contrat version détaillée table'"
      ]
     },
     "execution_count": 27,
     "metadata": {},
     "output_type": "execute_result"
    }
   ],
   "source": [
    "lines[1]"
   ]
  },
  {
   "cell_type": "code",
   "execution_count": 28,
   "metadata": {
    "colab": {},
    "colab_type": "code",
    "id": "zR8AW5NqTdbK"
   },
   "outputs": [
    {
     "data": {
      "text/plain": [
       "('no', 'table')"
      ]
     },
     "execution_count": 28,
     "metadata": {},
     "output_type": "execute_result"
    }
   ],
   "source": [
    "tokens[1], tokens[26]"
   ]
  },
  {
   "cell_type": "code",
   "execution_count": 40,
   "metadata": {},
   "outputs": [],
   "source": [
    "import random\n",
    "random.seed(101)\n",
    "random_pick = random.randint(0,len(lines))"
   ]
  },
  {
   "cell_type": "code",
   "execution_count": 42,
   "metadata": {},
   "outputs": [
    {
     "data": {
      "text/plain": [
       "'consignation vérification le fournisseur doit procéder à une vérificationinspection périodique de des consommables en consignation et remplacer tout consommable périmé ou sur le point de le'"
      ]
     },
     "execution_count": 42,
     "metadata": {},
     "output_type": "execute_result"
    }
   ],
   "source": [
    "lines[random_pick]"
   ]
  },
  {
   "cell_type": "markdown",
   "metadata": {
    "colab_type": "text",
    "id": "s-tASH05T3TK"
   },
   "source": [
    "# 3. Tokenization: convert text sequences to number sequences"
   ]
  },
  {
   "cell_type": "code",
   "execution_count": 29,
   "metadata": {},
   "outputs": [],
   "source": [
    "import numpy as np\n",
    "from tensorflow.keras.preprocessing.text import Tokenizer\n",
    "from tensorflow.keras.utils import to_categorical\n",
    "from tensorflow.keras.models import Sequential\n",
    "from tensorflow.keras.layers import Dense, LSTM, Embedding\n",
    "from tensorflow.keras.preprocessing.sequence import pad_sequences"
   ]
  },
  {
   "cell_type": "code",
   "execution_count": 30,
   "metadata": {
    "colab": {},
    "colab_type": "code",
    "id": "fLU0gzZpT6CR"
   },
   "outputs": [],
   "source": [
    "# Create a Tokenizer object, fit it on the text, and transform to numerical sequences\n",
    "\n",
    "tokenizer = Tokenizer()\n",
    "tokenizer.fit_on_texts(lines) \n",
    "sequences = tokenizer.texts_to_sequences(lines) "
   ]
  },
  {
   "cell_type": "code",
   "execution_count": 31,
   "metadata": {
    "colab": {
     "base_uri": "https://localhost:8080/",
     "height": 374
    },
    "colab_type": "code",
    "id": "H5IdddpoT9zu",
    "outputId": "d5ff042d-e59b-4306-c653-b45df700db77"
   },
   "outputs": [
    {
     "data": {
      "text/plain": [
       "[324,\n",
       " 443,\n",
       " 205,\n",
       " 43,\n",
       " 13,\n",
       " 2023,\n",
       " 811,\n",
       " 1,\n",
       " 13,\n",
       " 25,\n",
       " 325,\n",
       " 1201,\n",
       " 812,\n",
       " 810,\n",
       " 324,\n",
       " 443,\n",
       " 157,\n",
       " 324,\n",
       " 443,\n",
       " 157,\n",
       " 25,\n",
       " 325,\n",
       " 1201,\n",
       " 13,\n",
       " 812,\n",
       " 810]"
      ]
     },
     "execution_count": 31,
     "metadata": {},
     "output_type": "execute_result"
    }
   ],
   "source": [
    "# Each of these numbers is an id for a particular word\n",
    "\n",
    "sequences[0]"
   ]
  },
  {
   "cell_type": "code",
   "execution_count": 32,
   "metadata": {
    "colab": {
     "base_uri": "https://localhost:8080/",
     "height": 34
    },
    "colab_type": "code",
    "id": "p1I74xfoUAjB",
    "outputId": "975158b7-cf44-4ca0-b8ad-c2f1f6147529"
   },
   "outputs": [
    {
     "data": {
      "text/plain": [
       "'biens'"
      ]
     },
     "execution_count": 32,
     "metadata": {},
     "output_type": "execute_result"
    }
   ],
   "source": [
    "tokenizer.index_word[25]"
   ]
  },
  {
   "cell_type": "code",
   "execution_count": 33,
   "metadata": {
    "colab": {
     "base_uri": "https://localhost:8080/",
     "height": 391
    },
    "colab_type": "code",
    "id": "HG-5od3wUC5V",
    "outputId": "5b583bad-0a0f-4da9-8f26-9bea40b48a82"
   },
   "outputs": [
    {
     "name": "stdout",
     "output_type": "stream",
     "text": [
      "810 : détaillée\n",
      "1203 : table\n",
      "7 : des\n",
      "518 : matières\n",
      "811 : page\n",
      "813 : préambule\n",
      "814 : interprétation\n",
      "815 : terminologie\n",
      "324 : appel\n",
      "111 : doffres\n",
      "62 : avis\n",
      "630 : dadjudication\n",
      "31 : bien\n",
      "131 : bon\n",
      "1 : de\n",
      "90 : commande\n",
      "122 : bordereau\n",
      "1 : de\n",
      "23 : prix\n",
      "177 : changement\n",
      "1 : de\n",
      "178 : contrôle\n",
      "286 : charge\n",
      "85 : consommable\n",
      "85 : consommable\n",
      "12 : en\n"
     ]
    }
   ],
   "source": [
    "for i in sequences[25]:\n",
    "    print(f'{i} : {tokenizer.index_word[i]}')"
   ]
  },
  {
   "cell_type": "code",
   "execution_count": 34,
   "metadata": {
    "colab": {},
    "colab_type": "code",
    "id": "LDbdDPdOVHQB"
   },
   "outputs": [],
   "source": [
    "# Tokenizer can give a dictionary of all word counts\n",
    "\n",
    "#tokenizer.word_counts"
   ]
  },
  {
   "cell_type": "code",
   "execution_count": 35,
   "metadata": {
    "colab": {
     "base_uri": "https://localhost:8080/",
     "height": 34
    },
    "colab_type": "code",
    "id": "r6KVJnKQVL04",
    "outputId": "701a6591-132a-434c-d8a4-ae92ead55bb8"
   },
   "outputs": [
    {
     "data": {
      "text/plain": [
       "2023"
      ]
     },
     "execution_count": 35,
     "metadata": {},
     "output_type": "execute_result"
    }
   ],
   "source": [
    "# Vocabulary size\n",
    "\n",
    "vocabulary_size = len(tokenizer.word_counts)\n",
    "vocabulary_size"
   ]
  },
  {
   "cell_type": "markdown",
   "metadata": {
    "colab_type": "text",
    "id": "XUJeGoLLVTDi"
   },
   "source": [
    "### Convert to Numpy Matrix"
   ]
  },
  {
   "cell_type": "code",
   "execution_count": 38,
   "metadata": {
    "colab": {},
    "colab_type": "code",
    "id": "-FTNyvbuVVry"
   },
   "outputs": [],
   "source": [
    "# 'sequences' is a list of lists, we can convert it to numpy matrix\n",
    "sequences = np.array(sequences)"
   ]
  },
  {
   "cell_type": "code",
   "execution_count": 39,
   "metadata": {
    "colab": {
     "base_uri": "https://localhost:8080/",
     "height": 136
    },
    "colab_type": "code",
    "id": "6EaNMEplVYyl",
    "outputId": "b11e3f0a-b27b-479c-a8d9-6bcad36f5b57"
   },
   "outputs": [
    {
     "data": {
      "text/plain": [
       "array([[ 324,  443,  205, ...,   13,  812,  810],\n",
       "       [ 443,  205,   43, ...,  812,  810, 1203],\n",
       "       [ 205,   43,   13, ...,  810, 1203,    7],\n",
       "       ...,\n",
       "       [ 698,   84,   28, ...,    1,   64, 2022],\n",
       "       [  84,   28,    6, ...,   64, 2022,   13],\n",
       "       [  28,    6,  323, ..., 2022,   13,   37]])"
      ]
     },
     "execution_count": 39,
     "metadata": {},
     "output_type": "execute_result"
    }
   ],
   "source": [
    "sequences"
   ]
  },
  {
   "cell_type": "markdown",
   "metadata": {
    "colab_type": "text",
    "id": "YMCthr0NVeJz"
   },
   "source": [
    "# 4. Feature / label split (create x and y)\n",
    "\n",
    "Predict the last word in a sequence"
   ]
  },
  {
   "cell_type": "code",
   "execution_count": 32,
   "metadata": {
    "colab": {
     "base_uri": "https://localhost:8080/",
     "height": 136
    },
    "colab_type": "code",
    "id": "QX_MXYseVrZe",
    "outputId": "0a9091e5-4302-4e58-f547-0676f914f70f"
   },
   "outputs": [
    {
     "data": {
      "text/plain": [
       "array([[ 230,  202,  143, ...,  130,  117,  396],\n",
       "       [ 202,  143,   37, ...,  117,  396,   27],\n",
       "       [ 143,   37,    9, ...,  396,   27, 1001],\n",
       "       ...,\n",
       "       [ 438,   62,   29, ...,  654,    1,   85],\n",
       "       [  62,   29,    6, ...,    1,   85, 1697],\n",
       "       [  29,    6,  178, ...,   85, 1697,    9]])"
      ]
     },
     "execution_count": 32,
     "metadata": {},
     "output_type": "execute_result"
    }
   ],
   "source": [
    "# First 25 words (compare to 'sequences' : it's everything without the last index)\n",
    "sequences[:,:-1]"
   ]
  },
  {
   "cell_type": "code",
   "execution_count": 33,
   "metadata": {
    "colab": {
     "base_uri": "https://localhost:8080/",
     "height": 34
    },
    "colab_type": "code",
    "id": "h5zUGxMdVuBz",
    "outputId": "a6b71b0b-f98d-441c-8f68-c4e90d554c45"
   },
   "outputs": [
    {
     "data": {
      "text/plain": [
       "array([  27, 1001, 1000, ..., 1697,    9,   34])"
      ]
     },
     "execution_count": 33,
     "metadata": {},
     "output_type": "execute_result"
    }
   ],
   "source": [
    "# last word\n",
    "sequences[:,-1]"
   ]
  },
  {
   "cell_type": "code",
   "execution_count": 39,
   "metadata": {
    "colab": {
     "base_uri": "https://localhost:8080/",
     "height": 34
    },
    "colab_type": "code",
    "id": "CnGk4S6_V09V",
    "outputId": "0e25b56c-c65f-48e4-86d6-6b58c0d94023"
   },
   "outputs": [],
   "source": [
    "x, y = sequences[:,:-1], sequences[:,-1]"
   ]
  },
  {
   "cell_type": "code",
   "execution_count": 40,
   "metadata": {},
   "outputs": [
    {
     "data": {
      "text/plain": [
       "(25,)"
      ]
     },
     "execution_count": 40,
     "metadata": {},
     "output_type": "execute_result"
    }
   ],
   "source": [
    "x[0].shape"
   ]
  },
  {
   "cell_type": "code",
   "execution_count": 42,
   "metadata": {},
   "outputs": [
    {
     "data": {
      "text/plain": [
       "(11356, 25)"
      ]
     },
     "execution_count": 42,
     "metadata": {},
     "output_type": "execute_result"
    }
   ],
   "source": [
    "x.shape # the number of sequences for the sliding window of 25 words"
   ]
  },
  {
   "cell_type": "code",
   "execution_count": 41,
   "metadata": {},
   "outputs": [
    {
     "data": {
      "text/plain": [
       "(11356,)"
      ]
     },
     "execution_count": 41,
     "metadata": {},
     "output_type": "execute_result"
    }
   ],
   "source": [
    "y.shape # a column of last words for each sequence"
   ]
  },
  {
   "cell_type": "code",
   "execution_count": 43,
   "metadata": {},
   "outputs": [
    {
     "data": {
      "text/plain": [
       "(11356, 1699)"
      ]
     },
     "execution_count": 43,
     "metadata": {},
     "output_type": "execute_result"
    }
   ],
   "source": [
    "# convert those words to one-hot matrix\n",
    "y = to_categorical(y, num_classes=vocabulary_size+1)\n",
    "y.shape"
   ]
  },
  {
   "cell_type": "code",
   "execution_count": 44,
   "metadata": {},
   "outputs": [
    {
     "data": {
      "text/plain": [
       "25"
      ]
     },
     "execution_count": 44,
     "metadata": {},
     "output_type": "execute_result"
    }
   ],
   "source": [
    "seq_len = x.shape[1]\n",
    "seq_len"
   ]
  },
  {
   "cell_type": "markdown",
   "metadata": {
    "colab_type": "text",
    "id": "5Qo09pXrWIEc"
   },
   "source": [
    "# 5. Building an LSTM model"
   ]
  },
  {
   "cell_type": "code",
   "execution_count": 45,
   "metadata": {
    "colab": {},
    "colab_type": "code",
    "id": "xaalrQWFVhL1"
   },
   "outputs": [],
   "source": [
    "# PARAMETERS CHOICE\n",
    "\n",
    "# Activation = RELU\n",
    "# The size of the output layer is 'vocabulary_size'\n",
    "# Loss = 'categorical_crossentropy'\n",
    "\n",
    "def create_model(vocabulary_size, seq_len):\n",
    "    model = Sequential()\n",
    "    # Embedding turns positive integers(indexes) into dense vectors of fixed size (see docs).\n",
    "    \n",
    "    # First LSTM layer\n",
    "    model.add(Embedding(input_dim=vocabulary_size, output_dim=25, input_length=seq_len)) \n",
    "    \n",
    "    # First LSTM layer\n",
    "    model.add(LSTM(units=100, return_sequences=True)) # better to take multiples of seq_len; smalle batches => faster\n",
    "    \n",
    "    # Second LSTM layer\n",
    "    model.add(LSTM(100))\n",
    "    \n",
    "    # Dense layer\n",
    "    model.add(Dense(100, activation='relu'))\n",
    "    \n",
    "    # Final layer\n",
    "    model.add(Dense(vocabulary_size, activation='softmax'))\n",
    "    \n",
    "    model.compile(loss='categorical_crossentropy', optimizer='adam', metrics=['accuracy'])\n",
    "   \n",
    "    model.summary()\n",
    "    \n",
    "    return model"
   ]
  },
  {
   "cell_type": "code",
   "execution_count": 46,
   "metadata": {
    "colab": {
     "base_uri": "https://localhost:8080/",
     "height": 513
    },
    "colab_type": "code",
    "id": "CRytYaTQV3FS",
    "outputId": "989b26f7-d6c6-4611-8acf-1e302772a5c0"
   },
   "outputs": [
    {
     "name": "stdout",
     "output_type": "stream",
     "text": [
      "Model: \"sequential\"\n",
      "_________________________________________________________________\n",
      "Layer (type)                 Output Shape              Param #   \n",
      "=================================================================\n",
      "embedding (Embedding)        (None, 25, 25)            42475     \n",
      "_________________________________________________________________\n",
      "lstm (LSTM)                  (None, 25, 100)           50400     \n",
      "_________________________________________________________________\n",
      "lstm_1 (LSTM)                (None, 100)               80400     \n",
      "_________________________________________________________________\n",
      "dense (Dense)                (None, 100)               10100     \n",
      "_________________________________________________________________\n",
      "dense_1 (Dense)              (None, 1699)              171599    \n",
      "=================================================================\n",
      "Total params: 354,974\n",
      "Trainable params: 354,974\n",
      "Non-trainable params: 0\n",
      "_________________________________________________________________\n"
     ]
    }
   ],
   "source": [
    "# define model\n",
    "model = create_model(vocabulary_size+1, seq_len) # +1 for Embeddings"
   ]
  },
  {
   "cell_type": "code",
   "execution_count": 49,
   "metadata": {
    "colab": {},
    "colab_type": "code",
    "id": "iKxBR9NBWOBH"
   },
   "outputs": [
    {
     "name": "stdout",
     "output_type": "stream",
     "text": [
      "Train on 11356 samples\n",
      "Epoch 1/100\n",
      "11356/11356 [==============================] - 32s 3ms/sample - loss: 6.6124 - accuracy: 0.0405\n",
      "Epoch 2/100\n",
      "11356/11356 [==============================] - 25s 2ms/sample - loss: 6.0052 - accuracy: 0.0566\n",
      "Epoch 3/100\n",
      "11356/11356 [==============================] - 25s 2ms/sample - loss: 5.9755 - accuracy: 0.0566\n",
      "Epoch 4/100\n",
      "11356/11356 [==============================] - 25s 2ms/sample - loss: 5.9730 - accuracy: 0.0566\n",
      "Epoch 5/100\n",
      "11356/11356 [==============================] - 26s 2ms/sample - loss: 5.9679 - accuracy: 0.0566\n",
      "Epoch 6/100\n",
      "11356/11356 [==============================] - 25s 2ms/sample - loss: 5.9616 - accuracy: 0.0566\n",
      "Epoch 7/100\n",
      "11356/11356 [==============================] - 24s 2ms/sample - loss: 5.9149 - accuracy: 0.0566\n",
      "Epoch 8/100\n",
      "11356/11356 [==============================] - 24s 2ms/sample - loss: 5.8094 - accuracy: 0.0566\n",
      "Epoch 9/100\n",
      "11356/11356 [==============================] - 33s 3ms/sample - loss: 5.7409 - accuracy: 0.0580\n",
      "Epoch 10/100\n",
      "11356/11356 [==============================] - 31s 3ms/sample - loss: 5.6227 - accuracy: 0.0656\n",
      "Epoch 11/100\n",
      "11356/11356 [==============================] - 21s 2ms/sample - loss: 5.5021 - accuracy: 0.0705\n",
      "Epoch 12/100\n",
      "11356/11356 [==============================] - 20s 2ms/sample - loss: 5.4047 - accuracy: 0.0808\n",
      "Epoch 13/100\n",
      "11356/11356 [==============================] - 21s 2ms/sample - loss: 5.3172 - accuracy: 0.0855\n",
      "Epoch 14/100\n",
      "11356/11356 [==============================] - 21s 2ms/sample - loss: 5.2332 - accuracy: 0.0901\n",
      "Epoch 15/100\n",
      "11356/11356 [==============================] - 21s 2ms/sample - loss: 5.1563 - accuracy: 0.0931\n",
      "Epoch 16/100\n",
      "11356/11356 [==============================] - 21s 2ms/sample - loss: 5.0908 - accuracy: 0.0930\n",
      "Epoch 17/100\n",
      "11356/11356 [==============================] - 21s 2ms/sample - loss: 5.0306 - accuracy: 0.0988\n",
      "Epoch 18/100\n",
      "11356/11356 [==============================] - 21s 2ms/sample - loss: 4.9756 - accuracy: 0.1007\n",
      "Epoch 19/100\n",
      "11356/11356 [==============================] - 21s 2ms/sample - loss: 4.9270 - accuracy: 0.1010\n",
      "Epoch 20/100\n",
      "11356/11356 [==============================] - 21s 2ms/sample - loss: 4.8822 - accuracy: 0.1009\n",
      "Epoch 21/100\n",
      "11356/11356 [==============================] - 21s 2ms/sample - loss: 4.8378 - accuracy: 0.1040\n",
      "Epoch 22/100\n",
      "11356/11356 [==============================] - 21s 2ms/sample - loss: 4.7964 - accuracy: 0.1048\n",
      "Epoch 23/100\n",
      "11356/11356 [==============================] - 21s 2ms/sample - loss: 4.7575 - accuracy: 0.1075\n",
      "Epoch 24/100\n",
      "11356/11356 [==============================] - 21s 2ms/sample - loss: 4.7104 - accuracy: 0.1078\n",
      "Epoch 25/100\n",
      "11356/11356 [==============================] - 21s 2ms/sample - loss: 4.6655 - accuracy: 0.1106\n",
      "Epoch 26/100\n",
      "11356/11356 [==============================] - 20s 2ms/sample - loss: 4.6194 - accuracy: 0.1151\n",
      "Epoch 27/100\n",
      "11356/11356 [==============================] - 21s 2ms/sample - loss: 4.5744 - accuracy: 0.1191\n",
      "Epoch 28/100\n",
      "11356/11356 [==============================] - 21s 2ms/sample - loss: 4.5276 - accuracy: 0.1286\n",
      "Epoch 29/100\n",
      "11356/11356 [==============================] - 21s 2ms/sample - loss: 4.4851 - accuracy: 0.1288\n",
      "Epoch 30/100\n",
      "11356/11356 [==============================] - 31s 3ms/sample - loss: 4.4362 - accuracy: 0.1352\n",
      "Epoch 31/100\n",
      "11356/11356 [==============================] - 28s 2ms/sample - loss: 4.3917 - accuracy: 0.1397\n",
      "Epoch 32/100\n",
      "11356/11356 [==============================] - 26s 2ms/sample - loss: 4.3439 - accuracy: 0.1420\n",
      "Epoch 33/100\n",
      "11356/11356 [==============================] - 24s 2ms/sample - loss: 4.2934 - accuracy: 0.1465\n",
      "Epoch 34/100\n",
      "11356/11356 [==============================] - 25s 2ms/sample - loss: 4.2541 - accuracy: 0.1530\n",
      "Epoch 35/100\n",
      "11356/11356 [==============================] - 26s 2ms/sample - loss: 4.1975 - accuracy: 0.1597\n",
      "Epoch 36/100\n",
      "11356/11356 [==============================] - 26s 2ms/sample - loss: 4.1553 - accuracy: 0.1628\n",
      "Epoch 37/100\n",
      "11356/11356 [==============================] - 24s 2ms/sample - loss: 4.1108 - accuracy: 0.1660\n",
      "Epoch 38/100\n",
      "11356/11356 [==============================] - 24s 2ms/sample - loss: 4.0763 - accuracy: 0.1692\n",
      "Epoch 39/100\n",
      "11356/11356 [==============================] - 25s 2ms/sample - loss: 4.0298 - accuracy: 0.1719\n",
      "Epoch 40/100\n",
      "11356/11356 [==============================] - 26s 2ms/sample - loss: 3.9934 - accuracy: 0.1721\n",
      "Epoch 41/100\n",
      "11356/11356 [==============================] - 26s 2ms/sample - loss: 3.9506 - accuracy: 0.1774\n",
      "Epoch 42/100\n",
      "11356/11356 [==============================] - 22s 2ms/sample - loss: 3.9135 - accuracy: 0.1805\n",
      "Epoch 43/100\n",
      "11356/11356 [==============================] - 23s 2ms/sample - loss: 3.8750 - accuracy: 0.1876\n",
      "Epoch 44/100\n",
      "11356/11356 [==============================] - 28s 2ms/sample - loss: 3.8332 - accuracy: 0.1897\n",
      "Epoch 45/100\n",
      "11356/11356 [==============================] - 26s 2ms/sample - loss: 3.8040 - accuracy: 0.1913\n",
      "Epoch 46/100\n",
      "11356/11356 [==============================] - 24s 2ms/sample - loss: 3.7688 - accuracy: 0.1962\n",
      "Epoch 47/100\n",
      "11356/11356 [==============================] - 25s 2ms/sample - loss: 3.7287 - accuracy: 0.2025\n",
      "Epoch 48/100\n",
      "11356/11356 [==============================] - 27s 2ms/sample - loss: 3.7019 - accuracy: 0.2018\n",
      "Epoch 49/100\n",
      "11356/11356 [==============================] - 26s 2ms/sample - loss: 3.6646 - accuracy: 0.2076\n",
      "Epoch 50/100\n",
      "11356/11356 [==============================] - 25s 2ms/sample - loss: 3.6345 - accuracy: 0.2128\n",
      "Epoch 51/100\n",
      "11356/11356 [==============================] - 43s 4ms/sample - loss: 3.6023 - accuracy: 0.2160\n",
      "Epoch 52/100\n",
      "11356/11356 [==============================] - 32s 3ms/sample - loss: 3.5710 - accuracy: 0.2179\n",
      "Epoch 53/100\n",
      "11356/11356 [==============================] - 27s 2ms/sample - loss: 3.5447 - accuracy: 0.2207\n",
      "Epoch 54/100\n",
      "11356/11356 [==============================] - 25s 2ms/sample - loss: 3.5126 - accuracy: 0.2245\n",
      "Epoch 55/100\n",
      "11356/11356 [==============================] - 26s 2ms/sample - loss: 3.4915 - accuracy: 0.2277\n",
      "Epoch 56/100\n",
      "11356/11356 [==============================] - 26s 2ms/sample - loss: 3.4600 - accuracy: 0.2312\n",
      "Epoch 57/100\n",
      "11356/11356 [==============================] - 25s 2ms/sample - loss: 3.4292 - accuracy: 0.2369\n",
      "Epoch 58/100\n",
      "11356/11356 [==============================] - 24s 2ms/sample - loss: 3.4019 - accuracy: 0.2378\n",
      "Epoch 59/100\n",
      "11356/11356 [==============================] - 21s 2ms/sample - loss: 3.3787 - accuracy: 0.2429\n",
      "Epoch 60/100\n",
      "11356/11356 [==============================] - 23s 2ms/sample - loss: 3.3526 - accuracy: 0.2464\n",
      "Epoch 61/100\n",
      "11356/11356 [==============================] - 22s 2ms/sample - loss: 3.3228 - accuracy: 0.2503\n",
      "Epoch 62/100\n",
      "11356/11356 [==============================] - 22s 2ms/sample - loss: 3.3049 - accuracy: 0.2521\n",
      "Epoch 63/100\n",
      "11356/11356 [==============================] - 26s 2ms/sample - loss: 3.2723 - accuracy: 0.2605\n",
      "Epoch 64/100\n",
      "11356/11356 [==============================] - 25s 2ms/sample - loss: 3.2423 - accuracy: 0.2655\n",
      "Epoch 65/100\n",
      "11356/11356 [==============================] - 25s 2ms/sample - loss: 3.2206 - accuracy: 0.2684\n",
      "Epoch 66/100\n",
      "11356/11356 [==============================] - 25s 2ms/sample - loss: 3.1923 - accuracy: 0.2734\n",
      "Epoch 67/100\n",
      "11356/11356 [==============================] - 25s 2ms/sample - loss: 3.1704 - accuracy: 0.2766\n",
      "Epoch 68/100\n",
      "11356/11356 [==============================] - 23s 2ms/sample - loss: 3.1462 - accuracy: 0.2803\n",
      "Epoch 69/100\n",
      "11356/11356 [==============================] - 22s 2ms/sample - loss: 3.1260 - accuracy: 0.2829\n",
      "Epoch 70/100\n",
      "11356/11356 [==============================] - 22s 2ms/sample - loss: 3.0977 - accuracy: 0.2911\n",
      "Epoch 71/100\n",
      "11356/11356 [==============================] - 21s 2ms/sample - loss: 3.0717 - accuracy: 0.2919\n",
      "Epoch 72/100\n",
      "11356/11356 [==============================] - 21s 2ms/sample - loss: 3.0484 - accuracy: 0.2954\n",
      "Epoch 73/100\n",
      "11356/11356 [==============================] - 31s 3ms/sample - loss: 3.0210 - accuracy: 0.3020\n",
      "Epoch 74/100\n",
      "11356/11356 [==============================] - 24s 2ms/sample - loss: 3.0001 - accuracy: 0.3060\n",
      "Epoch 75/100\n",
      "11356/11356 [==============================] - 31s 3ms/sample - loss: 2.9836 - accuracy: 0.3061\n",
      "Epoch 76/100\n"
     ]
    },
    {
     "name": "stdout",
     "output_type": "stream",
     "text": [
      "11356/11356 [==============================] - 24s 2ms/sample - loss: 2.9614 - accuracy: 0.3118\n",
      "Epoch 77/100\n",
      "11356/11356 [==============================] - 31s 3ms/sample - loss: 2.9339 - accuracy: 0.3137\n",
      "Epoch 78/100\n",
      "11356/11356 [==============================] - 25s 2ms/sample - loss: 2.9155 - accuracy: 0.3174\n",
      "Epoch 79/100\n",
      "11356/11356 [==============================] - 25s 2ms/sample - loss: 2.8878 - accuracy: 0.3231\n",
      "Epoch 80/100\n",
      "11356/11356 [==============================] - 23s 2ms/sample - loss: 2.8644 - accuracy: 0.3291\n",
      "Epoch 81/100\n",
      "11356/11356 [==============================] - 35s 3ms/sample - loss: 2.8403 - accuracy: 0.3334\n",
      "Epoch 82/100\n",
      "11356/11356 [==============================] - 26s 2ms/sample - loss: 2.8253 - accuracy: 0.3347\n",
      "Epoch 83/100\n",
      "11356/11356 [==============================] - 23s 2ms/sample - loss: 2.8055 - accuracy: 0.3400\n",
      "Epoch 84/100\n",
      "11356/11356 [==============================] - 28s 2ms/sample - loss: 2.7835 - accuracy: 0.3412\n",
      "Epoch 85/100\n",
      "11356/11356 [==============================] - 23s 2ms/sample - loss: 2.7611 - accuracy: 0.3477\n",
      "Epoch 86/100\n",
      "11356/11356 [==============================] - 25s 2ms/sample - loss: 2.7397 - accuracy: 0.3529\n",
      "Epoch 87/100\n",
      "11356/11356 [==============================] - 26s 2ms/sample - loss: 2.7271 - accuracy: 0.3528\n",
      "Epoch 88/100\n",
      "11356/11356 [==============================] - 23s 2ms/sample - loss: 2.7050 - accuracy: 0.3536\n",
      "Epoch 89/100\n",
      "11356/11356 [==============================] - 24s 2ms/sample - loss: 2.6931 - accuracy: 0.3613\n",
      "Epoch 90/100\n",
      "11356/11356 [==============================] - 21s 2ms/sample - loss: 2.6670 - accuracy: 0.3663\n",
      "Epoch 91/100\n",
      "11356/11356 [==============================] - 27s 2ms/sample - loss: 2.6474 - accuracy: 0.3669\n",
      "Epoch 92/100\n",
      "11356/11356 [==============================] - 21s 2ms/sample - loss: 2.6265 - accuracy: 0.3728\n",
      "Epoch 93/100\n",
      "11356/11356 [==============================] - 24s 2ms/sample - loss: 2.6107 - accuracy: 0.3740\n",
      "Epoch 94/100\n",
      "11356/11356 [==============================] - 22s 2ms/sample - loss: 2.5969 - accuracy: 0.3780\n",
      "Epoch 95/100\n",
      "11356/11356 [==============================] - 23s 2ms/sample - loss: 2.5715 - accuracy: 0.3799\n",
      "Epoch 96/100\n",
      "11356/11356 [==============================] - 21s 2ms/sample - loss: 2.5640 - accuracy: 0.3824\n",
      "Epoch 97/100\n",
      "11356/11356 [==============================] - 21s 2ms/sample - loss: 2.5361 - accuracy: 0.3952\n",
      "Epoch 98/100\n",
      "11356/11356 [==============================] - 21s 2ms/sample - loss: 2.5301 - accuracy: 0.3869\n",
      "Epoch 99/100\n",
      "11356/11356 [==============================] - 22s 2ms/sample - loss: 2.5010 - accuracy: 0.3942\n",
      "Epoch 100/100\n",
      "11356/11356 [==============================] - 21s 2ms/sample - loss: 2.4886 - accuracy: 0.4014\n"
     ]
    },
    {
     "data": {
      "text/plain": [
       "<tensorflow.python.keras.callbacks.History at 0x64ab41650>"
      ]
     },
     "execution_count": 49,
     "metadata": {},
     "output_type": "execute_result"
    }
   ],
   "source": [
    "# Train the model\n",
    "\n",
    "model.fit(x, y, batch_size=256, epochs=100,verbose=1) # epochs: at least > 200"
   ]
  },
  {
   "cell_type": "markdown",
   "metadata": {
    "colab_type": "text",
    "id": "2_qqT-LMM0F3"
   },
   "source": [
    "# 6. Generating New Text"
   ]
  },
  {
   "cell_type": "code",
   "execution_count": 52,
   "metadata": {
    "colab": {},
    "colab_type": "code",
    "id": "oPO2UHJmWQUu"
   },
   "outputs": [],
   "source": [
    "from random import randint\n",
    "from pickle import dump, load\n",
    "from tensorflow.keras.models import load_model\n",
    "from tensorflow.keras.preprocessing.sequence import pad_sequences"
   ]
  },
  {
   "cell_type": "code",
   "execution_count": 53,
   "metadata": {
    "colab": {},
    "colab_type": "code",
    "id": "lCgB11oILsMO"
   },
   "outputs": [],
   "source": [
    "def generate_text(model, tokenizer, seq_len, seed_text, num_gen_words):\n",
    "    '''\n",
    "    INPUTS:\n",
    "    model : the model that was trained on text data\n",
    "    tokenizer : tokenizer that was fit on text data\n",
    "    seq_len : length of training sequence\n",
    "    seed_text : raw string text to serve as the seed\n",
    "    num_gen_words : number of words to be generated by the model\n",
    "    '''\n",
    "    \n",
    "    # Final Output\n",
    "    output_text = []\n",
    "    \n",
    "    # Intial Seed Sequence\n",
    "    # this is a sentence to add a word and chop off the first word\n",
    "    # and repet as many times as the number of words the user wants to generate\n",
    "    input_text = seed_text  \n",
    "    \n",
    "    # Create num_gen_words\n",
    "    for i in range(num_gen_words):\n",
    "        \n",
    "        # Take the first token (number)\n",
    "        encoded_text = tokenizer.texts_to_sequences([input_text])[0]\n",
    "        \n",
    "        # Pad sequences to our trained rate \n",
    "        pad_encoded = pad_sequences([encoded_text], maxlen=seq_len, truncating='pre')\n",
    "        \n",
    "        # Predict Class Probabilities for each word\n",
    "        pred_word_ind = model.predict_classes(pad_encoded, verbose=0)[0] # [0] returns index \n",
    "        \n",
    "        # Grab word\n",
    "        pred_word = tokenizer.index_word[pred_word_ind] \n",
    "        \n",
    "        # Update the sequence of input text (shifting one over with the new word)\n",
    "        input_text += ' ' + pred_word\n",
    "        \n",
    "        output_text.append(pred_word)\n",
    "        \n",
    "    # Make it look like a sentence.\n",
    "    return ' '.join(output_text)"
   ]
  },
  {
   "cell_type": "markdown",
   "metadata": {
    "colab_type": "text",
    "id": "RDvohqQ6M2nA"
   },
   "source": [
    "### Get a random seed sequence"
   ]
  },
  {
   "cell_type": "code",
   "execution_count": 57,
   "metadata": {
    "colab": {
     "base_uri": "https://localhost:8080/",
     "height": 374
    },
    "colab_type": "code",
    "id": "bKnFY1JHLym1",
    "outputId": "7353f7b5-45dd-4a62-e68d-6faa583b906f"
   },
   "outputs": [
    {
     "data": {
      "text/plain": [
       "'municipalité province de québec code postal ciaprès dénommée public et le fournisseur dûment identifié dans émis conformément aux modalités de portant le numéro numéro de lappel'"
      ]
     },
     "execution_count": 57,
     "metadata": {},
     "output_type": "execute_result"
    }
   ],
   "source": [
    "lines[500]"
   ]
  },
  {
   "cell_type": "code",
   "execution_count": 58,
   "metadata": {
    "colab": {},
    "colab_type": "code",
    "id": "2GRfTfQENCk1"
   },
   "outputs": [],
   "source": [
    "import random\n",
    "random.seed(101)\n",
    "random_pick = random.randint(0,len(lines))"
   ]
  },
  {
   "cell_type": "code",
   "execution_count": 59,
   "metadata": {
    "colab": {
     "base_uri": "https://localhost:8080/",
     "height": 374
    },
    "colab_type": "code",
    "id": "6ZB-cEtYNGkZ",
    "outputId": "c8ae5c42-0a80-410a-df39-6193e9639796"
   },
   "outputs": [
    {
     "data": {
      "text/plain": [
       "'montant forfaitaire de la garantie dexécution la caution consent à ce que public et le fournisseur puissent en tout temps faire des modifications au contrat sous'"
      ]
     },
     "execution_count": 59,
     "metadata": {},
     "output_type": "execute_result"
    }
   ],
   "source": [
    "random_seed_text = lines[random_pick]\n",
    "random_seed_text"
   ]
  },
  {
   "cell_type": "markdown",
   "metadata": {},
   "source": [
    "### Generate new text"
   ]
  },
  {
   "cell_type": "code",
   "execution_count": 61,
   "metadata": {
    "colab": {
     "base_uri": "https://localhost:8080/",
     "height": 34
    },
    "colab_type": "code",
    "id": "ByD07v2wNz-v",
    "outputId": "07ea7ddd-97ae-4712-9815-6e5433268be1"
   },
   "outputs": [
    {
     "data": {
      "text/plain": [
       "'due résulte avantageuses dans un délai de ct personne morale dans le contrat et à la période de ceuxci fiduciaire'"
      ]
     },
     "execution_count": 61,
     "metadata": {},
     "output_type": "execute_result"
    }
   ],
   "source": [
    "generate_text(model,tokenizer,seq_len,seed_text=seed_text,num_gen_words=20)"
   ]
  },
  {
   "cell_type": "markdown",
   "metadata": {
    "colab_type": "text",
    "id": "VUNh3PrIQio5"
   },
   "source": [
    "### Explore generated sequence"
   ]
  },
  {
   "cell_type": "code",
   "execution_count": 65,
   "metadata": {
    "colab": {
     "base_uri": "https://localhost:8080/",
     "height": 292
    },
    "colab_type": "code",
    "id": "nTnP70eEN6sY",
    "outputId": "8b595ca6-9ba1-4388-9816-9333ced4bf73"
   },
   "outputs": [
    {
     "name": "stdout",
     "output_type": "stream",
     "text": [
      "les conditions ou politiques de vente du FOURNISSEUR soient plus avantageuses pour l’ORGANISME PUBLIC. Droit applicable [Essentielle] Le Contrat s’interprète\n",
      "\n",
      "\n"
     ]
    }
   ],
   "source": [
    "for i,word in enumerate(data.split()):\n",
    "    if word == 'avantageuses':\n",
    "        print(' '.join(data.split()[i-10:i+10]))\n",
    "        print('\\n')"
   ]
  },
  {
   "cell_type": "markdown",
   "metadata": {
    "colab_type": "text",
    "id": "4BHaRXhLQ3rq"
   },
   "source": [
    "### How to save and reuse the model"
   ]
  },
  {
   "cell_type": "code",
   "execution_count": 54,
   "metadata": {
    "colab": {},
    "colab_type": "code",
    "id": "Jglac3p0QJTP"
   },
   "outputs": [],
   "source": [
    "model.save('Legal_LSTM_model.h5')"
   ]
  },
  {
   "cell_type": "code",
   "execution_count": 55,
   "metadata": {},
   "outputs": [],
   "source": [
    "# Save the tokenizer object, as well (vocabulary, word counts)\n",
    "\n",
    "dump(tokenizer, open('my_simple_tokenizer', 'wb'))"
   ]
  },
  {
   "cell_type": "code",
   "execution_count": 68,
   "metadata": {
    "colab": {},
    "colab_type": "code",
    "id": "8LdDSORLOigs"
   },
   "outputs": [],
   "source": [
    "from tensorflow.keras.models import load_model\n",
    "model = load_model('Legal_LSTM_model.h5')\n",
    "tokenizer =load(open('my_simple_tokenizer', 'rb'))"
   ]
  },
  {
   "cell_type": "code",
   "execution_count": 69,
   "metadata": {
    "colab": {},
    "colab_type": "code",
    "id": "3VPJaHY9OqD1"
   },
   "outputs": [
    {
     "data": {
      "text/plain": [
       "'due résulte avantageuses dans un délai de ct personne morale dans le contrat et à la période de ceuxci fiduciaire'"
      ]
     },
     "execution_count": 69,
     "metadata": {},
     "output_type": "execute_result"
    }
   ],
   "source": [
    "generate_text(model,tokenizer,seq_len,seed_text=seed_text,num_gen_words=20)"
   ]
  },
  {
   "cell_type": "code",
   "execution_count": null,
   "metadata": {
    "colab": {},
    "colab_type": "code",
    "id": "iRQr_m59Op8e"
   },
   "outputs": [],
   "source": []
  },
  {
   "cell_type": "code",
   "execution_count": null,
   "metadata": {
    "colab": {},
    "colab_type": "code",
    "id": "SzoJJ75TOp4e"
   },
   "outputs": [],
   "source": []
  }
 ],
 "metadata": {
  "accelerator": "GPU",
  "colab": {
   "name": "Text-generation-with-LSTM.ipynb",
   "provenance": []
  },
  "kernelspec": {
   "display_name": "Python 3",
   "language": "python",
   "name": "python3"
  },
  "language_info": {
   "codemirror_mode": {
    "name": "ipython",
    "version": 3
   },
   "file_extension": ".py",
   "mimetype": "text/x-python",
   "name": "python",
   "nbconvert_exporter": "python",
   "pygments_lexer": "ipython3",
   "version": "3.7.6"
  }
 },
 "nbformat": 4,
 "nbformat_minor": 1
}
