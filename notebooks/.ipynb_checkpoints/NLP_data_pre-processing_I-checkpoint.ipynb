{
 "cells": [
  {
   "cell_type": "markdown",
   "metadata": {},
   "source": [
    "# NLP data pre-processing I : converting .docx files into .txt files"
   ]
  },
  {
   "cell_type": "markdown",
   "metadata": {},
   "source": [
    "### 1. Rename Word documents to UUID names"
   ]
  },
  {
   "cell_type": "code",
   "execution_count": 4,
   "metadata": {},
   "outputs": [],
   "source": [
    "# If needed, check installed Python versions (different conda environments have different versions of Python) \n",
    "# and executable Python (where your system looks for pip-installed packages).\n",
    "# import sys\n",
    "# print(sys.path)\n",
    "# print(sys.executable)"
   ]
  },
  {
   "cell_type": "code",
   "execution_count": null,
   "metadata": {},
   "outputs": [],
   "source": [
    "# Install docx2txt package where your executable Python is. \n",
    "# Ex:\n",
    "#!~/anaconda3/bin/python -m pip install docx2txt"
   ]
  },
  {
   "cell_type": "code",
   "execution_count": 17,
   "metadata": {},
   "outputs": [
    {
     "name": "stdout",
     "output_type": "stream",
     "text": [
      "docx2txt==0.8\n"
     ]
    }
   ],
   "source": [
    "# Check for installed dependecies\n",
    "\n",
    "import pkg_resources\n",
    "import types\n",
    "def get_imports():\n",
    "    for name, val in globals().items():\n",
    "        if isinstance(val, types.ModuleType):\n",
    "            # Split ensures you get root package, \n",
    "            # not just imported function\n",
    "            name = val.__name__.split(\".\")[0]\n",
    "\n",
    "        elif isinstance(val, type):\n",
    "            name = val.__module__.split(\".\")[0]\n",
    "\n",
    "        # Some packages are weird and have different\n",
    "        # imported names vs. system/pip names. Unfortunately,\n",
    "        # there is no systematic way to get pip names from\n",
    "        # a package's imported name. You'll have to had\n",
    "        # exceptions to this list manually!\n",
    "        poorly_named_packages = {\n",
    "            \"PIL\": \"Pillow\",\n",
    "            \"sklearn\": \"scikit-learn\"\n",
    "        }\n",
    "        if name in poorly_named_packages.keys():\n",
    "            name = poorly_named_packages[name]\n",
    "\n",
    "        yield name\n",
    "imports = list(set(get_imports()))\n",
    "\n",
    "# The only way I found to get the version of the root package\n",
    "# from only the name of the package is to cross-check the names \n",
    "# of installed packages vs. imported packages\n",
    "requirements = []\n",
    "for m in pkg_resources.working_set:\n",
    "    if m.project_name in imports and m.project_name!=\"pip\":\n",
    "        requirements.append((m.project_name, m.version))\n",
    "\n",
    "for r in requirements:\n",
    "    print(\"{}=={}\".format(*r))"
   ]
  },
  {
   "cell_type": "code",
   "execution_count": 18,
   "metadata": {},
   "outputs": [],
   "source": [
    "import os\n",
    "import uuid\n",
    "import shutil\n",
    "import docx2txt"
   ]
  },
  {
   "cell_type": "code",
   "execution_count": null,
   "metadata": {},
   "outputs": [],
   "source": [
    "# To start, your directory has a single \"source_files\" directory with document folders containing Word files. \n",
    "\n",
    "# NOTE: any zipped Word files should be unzipped in the same directory(subdirectory), before proceeding."
   ]
  },
  {
   "cell_type": "code",
   "execution_count": 19,
   "metadata": {},
   "outputs": [],
   "source": [
    "def create_directory_if_not_exists(targetDir):\n",
    "    if not os.path.exists(targetDir):\n",
    "        os.mkdir(targetDir)\n",
    "        print(\"Directory '\" + targetDir +  \"' created \")\n",
    "    else:    \n",
    "        print(\"Directory '\" + targetDir +  \"' already exists\")\n",
    "    return os.path.join(os.getcwd(), targetDir)\n",
    "\n",
    "\n",
    "def copytree(src, dst, symlinks=False, ignore=None):\n",
    "    for item in os.listdir(src):\n",
    "        s = os.path.join(src, item)\n",
    "        d = os.path.join(dst, item)\n",
    "        if os.path.isdir(s):\n",
    "            shutil.copytree(s, d, symlinks, ignore)\n",
    "        else:\n",
    "            shutil.copy2(s, d)\n",
    "                    \n",
    "                    \n",
    "def count_files(folder):\n",
    "    count = 0\n",
    "    for file in os.listdir(os.path.join(os.getcwd(), folder)):\n",
    "        count += 1\n",
    "    return count\n",
    "    \n",
    "\n",
    "def check_if_dir_exists(targetDir):\n",
    "    if not os.path.exists(targetDir):\n",
    "        print(\"Directory '\" + targetDir +  \"' does not exist.\")\n",
    "    else:    \n",
    "        print(\"Directory '\" + targetDir +  \"' exists.\")"
   ]
  },
  {
   "cell_type": "code",
   "execution_count": 21,
   "metadata": {},
   "outputs": [
    {
     "name": "stdout",
     "output_type": "stream",
     "text": [
      "Directory 'temp1' created \n"
     ]
    }
   ],
   "source": [
    "# 1. Duplicate the \"source_files\" directory\n",
    "\n",
    "path_parent = os.path.dirname(os.getcwd())\n",
    "\n",
    "source_dir = os.path.join(path_parent, \"source_files\")\n",
    "target_dir = create_directory_if_not_exists(\"temp1\")\n",
    "\n",
    "copytree(source_dir, target_dir)"
   ]
  },
  {
   "cell_type": "code",
   "execution_count": 22,
   "metadata": {},
   "outputs": [
    {
     "name": "stdout",
     "output_type": "stream",
     "text": [
      "Directory 'temp2' created \n"
     ]
    }
   ],
   "source": [
    "# 2. Give docx files UUID names and place them in temp2 directory. \n",
    "\n",
    "source_dir = os.path.join(os.getcwd(), \"temp1\")\n",
    "target_dir = create_directory_if_not_exists(\"temp2\")\n",
    "\n",
    "for foldername in os.listdir(source_dir):\n",
    "    \n",
    "    # Skip hidden \".DS_Store\" files in MacOS\n",
    "    if foldername[0] != \".\":  \n",
    "        subdirectory = os.path.join(os.getcwd(), \"temp1\", foldername)\n",
    "        \n",
    "        for filename in os.listdir(subdirectory):\n",
    "            if filename[0] != \".\":\n",
    "                file, extension = os.path.splitext(filename)\n",
    "                # replace file name with uuid-name \n",
    "                unique_filename = str(uuid.uuid4()) + extension\n",
    "                # rename original file with uuid-name and move into 'temp2' directory\n",
    "                os.rename(os.path.join(subdirectory,  filename), os.path.join(target_dir, unique_filename))"
   ]
  },
  {
   "cell_type": "code",
   "execution_count": 23,
   "metadata": {},
   "outputs": [
    {
     "name": "stdout",
     "output_type": "stream",
     "text": [
      "65\n"
     ]
    }
   ],
   "source": [
    "print(count_files(target_dir))"
   ]
  },
  {
   "cell_type": "markdown",
   "metadata": {},
   "source": [
    "### 2. Create simple text files from Word documents"
   ]
  },
  {
   "cell_type": "code",
   "execution_count": 24,
   "metadata": {},
   "outputs": [
    {
     "name": "stdout",
     "output_type": "stream",
     "text": [
      "Directory '/Users/monty/working_dir/Edilex/text_files' created \n",
      "4918e660-ebdc-459e-8cfb-283340e52042.txt\n",
      "781c8bc1-c723-42fa-a571-720c57980096.txt\n",
      "b1988128-eb2c-4ea9-a418-f40becfde2e2.txt\n",
      "5774a3d1-0a69-4078-a6c8-40082582e879.txt\n",
      "07073783-a0ec-4104-8599-b39efbc7b73d.txt\n",
      "9f85a774-5523-43bb-8d8c-6590e5a25720.txt\n",
      "97fcb5e7-2afc-4808-8122-032c34e2fdc2.txt\n",
      "25b829d0-efcf-4f6b-9456-d40314de79c7.txt\n",
      "ae72205d-4e3b-4bf4-b95f-fa621eb85210.txt\n",
      "08964fb8-a318-449b-ae1f-2442db4b8b08.txt\n",
      "96179583-d648-4a25-b68d-09b8e6155f93.txt\n",
      "a2943fb6-64d9-466f-81ec-fb075129e0ee.txt\n",
      "2a246845-f172-4bf0-94ea-1a7848f4b6a8.txt\n",
      "401351a0-602a-4d01-9de1-30303aa23317.txt\n",
      "01c6bdd2-79eb-46cd-b9ce-9544c255cd29.txt\n",
      "938e26ea-1929-4ef5-a0e9-0dae5171c67c.txt\n",
      "ecf5a254-ba1d-43b3-93f3-73a6cfa5e8e9.txt\n",
      "c014689f-d7d1-4de7-b73f-05e97906d179.txt\n",
      "abfc9d1d-8757-4adf-8163-a1f1f4dcc0cd.txt\n",
      "5ed13291-4808-46c0-a614-6d6c93d1bbab.txt\n",
      "e143b00f-9606-4d52-90ee-7de6f2e77512.txt\n",
      "4e35b141-7214-47cb-9b21-aa353b294899.txt\n",
      "da3304c7-1c07-47e6-ae51-c118c5ace442.txt\n",
      "07d3cd94-e071-446f-a43e-9b3088fd57cc.txt\n",
      "4a8830e3-7717-4bc9-a5fb-77df1c0a35a6.txt\n",
      "28f5b8b8-dec0-4ad0-b3cf-a37360d74422.txt\n",
      "ec05470b-aca5-4aff-bc65-35cfec625b8a.txt\n",
      "5f7f8f46-4216-4f48-9fdf-39eb1a39adfd.txt\n",
      "f607d9e5-5710-4ca9-a56a-ebff975df78b.txt\n",
      "3c4de900-040b-488f-a8fa-b922b48b11a0.txt\n",
      "24253b66-251b-4a94-86da-7d9330e6f7e6.txt\n",
      "02cf1532-91fe-483b-a1a1-7ed2293b935f.txt\n",
      "46378086-a86a-4258-a432-e908f478836f.txt\n",
      "b0dd8e4d-c33f-4d39-8a5b-5c83d516543f.txt\n",
      "b67997b0-5652-4a8d-b279-4a795e82ee29.txt\n",
      "17ca0d06-5dd4-43f0-af26-bc2c6b78bd0b.txt\n",
      "ba1f55b7-b4a0-45c8-b36d-61a0ccf86895.txt\n",
      "70e87f9b-9870-4cd2-b78c-8fc34d8f7403.txt\n",
      "ab7002da-1b1d-41c8-9c9a-de7ba012998c.txt\n",
      "7795c7c8-d7f2-4475-a738-91e49583a578.txt\n",
      "abe83004-458e-4bef-809a-608b8fed0b9b.txt\n",
      "faa8778c-a0e8-434e-a90c-b95b945faed9.txt\n",
      "f826eb79-a280-4a99-adda-b59d46b0e0e1.txt\n",
      "7e96a662-5824-4962-85cc-bea1fa671640.txt\n",
      "430902c5-1814-48ff-bcc0-66de1e257eed.txt\n",
      "0ee60354-d604-4aa1-87fa-3ecabbee1a83.txt\n",
      "11a43170-7ad7-466b-89f2-6f3888a3cc30.txt\n",
      "9e8115b9-67c8-4bf7-a69e-a1db04d1be85.txt\n",
      "1ca3bb4e-3d84-4f3b-8aae-391bc48b7147.txt\n",
      "517f2636-90b3-4cab-ae81-172b77a89b32.txt\n",
      "01878024-11ef-4236-8401-ff9ab7190d99.txt\n",
      "ed17b924-7ac0-42c7-aedc-b8540d54f69d.txt\n",
      "0460bf1e-74a5-4803-94c5-53e388e00869.txt\n",
      "ea3a6e93-c31b-49aa-be3c-862c5a619fbe.txt\n",
      "ec7878c1-cb49-49a1-8100-ae859564da09.txt\n",
      "1d45aa42-4cd2-4399-b5f8-ee6816d87056.txt\n",
      "f6db9885-065b-4611-8ea0-878aa6e5064b.txt\n",
      "15b3bf23-2b4a-4692-b37e-bcc1848cba06.txt\n",
      "2f7789f7-cf33-450c-b340-9de5f03124c3.txt\n",
      "647aba2c-050e-4946-a404-0b330f93cd47.txt\n",
      "e0744249-38cb-4bee-b684-abc480a4de0a.txt\n",
      "12fd132e-8e4b-437f-96e8-07aa49238d65.txt\n",
      "a9834bb9-8d63-4217-91fd-06fa804f6298.txt\n",
      "96bab69b-66c5-431d-af65-b99f3e5397d8.txt\n",
      "6dd7acdb-5241-4b44-94af-3b30e091e3c9.txt\n"
     ]
    }
   ],
   "source": [
    "source_dir = os.path.join(os.getcwd(), \"temp2\")\n",
    "\n",
    "path_parent = os.path.dirname(os.getcwd())\n",
    "target_dir = create_directory_if_not_exists(os.path.join(path_parent, \"text_files\"))\n",
    "\n",
    "for process_file in  os.listdir(source_dir):\n",
    "    \n",
    "    if process_file[0] != \".\":\n",
    "        file, _ = os.path.splitext(process_file)\n",
    "\n",
    "        # Create a new text file name by concatenating the .txt extension to file UUID\n",
    "        dest_file = file + '.txt'\n",
    "        print(dest_file)\n",
    "        \n",
    "        #extract text from the file\n",
    "        content = docx2txt.process(os.path.join(source_dir, process_file))\n",
    "\n",
    "        write_text_file = open(os.path.join(target_dir, dest_file), \"w+\")\n",
    "\n",
    "        #write the content and close the newly created file\n",
    "        write_text_file.write(content)\n",
    "        write_text_file.close()"
   ]
  },
  {
   "cell_type": "code",
   "execution_count": 25,
   "metadata": {},
   "outputs": [
    {
     "name": "stdout",
     "output_type": "stream",
     "text": [
      "65\n"
     ]
    }
   ],
   "source": [
    "print(count_files(target_dir))"
   ]
  },
  {
   "cell_type": "code",
   "execution_count": 26,
   "metadata": {},
   "outputs": [],
   "source": [
    "# 3. Delete temp1 and temp2 directories.\n",
    "dir1 = os.path.join(os.getcwd(), \"temp1\")\n",
    "dir2 = os.path.join(os.getcwd(), \"temp2\")\n",
    "shutil.rmtree(dir1)\n",
    "shutil.rmtree(dir2)"
   ]
  },
  {
   "cell_type": "code",
   "execution_count": 27,
   "metadata": {},
   "outputs": [
    {
     "name": "stdout",
     "output_type": "stream",
     "text": [
      "Directory 'temp1' does not exist.\n",
      "Directory 'temp2' does not exist.\n"
     ]
    }
   ],
   "source": [
    "check_if_dir_exists(\"temp1\")\n",
    "check_if_dir_exists(\"temp2\")"
   ]
  },
  {
   "cell_type": "code",
   "execution_count": null,
   "metadata": {},
   "outputs": [],
   "source": []
  }
 ],
 "metadata": {
  "kernelspec": {
   "display_name": "Python 3",
   "language": "python",
   "name": "python3"
  },
  "language_info": {
   "codemirror_mode": {
    "name": "ipython",
    "version": 3
   },
   "file_extension": ".py",
   "mimetype": "text/x-python",
   "name": "python",
   "nbconvert_exporter": "python",
   "pygments_lexer": "ipython3",
   "version": "3.7.6"
  }
 },
 "nbformat": 4,
 "nbformat_minor": 4
}
